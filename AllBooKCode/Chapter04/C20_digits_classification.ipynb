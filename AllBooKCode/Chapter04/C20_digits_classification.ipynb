{
 "cells": [
  {
   "cell_type": "markdown",
   "id": "4f50d89c-0b3b-4f18-98c3-764f16b98fa3",
   "metadata": {},
   "source": [
    "## 1.载入数据集"
   ]
  },
  {
   "cell_type": "code",
   "execution_count": 1,
   "id": "6d2c9b60-862a-44e3-977c-831a4a77e5a1",
   "metadata": {},
   "outputs": [],
   "source": [
    "\n",
    "from sklearn.datasets import load_digits\n",
    "from sklearn.preprocessing import StandardScaler\n",
    "from sklearn.linear_model import SGDClassifier\n",
    "from sklearn.model_selection import KFold, train_test_split\n",
    "from sklearn.metrics import classification_report\n",
    "import matplotlib.pyplot as plt\n",
    "import numpy as np\n",
    "\n",
    "\n",
    "def load_data():\n",
    "    data = load_digits()\n",
    "    x, y = data.data, data.target\n",
    "    x_train, x_test, y_train, y_test = \\\n",
    "        train_test_split(x, y, test_size=0.3, random_state=20)\n",
    "    ss = StandardScaler()\n",
    "    x_train = ss.fit_transform(x_train)\n",
    "    x_test = ss.transform(x_test)\n",
    "    return x_train, x_test, y_train, y_test"
   ]
  },
  {
   "cell_type": "markdown",
   "id": "2a17ce5c-6a61-42d1-9123-96a19a8ee620",
   "metadata": {},
   "source": [
    "## 2.可视化样本"
   ]
  },
  {
   "cell_type": "code",
   "execution_count": 2,
   "id": "7ad2486b-2520-445c-ada0-f845050a3c76",
   "metadata": {},
   "outputs": [
    {
     "data": {
      "image/png": "[encoded data removed]",
      "text/plain": [
       "<Figure size 640x480 with 15 Axes>"
      ]
     },
     "metadata": {},
     "output_type": "display_data"
    }
   ],
   "source": [
    "def visualization(x):\n",
    "    images = x.reshape(-1, 8, 8)  # reshape成一张图片的形状\n",
    "    fig, ax = plt.subplots(3, 5)\n",
    "    for i, axi in enumerate(ax.flat):\n",
    "        image = images[i]\n",
    "        # axi.imshow(image,cmap='gray')\n",
    "        axi.imshow(image)\n",
    "        axi.set(xticks=[], yticks=[])\n",
    "    plt.tight_layout()\n",
    "    plt.show()\n",
    "\n",
    "x_train, x_test, y_train, y_test = load_data()\n",
    "visualization(x_train)"
   ]
  },
  {
   "cell_type": "markdown",
   "id": "55f57f6e-09ae-4786-9874-a056a4c90233",
   "metadata": {},
   "source": [
    "## 3.交叉验证模型选择"
   ]
  },
  {
   "cell_type": "code",
   "execution_count": 3,
   "id": "82c945e4-3345-463f-883d-96124e2a512c",
   "metadata": {},
   "outputs": [],
   "source": [
    "def model_selection(X, y, k=5):\n",
    "    learning_rates = [0.001, 0.03, 0.01, 0.03, 0.1, 0.3, 1, 3]\n",
    "    penalties = [0, 0.01, 0.03, 0.1, 0.3, 1, 3]\n",
    "    all_models = []\n",
    "    model_id = 1\n",
    "    for learning_rate in learning_rates:\n",
    "        for penalty in penalties:\n",
    "            print(f\"正在训练模型 {model_id}: learning_rate = {learning_rate}, penalty = {penalty}\")\n",
    "            model = SGDClassifier(loss='log_loss', penalty='l2', learning_rate='constant',\n",
    "                                  eta0=learning_rate, alpha=penalty)\n",
    "            kf = KFold(n_splits=k, shuffle=True, random_state=10)\n",
    "            model_score = []\n",
    "            for train_index, dev_index in kf.split(X):\n",
    "                X_train, X_dev = X[train_index], X[dev_index]\n",
    "                y_train, y_dev = y[train_index], y[dev_index]\n",
    "                model.fit(X_train, y_train)\n",
    "                s = model.score(X_dev, y_dev)\n",
    "                model_score.append(s)\n",
    "            model_id += 1\n",
    "            all_models.append([np.mean(model_score), learning_rate, penalty])\n",
    "    print(\"最优模型: \", sorted(all_models, reverse=True, key=lambda x: x[0])[0])\n",
    "\n"
   ]
  },
  {
   "cell_type": "markdown",
   "id": "e01349af-deb4-4261-98ea-ded4adc3ac84",
   "metadata": {},
   "source": [
    "## 4.运行结果模型选择"
   ]
  },
  {
   "cell_type": "code",
   "execution_count": 4,
   "id": "e17a1b66-8e0b-4d8a-bcc8-00978868794b",
   "metadata": {},
   "outputs": [
    {
     "name": "stdout",
     "output_type": "stream",
     "text": [
      "正在训练模型 1: learning_rate = 0.001, penalty = 0\n",
      "正在训练模型 2: learning_rate = 0.001, penalty = 0.01\n",
      "正在训练模型 3: learning_rate = 0.001, penalty = 0.03\n",
      "正在训练模型 4: learning_rate = 0.001, penalty = 0.1\n",
      "正在训练模型 5: learning_rate = 0.001, penalty = 0.3\n",
      "正在训练模型 6: learning_rate = 0.001, penalty = 1\n",
      "正在训练模型 7: learning_rate = 0.001, penalty = 3\n",
      "正在训练模型 8: learning_rate = 0.03, penalty = 0\n",
      "正在训练模型 9: learning_rate = 0.03, penalty = 0.01\n",
      "正在训练模型 10: learning_rate = 0.03, penalty = 0.03\n",
      "正在训练模型 11: learning_rate = 0.03, penalty = 0.1\n",
      "正在训练模型 12: learning_rate = 0.03, penalty = 0.3\n",
      "正在训练模型 13: learning_rate = 0.03, penalty = 1\n",
      "正在训练模型 14: learning_rate = 0.03, penalty = 3\n",
      "正在训练模型 15: learning_rate = 0.01, penalty = 0\n",
      "正在训练模型 16: learning_rate = 0.01, penalty = 0.01\n",
      "正在训练模型 17: learning_rate = 0.01, penalty = 0.03\n",
      "正在训练模型 18: learning_rate = 0.01, penalty = 0.1\n",
      "正在训练模型 19: learning_rate = 0.01, penalty = 0.3\n",
      "正在训练模型 20: learning_rate = 0.01, penalty = 1\n",
      "正在训练模型 21: learning_rate = 0.01, penalty = 3\n",
      "正在训练模型 22: learning_rate = 0.03, penalty = 0\n",
      "正在训练模型 23: learning_rate = 0.03, penalty = 0.01\n",
      "正在训练模型 24: learning_rate = 0.03, penalty = 0.03\n",
      "正在训练模型 25: learning_rate = 0.03, penalty = 0.1\n",
      "正在训练模型 26: learning_rate = 0.03, penalty = 0.3\n",
      "正在训练模型 27: learning_rate = 0.03, penalty = 1\n",
      "正在训练模型 28: learning_rate = 0.03, penalty = 3\n",
      "正在训练模型 29: learning_rate = 0.1, penalty = 0\n",
      "正在训练模型 30: learning_rate = 0.1, penalty = 0.01\n",
      "正在训练模型 31: learning_rate = 0.1, penalty = 0.03\n",
      "正在训练模型 32: learning_rate = 0.1, penalty = 0.1\n",
      "正在训练模型 33: learning_rate = 0.1, penalty = 0.3\n",
      "正在训练模型 34: learning_rate = 0.1, penalty = 1\n",
      "正在训练模型 35: learning_rate = 0.1, penalty = 3\n",
      "正在训练模型 36: learning_rate = 0.3, penalty = 0\n",
      "正在训练模型 37: learning_rate = 0.3, penalty = 0.01\n",
      "正在训练模型 38: learning_rate = 0.3, penalty = 0.03\n",
      "正在训练模型 39: learning_rate = 0.3, penalty = 0.1\n",
      "正在训练模型 40: learning_rate = 0.3, penalty = 0.3\n",
      "正在训练模型 41: learning_rate = 0.3, penalty = 1\n",
      "正在训练模型 42: learning_rate = 0.3, penalty = 3\n",
      "正在训练模型 43: learning_rate = 1, penalty = 0\n",
      "正在训练模型 44: learning_rate = 1, penalty = 0.01\n",
      "正在训练模型 45: learning_rate = 1, penalty = 0.03\n",
      "正在训练模型 46: learning_rate = 1, penalty = 0.1\n",
      "正在训练模型 47: learning_rate = 1, penalty = 0.3\n",
      "正在训练模型 48: learning_rate = 1, penalty = 1\n",
      "正在训练模型 49: learning_rate = 1, penalty = 3\n",
      "正在训练模型 50: learning_rate = 3, penalty = 0\n",
      "正在训练模型 51: learning_rate = 3, penalty = 0.01\n",
      "正在训练模型 52: learning_rate = 3, penalty = 0.03\n",
      "正在训练模型 53: learning_rate = 3, penalty = 0.1\n",
      "正在训练模型 54: learning_rate = 3, penalty = 0.3\n",
      "正在训练模型 55: learning_rate = 3, penalty = 1\n",
      "正在训练模型 56: learning_rate = 3, penalty = 3\n",
      "最优模型:  [0.9562290520457852, 0.01, 0]\n"
     ]
    }
   ],
   "source": [
    "if __name__ == '__main__':\n",
    "    x_train, x_test, y_train, y_test = load_data()\n",
    "    model_selection(x_train, y_train)"
   ]
  },
  {
   "cell_type": "code",
   "execution_count": 5,
   "id": "23ddfe09-3908-4397-8d77-4141db02fa7d",
   "metadata": {},
   "outputs": [
    {
     "name": "stdout",
     "output_type": "stream",
     "text": [
      "              precision    recall  f1-score   support\n",
      "\n",
      "           0       0.98      1.00      0.99        50\n",
      "           1       0.96      0.96      0.96        56\n",
      "           2       1.00      0.95      0.98        44\n",
      "           3       0.98      0.90      0.94        63\n",
      "           4       0.94      0.97      0.95        60\n",
      "           5       0.93      0.98      0.95        51\n",
      "           6       1.00      0.97      0.98        59\n",
      "           7       0.96      0.96      0.96        53\n",
      "           8       0.92      0.94      0.93        52\n",
      "           9       0.93      0.96      0.94        52\n",
      "\n",
      "    accuracy                           0.96       540\n",
      "   macro avg       0.96      0.96      0.96       540\n",
      "weighted avg       0.96      0.96      0.96       540\n",
      "\n"
     ]
    }
   ],
   "source": [
    "if __name__ == '__main__':\n",
    "    model = SGDClassifier(loss='log_loss', penalty='l2', learning_rate='constant', eta0=0.03, alpha=0.0)\n",
    "    model.fit(x_train, y_train)\n",
    "    y_pred = model.predict(x_test)\n",
    "    print(classification_report(y_test, y_pred))#"
   ]
  }
 ],
 "metadata": {
  "kernelspec": {
   "display_name": "Python 3 (ipykernel)",
   "language": "python",
   "name": "python3"
  },
  "language_info": {
   "codemirror_mode": {
    "name": "ipython",
    "version": 3
   },
   "file_extension": ".py",
   "mimetype": "text/x-python",
   "name": "python",
   "nbconvert_exporter": "python",
   "pygments_lexer": "ipython3",
   "version": "3.11.8"
  }
 },
 "nbformat": 4,
 "nbformat_minor": 5
}
