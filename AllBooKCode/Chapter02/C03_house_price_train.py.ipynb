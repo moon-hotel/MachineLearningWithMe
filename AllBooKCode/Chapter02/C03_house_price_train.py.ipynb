{
 "cells": [
  {
   "cell_type": "markdown",
   "id": "99652168-7a42-4502-b0eb-5f226fa9c900",
   "metadata": {},
   "source": [
    "# 1.构建数据集"
   ]
  },
  {
   "cell_type": "code",
   "execution_count": 1,
   "id": "c030a4ee-1ed9-4c19-86c5-fa0d1d1f5b3e",
   "metadata": {},
   "outputs": [],
   "source": [
    "from sklearn.datasets import fetch_california_housing\n",
    "from sklearn.linear_model import LinearRegression\n",
    "\n",
    "\n",
    "def load_data():\n",
    "    data = fetch_california_housing()\n",
    "    x = data.data\n",
    "    y = data.target\n",
    "    return x, y\n"
   ]
  },
  {
   "cell_type": "markdown",
   "id": "83e94990-70e2-4713-8928-2c798672f268",
   "metadata": {},
   "source": [
    "# 2.训练模型"
   ]
  },
  {
   "cell_type": "code",
   "execution_count": 2,
   "id": "601c572d-9579-41a0-9092-fd9a3ca9e9d5",
   "metadata": {},
   "outputs": [
    {
     "name": "stdout",
     "output_type": "stream",
     "text": [
      "X的形状： (20640, 8)\n",
      "权重为： [ 4.36693293e-01  9.43577803e-03 -1.07322041e-01  6.45065694e-01\n",
      " -3.97638942e-06 -3.78654265e-03 -4.21314378e-01 -4.34513755e-01]\n",
      "偏置为： -36.94192020718441\n",
      "第12个房屋的预测价格： [2.13732285]\n",
      "第12个房屋的真实价格： 2.135\n"
     ]
    }
   ],
   "source": [
    "def train(x, y):\n",
    "    print('X的形状：', x.shape)\n",
    "    model = LinearRegression()\n",
    "    model.fit(x, y)\n",
    "    print(\"权重为：\", model.coef_)\n",
    "    print(\"偏置为：\", model.intercept_)\n",
    "    print(\"第12个房屋的预测价格：\", model.predict(x[12, :].reshape(1, -1)))\n",
    "    print(\"第12个房屋的真实价格：\", y[12])\n",
    "\n",
    "\n",
    "if __name__ == '__main__':\n",
    "    x, y = load_data()\n",
    "    train(x, y)\n"
   ]
  }
 ],
 "metadata": {
  "kernelspec": {
   "display_name": "Python 3 (ipykernel)",
   "language": "python",
   "name": "python3"
  },
  "language_info": {
   "codemirror_mode": {
    "name": "ipython",
    "version": 3
   },
   "file_extension": ".py",
   "mimetype": "text/x-python",
   "name": "python",
   "nbconvert_exporter": "python",
   "pygments_lexer": "ipython3",
   "version": "3.11.8"
  }
 },
 "nbformat": 4,
 "nbformat_minor": 5
}
