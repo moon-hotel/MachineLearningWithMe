{
 "cells": [
  {
   "cell_type": "markdown",
   "id": "6846d0da-8b7a-49a8-9ba0-870c557f240a",
   "metadata": {},
   "source": [
    "# 1.定义评价指标"
   ]
  },
  {
   "cell_type": "code",
   "execution_count": 1,
   "id": "05050299-ce6c-4716-8ca2-44bdab26e974",
   "metadata": {},
   "outputs": [],
   "source": [
    "from sklearn.datasets import fetch_california_housing\n",
    "from sklearn.linear_model import LinearRegression\n",
    "import numpy as np\n",
    "\n",
    "\n",
    "def MAE(y, y_pre):\n",
    "    return np.mean(np.abs(y - y_pre))\n",
    "\n",
    "\n",
    "def MSE(y, y_pre):\n",
    "    return np.mean((y - y_pre) ** 2)\n",
    "\n",
    "\n",
    "def RMSE(y, y_pre):\n",
    "    return np.sqrt(MSE(y, y_pre))\n",
    "\n",
    "\n",
    "def MAPE(y, y_pre):\n",
    "    return np.mean(np.abs((y - y_pre) / y))\n",
    "\n",
    "\n",
    "def R2(y, y_pre):\n",
    "    u = np.sum((y - y_pre) ** 2)\n",
    "    v = np.sum((y - np.mean(y)) ** 2)\n",
    "    return 1 - (u / v)"
   ]
  },
  {
   "cell_type": "markdown",
   "id": "2d2d62f6-e8eb-4c0b-84ee-2f72c86fdd7b",
   "metadata": {},
   "source": [
    "# 2. 载入数据"
   ]
  },
  {
   "cell_type": "code",
   "execution_count": 4,
   "id": "051c35e5-3915-4b8f-a8da-f93ca2af6f9f",
   "metadata": {},
   "outputs": [
    {
     "name": "stdout",
     "output_type": "stream",
     "text": [
      "[[   8.3252       41.            6.98412698 ...    2.55555556\n",
      "    37.88       -122.23      ]\n",
      " [   8.3014       21.            6.23813708 ...    2.10984183\n",
      "    37.86       -122.22      ]\n",
      " [   7.2574       52.            8.28813559 ...    2.80225989\n",
      "    37.85       -122.24      ]\n",
      " ...\n",
      " [   1.7          17.            5.20554273 ...    2.3256351\n",
      "    39.43       -121.22      ]\n",
      " [   1.8672       18.            5.32951289 ...    2.12320917\n",
      "    39.43       -121.32      ]\n",
      " [   2.3886       16.            5.25471698 ...    2.61698113\n",
      "    39.37       -121.24      ]] [4.526 3.585 3.521 ... 0.923 0.847 0.894]\n"
     ]
    }
   ],
   "source": [
    "def load_data():\n",
    "    data = fetch_california_housing()\n",
    "    x = data.data\n",
    "    y = data.target\n",
    "    return x, y\n",
    "\n",
    "x,y = load_data()\n",
    "print(x,y)"
   ]
  },
  {
   "cell_type": "markdown",
   "id": "dad9e289-67ee-478d-915a-1ecc471627f5",
   "metadata": {},
   "source": [
    "# 3.训练模型和验证"
   ]
  },
  {
   "cell_type": "code",
   "execution_count": 5,
   "id": "95ce718e-da85-4447-b288-565a81d0fa94",
   "metadata": {},
   "outputs": [
    {
     "name": "stdout",
     "output_type": "stream",
     "text": [
      "model score:  0.606232685199805\n",
      "MAE:  0.5311643817546476\n",
      "MSE:  0.5243209861846072\n",
      "MAPE:  0.31715404597233426\n",
      "R^2:  0.606232685199805\n"
     ]
    }
   ],
   "source": [
    "def train(x, y):\n",
    "    model = LinearRegression()\n",
    "    model.fit(x, y)\n",
    "    y_pre = model.predict(x)\n",
    "    print(\"model score: \", model.score(x, y))\n",
    "    print(\"MAE: \", MAE(y, y_pre))\n",
    "    print(\"MSE: \", MSE(y, y_pre))\n",
    "    print(\"MAPE: \", MAPE(y, y_pre))\n",
    "    print(\"R^2: \", R2(y, y_pre))\n",
    "\n",
    "\n",
    "if __name__ == '__main__':\n",
    "    x, y = load_data()\n",
    "    train(x, y)\n"
   ]
  }
 ],
 "metadata": {
  "kernelspec": {
   "display_name": "Python 3 (ipykernel)",
   "language": "python",
   "name": "python3"
  },
  "language_info": {
   "codemirror_mode": {
    "name": "ipython",
    "version": 3
   },
   "file_extension": ".py",
   "mimetype": "text/x-python",
   "name": "python",
   "nbconvert_exporter": "python",
   "pygments_lexer": "ipython3",
   "version": "3.11.8"
  }
 },
 "nbformat": 4,
 "nbformat_minor": 5
}
