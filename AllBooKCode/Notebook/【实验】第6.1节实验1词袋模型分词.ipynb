{
 "cells": [
  {
   "cell_type": "markdown",
   "id": "b3d71d02-e30f-4b4a-8c65-608736f42368",
   "metadata": {},
   "source": [
    "## 1. 分词"
   ]
  },
  {
   "cell_type": "code",
   "execution_count": 7,
   "id": "c6536154-6a3d-4841-bf19-721db49b605d",
   "metadata": {},
   "outputs": [
    {
     "name": "stdout",
     "output_type": "stream",
     "text": [
      "['央视网/消息/当地/时间/日/美国国会参议院/以票/对票/的/结果/通过/了/一项/动议/允许/国会/在/总统/以/国家/安全/为/由/决定/征收/关税/时/发挥/一定/的/限制/作用/这项/动议/主要/针对/加征/钢铝/关税/的/调查/目前/尚/不/具有/约束力/动议/的/主要/发起者/共和党/参议员/鲍勃/科克/说/日/的/投票/只是/一/小步/他会/继续/推动/进行/有/约束力/的/投票']\n"
     ]
    }
   ],
   "source": [
    "from collections import Counter\n",
    "import jieba\n",
    "import re\n",
    "\n",
    "\n",
    "def cutWords(s, cut_all=False):\n",
    "    cut_words = []\n",
    "    s = re.sub(\"[A-Za-z0-9\\：\\·\\—\\，\\。\\“ \\”]\", \"\", s)\n",
    "    seg_list = jieba.cut(s, cut_all=cut_all)\n",
    "    cut_words.append(\"/\".join(seg_list))\n",
    "    print(cut_words)\n",
    "\n",
    "if __name__ == '__main__':\n",
    "    s = \"央视网消息：当地时间11日，美国国会参议院以88票对11票的结果通过了一项动议，允许国会“在总统以国家安全为由决定征收关税时”发挥一定的限制作用。这项动议主要针对加征钢铝关税的232调查，目前尚不具有约束力。动议的主要发起者——共和党参议员鲍勃·科克说，11日的投票只是一小步，他会继续推动进行有约束力的投票。\"\n",
    "    cutWords(s, cut_all=False)"
   ]
  },
  {
   "cell_type": "markdown",
   "id": "9c006baa-4d6b-409a-b8c6-71bcf6baa935",
   "metadata": {},
   "source": [
    "## 2. 分词且按词频构建词表"
   ]
  },
  {
   "cell_type": "code",
   "execution_count": 5,
   "id": "61850f8d-7d19-4ec1-8fc0-7ae50aec8f0b",
   "metadata": {},
   "outputs": [],
   "source": [
    "def wordsCount(s):\n",
    "    cut_words = \"\"\n",
    "    s = re.sub(\"[A-Za-z0-9\\：\\·\\—\\，\\。\\“ \\”]\", \"\", s)\n",
    "    seg_list = jieba.cut(s, cut_all=False)\n",
    "    cut_words += (\" \".join(seg_list))\n",
    "    all_words = cut_words.split()\n",
    "    c = Counter()\n",
    "    for x in all_words:\n",
    "        if len(x) > 1 and x != '\\r\\n':\n",
    "            c[x] += 1\n",
    "    vocab = []\n",
    "    print('\\n词频统计结果：')\n",
    "    for (k, v) in c.most_common(5):  # 输出词频最高的前5个词\n",
    "        print(\"%s:%d\" % (k, v))\n",
    "        vocab.append(k)\n",
    "    print(\"词表：\", vocab)"
   ]
  },
  {
   "cell_type": "code",
   "execution_count": 6,
   "id": "14cb83c2-7987-4877-87c6-a62a50ba4b41",
   "metadata": {},
   "outputs": [
    {
     "name": "stdout",
     "output_type": "stream",
     "text": [
      "\n",
      "词频统计结果：\n",
      "动议:3\n",
      "关税:2\n",
      "主要:2\n",
      "约束力:2\n",
      "投票:2\n",
      "词表： ['动议', '关税', '主要', '约束力', '投票']\n"
     ]
    }
   ],
   "source": [
    "if __name__ == '__main__':\n",
    "    s = \"央视网消息：当地时间11日，美国国会参议院以88票对11票的结果通过了一项动议，允许国会“在总统以国家安全为由决定征收关税时”发挥一定的限制作用。这项动议主要针对加征钢铝关税的232调查，目前尚不具有约束力。动议的主要发起者——共和党参议员鲍勃·科克说，11日的投票只是一小步，他会继续推动进行有约束力的投票。\"\n",
    "    wordsCount(s)\n"
   ]
  }
 ],
 "metadata": {
  "kernelspec": {
   "display_name": "Python 3 (ipykernel)",
   "language": "python",
   "name": "python3"
  },
  "language_info": {
   "codemirror_mode": {
    "name": "ipython",
    "version": 3
   },
   "file_extension": ".py",
   "mimetype": "text/x-python",
   "name": "python",
   "nbconvert_exporter": "python",
   "pygments_lexer": "ipython3",
   "version": "3.11.8"
  }
 },
 "nbformat": 4,
 "nbformat_minor": 5
}
