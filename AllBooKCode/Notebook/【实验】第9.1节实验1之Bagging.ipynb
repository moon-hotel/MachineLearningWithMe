{
 "cells": [
  {
   "cell_type": "markdown",
   "id": "e6b5281e-e719-4cb1-bb22-6d5915a1da9c",
   "metadata": {},
   "source": [
    "### Bagging集成学习使用示例"
   ]
  },
  {
   "cell_type": "code",
   "execution_count": 1,
   "id": "5ed40217-8231-4553-8601-166baef1f333",
   "metadata": {},
   "outputs": [
    {
     "name": "stdout",
     "output_type": "stream",
     "text": [
      "[array([3, 2, 1]), array([2, 3, 0]), array([0, 1, 2]), array([3, 1, 0]), array([3, 1, 0])]\n",
      "[array([ 99,  12,  76,  12,   8,  59,  80,  16,  32,   8,  70,  70,  64,\n",
      "        18,  69,  95, 101,  63,  36,  55,   0,  17,  53,  53,  75,  18,\n",
      "        13,  20,  20,  97, 104,  32,  79,  58,  14,  79,  31,  72,  66,\n",
      "        90,  12,  75,  47,  45,  31, 103,  18,  25,  12,  68,  83,  45,\n",
      "        55,  19,  96,  15,  57,  70,  23,  59,  24,  72,   6,  51,  71,\n",
      "        72,   6,   8,  47,  73,  49,  85,  39,  35,  20,  59,  50,  82,\n",
      "        35,  67,  45,  86,  44,  50]), array([ 23,   5,  84,   9,  11, 103,  14,  76,  11,  80,  10,  27,  22,\n",
      "        95,  62,  95,  56,  75,  98,  12,  14,  11,  79,  71,  65,  23,\n",
      "        87,  69,  95,  53,   0,  23, 101,  16,  98,  14,   3,  20,  19,\n",
      "         8,  76,  10,  91,   0,  69,  76,  59,  31,  36,  20,  47,  98,\n",
      "        30,  83,  69,   9,  18,   7,  30,  90,  86,  52,  77,  73,  19,\n",
      "       102,  85,  33,  41,  27, 104,  68,  12,  27,  60,  93,  21,  15,\n",
      "        16,  98,  71,  94,  86,  82]), array([ 76,   8,  57,  38,  84,   8,  53,  78,  52,  24,  46,   5,  60,\n",
      "        73,  43,  87,  71,  52,  94,  50,  72,  79,  48,  45,  20,  96,\n",
      "        92,  64,  15,  42,  17,  19,  26,  68,  93,  60,  27,  98,  52,\n",
      "        55,  17,  95,  14,  89,  23, 101,  47, 102,  94, 100,  57,  34,\n",
      "        10,   4,  54,  14,  47,  99, 102,  59,  64,  70,  48,   0, 100,\n",
      "        54,  75,  83,  31,  29,  82,  69,  83,  44,  75,  80,   5,  72,\n",
      "        73,  99,  99,   1,  13,  29]), array([101,  75,   7,  77,  94,  11,   2,   4,  52,  57,  62,  18,  32,\n",
      "        18,  75,  91,  11, 102,  40,  91,  86,  15,  35,  65, 102,  25,\n",
      "        45,  23,  52,  83,  65,  42,  52,   9,   2,  42,   8,  49,  16,\n",
      "        48,  25,  14,  98,  79,  11,  92,  45,  83,   3,  58,  81,  34,\n",
      "        78,  32,  29,  71,  12,  69,  16,  99,  31,  39,  54,  29,  11,\n",
      "        71,  49,  29, 103,  88,  78, 100,  49,  88,  45,  95,  30,  33,\n",
      "         5,  25,  55,  11,  40,  73]), array([ 70,  15,  82,   4,  97,  15,  79,  82,   8,  36,  16,   7,  59,\n",
      "         1,  55,   9,  92,  59,  69,   6,  17,  60,   0,  73,  61,  25,\n",
      "       102,   2,  13,  16,  57,  23,  59,  81,  93,  48,  77,  55,  91,\n",
      "        29, 100,  44,  94,  72, 102,  35,  32,  85,  19,  80,  43,  16,\n",
      "        61,  63,  89,  72,  23,  81,  31,  16,  22,  75,  51,  45,  14,\n",
      "        42,   4,  34,  42,  28,  13,   5,  35,  67, 104, 102,  14,  34,\n",
      "        64,  81,   9,  36,  80,  99])]\n",
      "0.9714285714285714\n",
      "0.9777777777777777\n"
     ]
    }
   ],
   "source": [
    "from sklearn.ensemble import BaggingClassifier\n",
    "from sklearn.neighbors import KNeighborsClassifier\n",
    "from sklearn.datasets import load_iris\n",
    "from sklearn.model_selection import train_test_split\n",
    "\n",
    "\n",
    "def load_data():\n",
    "    data = load_iris()\n",
    "    x, y = data.data, data.target\n",
    "    x_train, x_test, y_train, y_test \\\n",
    "        = train_test_split(x, y, test_size=0.3, random_state=10)\n",
    "    return x_train, x_test, y_train, y_test\n",
    "\n",
    "\n",
    "if __name__ == '__main__':\n",
    "    x_train, x_test, y_train, y_test = load_data()\n",
    "    bagging = BaggingClassifier(KNeighborsClassifier(n_neighbors=3),\n",
    "                                n_estimators=5,\n",
    "                                max_samples=0.8,\n",
    "                                max_features=3,\n",
    "                                bootstrap=True,\n",
    "                                bootstrap_features=False)\n",
    "    bagging.fit(x_train, y_train)\n",
    "    print(bagging.estimators_features_)\n",
    "    print(bagging.estimators_samples_)\n",
    "    print(bagging.score(x_train, y_train))\n",
    "    print(bagging.score(x_test, y_test))\n"
   ]
  }
 ],
 "metadata": {
  "kernelspec": {
   "display_name": "Python 3 (ipykernel)",
   "language": "python",
   "name": "python3"
  },
  "language_info": {
   "codemirror_mode": {
    "name": "ipython",
    "version": 3
   },
   "file_extension": ".py",
   "mimetype": "text/x-python",
   "name": "python",
   "nbconvert_exporter": "python",
   "pygments_lexer": "ipython3",
   "version": "3.11.8"
  }
 },
 "nbformat": 4,
 "nbformat_minor": 5
}
