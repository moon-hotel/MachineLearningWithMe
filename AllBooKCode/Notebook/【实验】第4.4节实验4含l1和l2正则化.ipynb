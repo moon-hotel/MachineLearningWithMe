{
 "cells": [
  {
   "cell_type": "markdown",
   "id": "27712f05-f8b4-4ea7-8a56-e1ddbfaa195f",
   "metadata": {},
   "source": [
    "## 1.构建带惩罚项的回归模型"
   ]
  },
  {
   "cell_type": "code",
   "execution_count": 4,
   "id": "76aa455a-a5eb-43c4-b02c-380e82135f7e",
   "metadata": {},
   "outputs": [
    {
     "name": "stdout",
     "output_type": "stream",
     "text": [
      "[2.32986786 3.73569542 2.42894405 1.05170722 1.85094567]\n",
      "[2.35  3.868 2.864 1.201 1.142]\n"
     ]
    }
   ],
   "source": [
    "from sklearn.datasets import fetch_california_housing\n",
    "from sklearn.datasets import load_breast_cancer\n",
    "from sklearn.model_selection import train_test_split\n",
    "from sklearn.linear_model import SGDRegressor\n",
    "from sklearn.linear_model import SGDClassifier\n",
    "from sklearn.preprocessing import StandardScaler\n",
    "\n",
    "\n",
    "def regression_penalty():\n",
    "    x, y = fetch_california_housing(return_X_y=True)\n",
    "    x_train, x_test, y_train, y_test = \\\n",
    "        train_test_split(x, y, test_size=0.3, random_state=2020)\n",
    "    ss = StandardScaler()\n",
    "    x_train = ss.fit_transform(x_train)\n",
    "    x_test = ss.transform(x_test)\n",
    "    model = SGDRegressor(loss=\"squared_error\",l1_ratio=0.4, penalty='elasticnet', alpha=0.001)\n",
    "    model.fit(x_train, y_train)\n",
    "    print(model.predict(x_test)[:5])\n",
    "    print(y_test[:5])\n",
    "\n",
    "if __name__ == '__main__':\n",
    "    regression_penalty()"
   ]
  },
  {
   "cell_type": "markdown",
   "id": "0ff30954-2308-4ae2-9caf-174b146d1c3c",
   "metadata": {},
   "source": [
    "## 2.构建带惩罚项的分类模型"
   ]
  },
  {
   "cell_type": "code",
   "execution_count": 5,
   "id": "1ee5af30-ea32-4869-8353-5a8f6ec234e1",
   "metadata": {},
   "outputs": [
    {
     "name": "stdout",
     "output_type": "stream",
     "text": [
      "0.9707602339181286\n",
      "[0 1 1 0 1]\n",
      "[0 1 1 0 1]\n"
     ]
    }
   ],
   "source": [
    "def classification_penalty():\n",
    "    x, y = load_breast_cancer(return_X_y=True)\n",
    "    x_train, x_test, y_train, y_test = \\\n",
    "        train_test_split(x, y, test_size=0.3, random_state=2020)\n",
    "    ss = StandardScaler()\n",
    "    x_train = ss.fit_transform(x_train)\n",
    "    x_test = ss.transform(x_test)\n",
    "    model = SGDClassifier(loss=\"log_loss\",l1_ratio=0.4, penalty='elasticnet', alpha=0.001)\n",
    "    model.fit(x_train, y_train)\n",
    "    print(model.score(x_test, y_test))\n",
    "    print(model.predict(x_test)[:5])\n",
    "    print(y_test[:5])\n",
    "\n",
    "if __name__ == '__main__':\n",
    "    classification_penalty()"
   ]
  }
 ],
 "metadata": {
  "kernelspec": {
   "display_name": "Python 3 (ipykernel)",
   "language": "python",
   "name": "python3"
  },
  "language_info": {
   "codemirror_mode": {
    "name": "ipython",
    "version": 3
   },
   "file_extension": ".py",
   "mimetype": "text/x-python",
   "name": "python",
   "nbconvert_exporter": "python",
   "pygments_lexer": "ipython3",
   "version": "3.11.8"
  }
 },
 "nbformat": 4,
 "nbformat_minor": 5
}
