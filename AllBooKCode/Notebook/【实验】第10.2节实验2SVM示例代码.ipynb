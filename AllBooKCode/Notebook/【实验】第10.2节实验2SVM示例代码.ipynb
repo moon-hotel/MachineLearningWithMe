{
 "cells": [
  {
   "cell_type": "markdown",
   "id": "6e84e156-88f1-479b-9960-1b31771d7f39",
   "metadata": {},
   "source": [
    "### 1.载入数据集"
   ]
  },
  {
   "cell_type": "code",
   "execution_count": 1,
   "id": "88075342-a509-4418-a6fd-6e28cb2c790e",
   "metadata": {},
   "outputs": [],
   "source": [
    "from sklearn.svm import SVC\n",
    "from sklearn.datasets import load_digits\n",
    "from sklearn.model_selection import train_test_split\n",
    "from sklearn.metrics import classification_report\n",
    "\n",
    "\n",
    "def load_data():\n",
    "    data = load_digits()\n",
    "    x, y = data.data, data.target\n",
    "    x_train, x_test, y_train, y_test = \\\n",
    "        train_test_split(x, y, test_size=0.3,\n",
    "                         shuffle=True, random_state=20)\n",
    "    return x_train, x_test, y_train, y_test"
   ]
  },
  {
   "cell_type": "markdown",
   "id": "29e19f9c-784a-42d7-9b45-88c9cf9c071d",
   "metadata": {},
   "source": [
    "### 2.运行结果"
   ]
  },
  {
   "cell_type": "code",
   "execution_count": 2,
   "id": "bc5ce0f3-688f-4025-8d72-26411346d0bb",
   "metadata": {},
   "outputs": [
    {
     "name": "stdout",
     "output_type": "stream",
     "text": [
      "准确率为：0.975925925925926\n",
      "              precision    recall  f1-score   support\n",
      "\n",
      "           0       1.00      1.00      1.00        50\n",
      "           1       0.96      0.98      0.97        56\n",
      "           2       1.00      1.00      1.00        44\n",
      "           3       1.00      0.95      0.98        63\n",
      "           4       1.00      1.00      1.00        60\n",
      "           5       0.94      0.98      0.96        51\n",
      "           6       1.00      0.97      0.98        59\n",
      "           7       0.96      0.98      0.97        53\n",
      "           8       0.94      0.98      0.96        52\n",
      "           9       0.94      0.92      0.93        52\n",
      "\n",
      "    accuracy                           0.98       540\n",
      "   macro avg       0.98      0.98      0.98       540\n",
      "weighted avg       0.98      0.98      0.98       540\n",
      "\n"
     ]
    }
   ],
   "source": [
    "def train(x_train, x_test, y_train, y_test):\n",
    "    model = SVC(C=1.0, kernel='linear')\n",
    "    model.fit(x_train, y_train)\n",
    "    y_pre = model.predict(x_test)\n",
    "    print(f\"准确率为：{model.score(x_test, y_test)}\")\n",
    "    print(classification_report(y_test, y_pre))\n",
    "\n",
    "\n",
    "if __name__ == '__main__':\n",
    "    x_train, x_test, y_train, y_test = load_data()\n",
    "    train(x_train, x_test, y_train, y_test)"
   ]
  }
 ],
 "metadata": {
  "kernelspec": {
   "display_name": "Python 3 (ipykernel)",
   "language": "python",
   "name": "python3"
  },
  "language_info": {
   "codemirror_mode": {
    "name": "ipython",
    "version": 3
   },
   "file_extension": ".py",
   "mimetype": "text/x-python",
   "name": "python",
   "nbconvert_exporter": "python",
   "pygments_lexer": "ipython3",
   "version": "3.11.8"
  }
 },
 "nbformat": 4,
 "nbformat_minor": 5
}
