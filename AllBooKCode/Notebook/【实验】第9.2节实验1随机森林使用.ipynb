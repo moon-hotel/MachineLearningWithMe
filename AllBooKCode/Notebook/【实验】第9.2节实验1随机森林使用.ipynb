{
 "cells": [
  {
   "cell_type": "markdown",
   "id": "15905613-9968-4f70-b60c-86e6a9973d83",
   "metadata": {},
   "source": [
    "### 1. 载入数据集"
   ]
  },
  {
   "cell_type": "code",
   "execution_count": 8,
   "id": "3a7af296-7fd6-45c6-8e8a-9e5f3dc1c149",
   "metadata": {},
   "outputs": [],
   "source": [
    "from sklearn.ensemble import RandomForestClassifier\n",
    "from sklearn.datasets import load_iris\n",
    "from sklearn.preprocessing import StandardScaler\n",
    "from sklearn.model_selection import train_test_split\n",
    "\n",
    "\n",
    "def load_data():\n",
    "    data = load_iris()\n",
    "    x, y = data.data, data.target\n",
    "    x_train, x_test, y_train, y_test \\\n",
    "        = train_test_split(x, y, test_size=0.3,random_state=1)\n",
    "    ss = StandardScaler()\n",
    "    x_train = ss.fit_transform(x_train)\n",
    "    x_test = ss.transform(x_test)\n",
    "    return x_train, x_test, y_train, y_test\n",
    "\n"
   ]
  },
  {
   "cell_type": "markdown",
   "id": "ebbe27e6-e7d6-4e86-ad72-a2d158cd08e8",
   "metadata": {},
   "source": [
    "### 2. 运行结果"
   ]
  },
  {
   "cell_type": "code",
   "execution_count": 7,
   "id": "3806c12c-8508-448f-8c85-e4adc75fd215",
   "metadata": {},
   "outputs": [
    {
     "name": "stdout",
     "output_type": "stream",
     "text": [
      "0.9555555555555556\n"
     ]
    }
   ],
   "source": [
    "\n",
    "if __name__ == '__main__':\n",
    "    x_train, x_test, y_train, y_test = load_data()\n",
    "    model = RandomForestClassifier(n_estimators=2, max_features=3,\n",
    "                                   random_state=2)\n",
    "    model.fit(x_train, y_train)\n",
    "    print(model.score(x_test, y_test))"
   ]
  }
 ],
 "metadata": {
  "kernelspec": {
   "display_name": "Python 3 (ipykernel)",
   "language": "python",
   "name": "python3"
  },
  "language_info": {
   "codemirror_mode": {
    "name": "ipython",
    "version": 3
   },
   "file_extension": ".py",
   "mimetype": "text/x-python",
   "name": "python",
   "nbconvert_exporter": "python",
   "pygments_lexer": "ipython3",
   "version": "3.11.8"
  }
 },
 "nbformat": 4,
 "nbformat_minor": 5
}
