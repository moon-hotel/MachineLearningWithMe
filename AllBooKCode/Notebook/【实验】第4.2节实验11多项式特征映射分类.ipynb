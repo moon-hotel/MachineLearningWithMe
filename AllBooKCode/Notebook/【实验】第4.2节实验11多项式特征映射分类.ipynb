{
 "cells": [
  {
   "cell_type": "markdown",
   "id": "17a3c42b-4c30-48af-8096-4d33c2dfd235",
   "metadata": {},
   "source": [
    "## 1.构建非线性数据集"
   ]
  },
  {
   "cell_type": "code",
   "execution_count": 2,
   "id": "9d62f1ab-6a3a-45dc-93cd-6ea4764a18ea",
   "metadata": {},
   "outputs": [],
   "source": [
    "import matplotlib.pyplot as plt\n",
    "import numpy as np\n",
    "from sklearn.datasets import make_circles\n",
    "from sklearn.linear_model import LogisticRegression\n",
    "from sklearn.preprocessing import PolynomialFeatures\n",
    "\n",
    "\n",
    "def standarlization(X):\n",
    "    mean = X.mean(axis=0)\n",
    "    std = X.std(axis=0)\n",
    "    return (X - mean) / std\n",
    "\n",
    "\n",
    "def make_nonlinear_cla_data():\n",
    "    num_points = 200\n",
    "    x, y = make_circles(num_points, factor=0.5, noise=0.06, random_state=np.random.seed(10))\n",
    "    x = x.reshape(-1, 2)\n",
    "    x = standarlization(x)\n",
    "    return x, y.reshape(-1, 1)\n"
   ]
  },
  {
   "cell_type": "markdown",
   "id": "52499766-5525-45c7-839d-9ca27b147be7",
   "metadata": {},
   "source": [
    "## 2.训练模型并可视化决策边界"
   ]
  },
  {
   "cell_type": "code",
   "execution_count": 5,
   "id": "116b3f05-e21d-4506-b108-acc813afb34a",
   "metadata": {},
   "outputs": [],
   "source": [
    "def decision_boundary(x, y, pol):\n",
    "    model = LogisticRegression()\n",
    "    model.fit(x, y.ravel())\n",
    "    print(\"Accuracy:\", model.score(x, y))\n",
    "    x_min, x_max = x[:, 0].min() - .5, x[:, 0].max() + .5\n",
    "    y_min, y_max = x[:, 1].min() - .5, x[:, 1].max() + .5\n",
    "    h = .01  # step size in the mesh\n",
    "    xx, yy = np.meshgrid(np.arange(x_min, x_max, h), np.arange(y_min, y_max, h))\n",
    "    x_new = np.hstack([xx.reshape(-1, 1), yy.reshape(-1, 1)])\n",
    "    Z = model.predict(pol.transform(x_new))\n",
    "\n",
    "    Z = Z.reshape(xx.shape)\n",
    "    plt.figure(1, figsize=(6, 5))\n",
    "    plt.rcParams['ytick.direction'] = 'in'  # 刻度向内\n",
    "    plt.rcParams['xtick.direction'] = 'in'  # 刻度向内\n",
    "    plt.rcParams['font.sans-serif'] = ['Arial Unicode MS']\n",
    "    plt.pcolormesh(xx, yy, Z, alpha=0.1, shading='auto')\n",
    "\n",
    "    neg, pos = [], []\n",
    "    for i in range(len(x)):\n",
    "        if y[i] == 0:\n",
    "            neg.append(x[i, :])\n",
    "        else:\n",
    "            pos.append(x[i, :])\n",
    "    neg, pos = np.vstack(neg), np.vstack(pos)\n",
    "\n",
    "    plt.scatter(neg[:, 0], neg[:, 1], c='black', marker='s', s=40)\n",
    "    plt.scatter(pos[:, 0], pos[:, 1], c='black', marker='o', s=40)\n",
    "    plt.tight_layout()\n",
    "    plt.show()"
   ]
  },
  {
   "cell_type": "markdown",
   "id": "26ae73aa-fb2d-40c6-910d-3dc5356c7861",
   "metadata": {},
   "source": [
    "## 3.运行结果"
   ]
  },
  {
   "cell_type": "code",
   "execution_count": 6,
   "id": "2cbcc326-2f8f-4f90-87c7-6f9979c1a794",
   "metadata": {},
   "outputs": [
    {
     "name": "stdout",
     "output_type": "stream",
     "text": [
      "Accuracy: 1.0\n"
     ]
    },
    {
     "data": {
      "image/png": "[encoded data removed]",
      "text/plain": [
       "<Figure size 600x500 with 1 Axes>"
      ]
     },
     "metadata": {},
     "output_type": "display_data"
    }
   ],
   "source": [
    "if __name__ == '__main__':\n",
    "    x, y = make_nonlinear_cla_data()\n",
    "    pol = PolynomialFeatures(degree=2, include_bias=False)\n",
    "    x_pol = pol.fit_transform(x)\n",
    "\n",
    "    decision_boundary(x_pol, y, pol)"
   ]
  }
 ],
 "metadata": {
  "kernelspec": {
   "display_name": "Python 3 (ipykernel)",
   "language": "python",
   "name": "python3"
  },
  "language_info": {
   "codemirror_mode": {
    "name": "ipython",
    "version": 3
   },
   "file_extension": ".py",
   "mimetype": "text/x-python",
   "name": "python",
   "nbconvert_exporter": "python",
   "pygments_lexer": "ipython3",
   "version": "3.11.8"
  }
 },
 "nbformat": 4,
 "nbformat_minor": 5
}
