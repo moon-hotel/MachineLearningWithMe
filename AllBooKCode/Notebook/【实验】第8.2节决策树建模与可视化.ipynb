{
 "cells": [
  {
   "cell_type": "markdown",
   "id": "000955b4-6a9c-45da-a713-d1f585265513",
   "metadata": {},
   "source": [
    "## 1.载入数据集"
   ]
  },
  {
   "cell_type": "code",
   "execution_count": 2,
   "id": "d04780a1-5d3f-4db4-964b-dc498089ac65",
   "metadata": {},
   "outputs": [],
   "source": [
    "from sklearn.datasets import load_iris\n",
    "from sklearn.model_selection import train_test_split\n",
    "from sklearn import tree\n",
    "import graphviz\n",
    "\n",
    "\n",
    "def load_data():\n",
    "    data = load_iris()\n",
    "    X, y = data.data, data.target\n",
    "    feature_names = data.feature_names\n",
    "    X_train, X_test, y_train, y_test = \\\n",
    "        train_test_split(X, y, test_size=0.3, random_state=42)\n",
    "    return X_train, X_test, y_train, y_test, feature_names"
   ]
  },
  {
   "cell_type": "markdown",
   "id": "e0014d88-dca9-4b65-9b9f-a39183e594ce",
   "metadata": {},
   "source": [
    "## 2.模型训练"
   ]
  },
  {
   "cell_type": "code",
   "execution_count": 3,
   "id": "569d6def-c52f-43d2-88e8-5c10bb5df5b7",
   "metadata": {},
   "outputs": [],
   "source": [
    "def train(X_train, X_test, y_train, y_test, feature_names):\n",
    "    model = tree.DecisionTreeClassifier(criterion='gini', min_samples_leaf=5, random_state=30)\n",
    "    model.fit(X_train, y_train)\n",
    "    print(\"在测试集上的准确率为：\", model.score(X_test, y_test))\n",
    "    dot_data = tree.export_graphviz(model, out_file=None,\n",
    "                                    feature_names=feature_names,\n",
    "                                    filled=True, rounded=True,\n",
    "                                    special_characters=True)\n",
    "    graph = graphviz.Source(dot_data)\n",
    "    graph.render('iris')\n",
    "    # 本地也需要安装 graphviz\n",
    "    # Mac: brew install graphviz\n",
    "    # Ubuntu: sudo apt install graphviz\n",
    "    # Centos: sudo yum install graphviz\n",
    "    # https://graphviz.org/download/\n",
    "    print(\"特征重要性为：\", model.feature_importances_)"
   ]
  },
  {
   "cell_type": "markdown",
   "id": "54b7c0d7-95b9-4907-b431-35122c47113d",
   "metadata": {},
   "source": [
    "## 3.运行结果"
   ]
  },
  {
   "cell_type": "code",
   "execution_count": 4,
   "id": "46870cbc-5905-45db-a341-d1215e0e8ccd",
   "metadata": {},
   "outputs": [
    {
     "name": "stdout",
     "output_type": "stream",
     "text": [
      "特征为性为： ['sepal length (cm)', 'sepal width (cm)', 'petal length (cm)', 'petal width (cm)']\n",
      "在测试集上的准确率为： 1.0\n",
      "特征重要性为： [0.00536513 0.         0.07057937 0.9240555 ]\n"
     ]
    }
   ],
   "source": [
    "\n",
    "if __name__ == '__main__':\n",
    "    X_train, X_test, y_train, y_test, feature_names = load_data()\n",
    "    print(\"特征为性为：\", feature_names)\n",
    "    train(X_train, X_test, y_train, y_test, feature_names)"
   ]
  }
 ],
 "metadata": {
  "kernelspec": {
   "display_name": "Python 3 (ipykernel)",
   "language": "python",
   "name": "python3"
  },
  "language_info": {
   "codemirror_mode": {
    "name": "ipython",
    "version": 3
   },
   "file_extension": ".py",
   "mimetype": "text/x-python",
   "name": "python",
   "nbconvert_exporter": "python",
   "pygments_lexer": "ipython3",
   "version": "3.11.8"
  }
 },
 "nbformat": 4,
 "nbformat_minor": 5
}
