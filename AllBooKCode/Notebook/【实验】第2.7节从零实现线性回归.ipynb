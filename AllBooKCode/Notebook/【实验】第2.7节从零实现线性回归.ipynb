{
 "cells": [
  {
   "cell_type": "markdown",
   "id": "db1764d7-d4fe-447f-851e-7d9353c496e8",
   "metadata": {},
   "source": [
    "## 1.定义标准化方法"
   ]
  },
  {
   "cell_type": "code",
   "execution_count": 2,
   "id": "a1c80e5c-6eb4-4eeb-acab-616fa0525c52",
   "metadata": {},
   "outputs": [],
   "source": [
    "from sklearn.datasets import fetch_california_housing\n",
    "from sklearn.linear_model import LinearRegression\n",
    "import numpy as np\n",
    "import matplotlib.pyplot as plt\n",
    "\n",
    "\n",
    "def feature_scalling(X):\n",
    "    mean = X.mean(axis=0)\n",
    "    std = X.std(axis=0)\n",
    "    return (X - mean) / std"
   ]
  },
  {
   "cell_type": "markdown",
   "id": "99ff81aa-081c-4246-9072-958fd995a824",
   "metadata": {},
   "source": [
    "## 2.载入数据"
   ]
  },
  {
   "cell_type": "code",
   "execution_count": 3,
   "id": "de276bcd-6be4-4ee5-854e-5e01f418e00a",
   "metadata": {},
   "outputs": [],
   "source": [
    "def load_data():\n",
    "    data = fetch_california_housing()\n",
    "    X = data.data  # [20640, 8]\n",
    "    y = data.target.reshape(-1, 1)\n",
    "    X = feature_scalling(X)\n",
    "    return X, y"
   ]
  },
  {
   "cell_type": "markdown",
   "id": "9d7177fa-9db2-448e-9ae2-5aed8e8dda07",
   "metadata": {},
   "source": [
    "## 3.定义预测函数及评价函数"
   ]
  },
  {
   "cell_type": "code",
   "execution_count": 4,
   "id": "43ad2f6f-b60b-4fd5-bb59-99b8cdf1e836",
   "metadata": {},
   "outputs": [],
   "source": [
    "def MSE(y, y_pre):\n",
    "    return np.mean((y - y_pre) ** 2)\n",
    "\n",
    "\n",
    "def prediction(X, W, bias):\n",
    "    return np.matmul(X, W) + bias  # [m,n] @ [n,1] = [m,1]\n"
   ]
  },
  {
   "cell_type": "markdown",
   "id": "d211beb5-e106-4a13-82b2-2256b3391626",
   "metadata": {},
   "source": [
    "## 4.定义损失函数"
   ]
  },
  {
   "cell_type": "code",
   "execution_count": 5,
   "id": "672cb6b8-840e-4aac-9de8-e6a33d07c8b8",
   "metadata": {},
   "outputs": [],
   "source": [
    "def cost_function(X, y, W, bias):\n",
    "    m, n = X.shape\n",
    "    y_hat = prediction(X, W, bias)\n",
    "    return 0.5 * (1 / m) * np.sum((y - y_hat) ** 2)"
   ]
  },
  {
   "cell_type": "markdown",
   "id": "2a430c96-5660-4c31-aaf5-de1fb4ed1cad",
   "metadata": {},
   "source": [
    "## 5.定义梯度下降"
   ]
  },
  {
   "cell_type": "code",
   "execution_count": 6,
   "id": "be4e3b6b-2314-44a5-899e-273cb9365c89",
   "metadata": {},
   "outputs": [],
   "source": [
    "def gradient_descent(X, y, W, bias, alpha):\n",
    "    m, n = X.shape\n",
    "    y_hat = prediction(X, W, bias)\n",
    "    grad_w = -(1 / m) * np.matmul(X.T, (y - y_hat))  # [n,m] @ [m,1] = [n,1]\n",
    "    grad_b = -(1 / m) * np.sum(y - y_hat)  # 求解梯度\n",
    "    W = W - alpha * grad_w  # 梯度下降\n",
    "    bias = bias - alpha * grad_b\n",
    "    return W, bias"
   ]
  },
  {
   "cell_type": "markdown",
   "id": "ea8db462-3146-4d7e-9d4a-f2b99fb15199",
   "metadata": {},
   "source": [
    "## 6. 训练模型"
   ]
  },
  {
   "cell_type": "code",
   "execution_count": 7,
   "id": "2b0646d1-1ebf-4924-b041-8e9bf054b975",
   "metadata": {},
   "outputs": [],
   "source": [
    "def train(X, y, ite=200):\n",
    "    m, n = X.shape  # 506,13\n",
    "    W = np.random.randn(n, 1)\n",
    "    b = 0.1\n",
    "    alpha = 0.2\n",
    "    costs = []\n",
    "    for i in range(ite):\n",
    "        J = cost_function(X, y, W, b)\n",
    "        costs.append(J)\n",
    "        W, b = gradient_descent(X, y, W, b, alpha)\n",
    "    y_pre = prediction(X, W, b)\n",
    "    print(\"MSE: \", MSE(y, y_pre))\n",
    "    return costs\n",
    "\n",
    "\n",
    "def train_by_sklearn(x, y):\n",
    "    model = LinearRegression()\n",
    "    model.fit(x, y)\n",
    "    y_pre = model.predict(x)\n",
    "    print(\"MSE: \", MSE(y, y_pre))"
   ]
  },
  {
   "cell_type": "markdown",
   "id": "af4fab6e-3e59-47b3-9bf4-7a49de6130ce",
   "metadata": {},
   "source": [
    "## 7. 运行"
   ]
  },
  {
   "cell_type": "code",
   "execution_count": 8,
   "id": "800319b9-5512-4828-acee-7f41429ce908",
   "metadata": {},
   "outputs": [
    {
     "name": "stdout",
     "output_type": "stream",
     "text": [
      "MSE:  0.5243209861846072\n",
      "MSE:  0.5292960851918204\n"
     ]
    },
    {
     "data": {
      "image/png": "[encoded data removed]",
      "text/plain": [
       "<Figure size 640x480 with 1 Axes>"
      ]
     },
     "metadata": {},
     "output_type": "display_data"
    }
   ],
   "source": [
    "if __name__ == '__main__':\n",
    "    x, y = load_data()\n",
    "    train_by_sklearn(x, y)\n",
    "    costs = train(x, y)\n",
    "    plt.rcParams['xtick.direction'] = 'in'  # 刻度向内\n",
    "    plt.rcParams['ytick.direction'] = 'in'  # 刻度向内\n",
    "    plt.plot(range(len(costs)), costs, label='损失值', c='black')\n",
    "    # plt.rcParams['font.sans-serif'] = ['SimHei']  # 指定默认字体\n",
    "    plt.rcParams['font.sans-serif'] = ['Arial Unicode MS']\n",
    "    plt.legend(fontsize=15)\n",
    "    plt.xlabel('迭代次数', fontsize=15)\n",
    "    plt.tight_layout()  # 调整子图间距\n",
    "    plt.show()\n"
   ]
  }
 ],
 "metadata": {
  "kernelspec": {
   "display_name": "Python 3 (ipykernel)",
   "language": "python",
   "name": "python3"
  },
  "language_info": {
   "codemirror_mode": {
    "name": "ipython",
    "version": 3
   },
   "file_extension": ".py",
   "mimetype": "text/x-python",
   "name": "python",
   "nbconvert_exporter": "python",
   "pygments_lexer": "ipython3",
   "version": "3.11.8"
  }
 },
 "nbformat": 4,
 "nbformat_minor": 5
}
