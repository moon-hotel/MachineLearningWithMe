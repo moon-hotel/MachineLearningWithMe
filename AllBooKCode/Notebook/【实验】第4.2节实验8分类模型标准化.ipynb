{
 "cells": [
  {
   "cell_type": "markdown",
   "id": "cd42e88b-e685-44b4-943f-ca895e299d20",
   "metadata": {},
   "source": [
    "## 1.载入数据及标准化"
   ]
  },
  {
   "cell_type": "code",
   "execution_count": 1,
   "id": "84f73e36-1f6d-4810-913a-70dc00b84a09",
   "metadata": {},
   "outputs": [],
   "source": [
    "from sklearn.datasets import load_breast_cancer\n",
    "from sklearn.metrics import classification_report\n",
    "import numpy as np\n",
    "from sklearn.linear_model import LogisticRegression\n",
    "import matplotlib.pyplot as plt\n",
    "\n",
    "\n",
    "def standarlization(X):\n",
    "    mean = X.mean(axis=0)\n",
    "    std = X.std(axis=0)\n",
    "    return (X - mean) / std\n",
    "\n",
    "\n",
    "def load_data(standarlized=True):\n",
    "    data = load_breast_cancer()\n",
    "    x, y = data.data, data.target.reshape(-1, 1)\n",
    "    if standarlized:\n",
    "        x = standarlization(x)\n",
    "    return x, y"
   ]
  },
  {
   "cell_type": "markdown",
   "id": "e1f4ac59-546f-4c72-8093-8335f92ef13e",
   "metadata": {},
   "source": [
    "## 2.Sigmoid函数"
   ]
  },
  {
   "cell_type": "code",
   "execution_count": 2,
   "id": "1a0f6712-b18b-4d58-9161-e1a31939ace1",
   "metadata": {},
   "outputs": [],
   "source": [
    "def accuracy(y, y_pre):\n",
    "    return np.mean((y.flatten() == y_pre.flatten()) * 1)\n",
    "\n",
    "\n",
    "def sigmoid(z):\n",
    "    return 1 / (1 + np.exp(-z))\n",
    "\n",
    "\n",
    "def sigmoid_prime(z):\n",
    "    return sigmoid(z) * (1 - sigmoid(z))\n"
   ]
  },
  {
   "cell_type": "markdown",
   "id": "e44d7ffe-64a5-469a-9350-5d1b5fa49fd1",
   "metadata": {},
   "source": [
    "## 3.假设函数和预测函数"
   ]
  },
  {
   "cell_type": "code",
   "execution_count": 3,
   "id": "cd02c02f-1d17-402f-84d1-08ec9aeadc23",
   "metadata": {},
   "outputs": [],
   "source": [
    "def hypothesis(X, W, bias):\n",
    "    z = np.matmul(X, W) + bias\n",
    "    h_x = sigmoid(z)\n",
    "    return h_x\n",
    "\n",
    "\n",
    "def prediction(X, W, bias, thre=0.5):\n",
    "    h_x = hypothesis(X, W, bias)\n",
    "    y_pre = (h_x > thre) * 1\n",
    "    return y_pre"
   ]
  },
  {
   "cell_type": "markdown",
   "id": "0d35def9-cc4e-486c-a963-8640e83926c9",
   "metadata": {},
   "source": [
    "## 4.目标函数与梯度下降"
   ]
  },
  {
   "cell_type": "code",
   "execution_count": 4,
   "id": "ae9e3343-9537-441e-9dec-859683351454",
   "metadata": {},
   "outputs": [],
   "source": [
    "def cost_function(X, y, W, bias):\n",
    "    m, n = X.shape\n",
    "    h_x = hypothesis(X, W, bias)\n",
    "    cost = np.sum(y * np.log(h_x) + (1 - y) * np.log(1 - h_x))\n",
    "    return -cost / m\n",
    "\n",
    "\n",
    "def gradient_descent(X, y, W, bias, alpha):\n",
    "    m, n = X.shape\n",
    "    h_x = hypothesis(X, W, bias)\n",
    "    grad_w = (1 / m) * np.matmul(X.T, (h_x - y))  # [n,m] @ [m,1]\n",
    "    grad_b = (1 / m) * np.sum(h_x - y)\n",
    "    W = W - alpha * grad_w  # 梯度下降\n",
    "    bias = bias - alpha * grad_b\n",
    "    return W, bias"
   ]
  },
  {
   "cell_type": "markdown",
   "id": "d115f94e-0fe3-48c2-b41e-4bedd09849a3",
   "metadata": {},
   "source": [
    "## 5.模型训练"
   ]
  },
  {
   "cell_type": "code",
   "execution_count": 5,
   "id": "e1bbf63c-34aa-43aa-b1b2-9ea116d39711",
   "metadata": {},
   "outputs": [],
   "source": [
    "def train(X, y, ite=200):\n",
    "    m, n = X.shape  # 506,13\n",
    "    # W = np.random.randn(n, 1)\n",
    "    W = np.random.uniform(-0.1, 0.1, n).reshape(n, 1)\n",
    "    b = 0.1\n",
    "    alpha = 0.08\n",
    "    costs = []\n",
    "    for i in range(ite):\n",
    "        J = cost_function(X, y, W, b)\n",
    "        costs.append(J)\n",
    "        W, b = gradient_descent(X, y, W, b, alpha)\n",
    "    y_pre = prediction(X, W, b)\n",
    "    print(\"Results by implementation:\")\n",
    "    print(classification_report(y, y_pre))\n",
    "    return costs\n",
    "\n",
    "\n",
    "def train_by_sklearn(x, y):\n",
    "    model = LogisticRegression(multi_class='ovr')\n",
    "    model.fit(x, y.ravel())\n",
    "    print(\"Accuracy by sklearn: \", model.score(x, y))"
   ]
  },
  {
   "cell_type": "markdown",
   "id": "0f240abb-2ad1-4e0b-82be-57746bedd512",
   "metadata": {},
   "source": [
    "## 6.运行"
   ]
  },
  {
   "cell_type": "code",
   "execution_count": 6,
   "id": "9338b1a4-5d3f-480b-b66d-5f4887276fa8",
   "metadata": {},
   "outputs": [
    {
     "name": "stdout",
     "output_type": "stream",
     "text": [
      "Results by implementation:\n",
      "              precision    recall  f1-score   support\n",
      "\n",
      "           0       0.99      0.96      0.98       212\n",
      "           1       0.98      0.99      0.99       357\n",
      "\n",
      "    accuracy                           0.98       569\n",
      "   macro avg       0.98      0.98      0.98       569\n",
      "weighted avg       0.98      0.98      0.98       569\n",
      "\n",
      "Accuracy by sklearn:  0.9876977152899824\n"
     ]
    },
    {
     "data": {
      "image/png": "[encoded data removed]",
      "text/plain": [
       "<Figure size 640x480 with 1 Axes>"
      ]
     },
     "metadata": {},
     "output_type": "display_data"
    }
   ],
   "source": [
    "if __name__ == '__main__':\n",
    "    x, y = load_data(standarlized=True)\n",
    "\n",
    "    costs = train(x, y)\n",
    "    train_by_sklearn(x, y)\n",
    "    plt.plot(range(len(costs)), costs, label='cost')\n",
    "    plt.legend(fontsize=15)\n",
    "    plt.tight_layout()  # 调整子图间距\n",
    "    plt.show()\n"
   ]
  }
 ],
 "metadata": {
  "kernelspec": {
   "display_name": "Python 3 (ipykernel)",
   "language": "python",
   "name": "python3"
  },
  "language_info": {
   "codemirror_mode": {
    "name": "ipython",
    "version": 3
   },
   "file_extension": ".py",
   "mimetype": "text/x-python",
   "name": "python",
   "nbconvert_exporter": "python",
   "pygments_lexer": "ipython3",
   "version": "3.11.8"
  }
 },
 "nbformat": 4,
 "nbformat_minor": 5
}
