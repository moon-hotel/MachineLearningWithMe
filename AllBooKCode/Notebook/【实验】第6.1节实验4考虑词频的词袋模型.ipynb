{
 "cells": [
  {
   "cell_type": "markdown",
   "id": "5b5cefd0-4460-4d41-ba70-aedd08d10331",
   "metadata": {},
   "source": [
    "## 词袋模型（scikit-learn示例）"
   ]
  },
  {
   "cell_type": "code",
   "execution_count": 3,
   "id": "ce1da555-e2a7-4ea2-aca6-465f1c0afea5",
   "metadata": {},
   "outputs": [
    {
     "name": "stdout",
     "output_type": "stream",
     "text": [
      "[('分词', 0), ('处理', 1), ('工具', 2), ('常见', 3), ('很多', 4), ('文本', 5), ('用于', 6), ('进行', 7)]\n",
      "[[2 1 1 0 0 2 1 1]\n",
      " [1 2 1 1 1 1 1 0]]\n"
     ]
    }
   ],
   "source": [
    "from sklearn.feature_extraction.text import CountVectorizer\n",
    "\n",
    "if __name__ == '__main__':\n",
    "    s = ['文本 分词 工具 可 用于 对 文本 进行 分词 处理',\n",
    "         '常见 的 用于 处理 文本 的 分词 处理 工具 有 很多']\n",
    "    count_vec = CountVectorizer(max_features=8, token_pattern=r\"(?u)\\b\\w\\w+\\b\")\n",
    "    x = count_vec.fit_transform(s).toarray()\n",
    "    vocab = count_vec.vocabulary_\n",
    "    vocab = sorted(vocab.items(), key=lambda x: x[1])\n",
    "    print(vocab)\n",
    "    print(x)\n"
   ]
  }
 ],
 "metadata": {
  "kernelspec": {
   "display_name": "Python 3 (ipykernel)",
   "language": "python",
   "name": "python3"
  },
  "language_info": {
   "codemirror_mode": {
    "name": "ipython",
    "version": 3
   },
   "file_extension": ".py",
   "mimetype": "text/x-python",
   "name": "python",
   "nbconvert_exporter": "python",
   "pygments_lexer": "ipython3",
   "version": "3.11.8"
  }
 },
 "nbformat": 4,
 "nbformat_minor": 5
}
