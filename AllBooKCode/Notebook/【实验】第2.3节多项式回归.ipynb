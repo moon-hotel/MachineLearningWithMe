{
 "cells": [
  {
   "cell_type": "markdown",
   "id": "9a2384c7-ed5a-44a6-9fca-1aa6afe95ee5",
   "metadata": {},
   "source": [
    "# 1.构建数据集"
   ]
  },
  {
   "cell_type": "code",
   "execution_count": 2,
   "id": "52478b79-2962-4f15-bbbc-9c2f6cf505c5",
   "metadata": {},
   "outputs": [],
   "source": [
    "from sklearn.preprocessing import PolynomialFeatures\n",
    "from sklearn.linear_model import LinearRegression\n",
    "import numpy as np\n",
    "\n",
    "\n",
    "def make_data():\n",
    "    np.random.seed(10)\n",
    "    x1 = np.random.randint(5, 10, 50).reshape(50, 1)\n",
    "    x2 = np.random.randint(10, 16, 50).reshape(50, 1)\n",
    "    x = np.hstack((x1, x2))\n",
    "    # 在这里我们便得到了一个50行2列的样本数据，其中第一列为上底，第二列为下底\n",
    "    y = 0.5 * (x1 + x2) * x1\n",
    "    return x, y"
   ]
  },
  {
   "cell_type": "markdown",
   "id": "2cc2568d-a42a-4629-a852-6518c2877750",
   "metadata": {},
   "source": [
    "# 2.模型训练"
   ]
  },
  {
   "cell_type": "code",
   "execution_count": 3,
   "id": "ae96800b-461f-4ea6-a752-3381420cb631",
   "metadata": {},
   "outputs": [
    {
     "name": "stdout",
     "output_type": "stream",
     "text": [
      "权重为： [[-4.22024802e-15 -5.55111512e-16  5.00000000e-01  5.00000000e-01\n",
      "   2.77555756e-17]]\n",
      "偏置为： [-1.42108547e-14]\n",
      "上底为 5，下底为 8的梯形真实面积为：32.5\n",
      "[[ 5.  8. 25. 40. 64.]]\n",
      "上底为 5，下底为 8的梯形预测面积为：[[32.5]]\n"
     ]
    }
   ],
   "source": [
    "def train(x, y):\n",
    "    poly = PolynomialFeatures(include_bias=False)\n",
    "    x_mul = poly.fit_transform(x)\n",
    "    model = LinearRegression()\n",
    "    model.fit(x_mul, y)\n",
    "    print(\"权重为：\", model.coef_)\n",
    "    print(\"偏置为：\", model.intercept_)\n",
    "    print(\"上底为 {}，下底为 {}的梯形真实面积为：{}\".format(5, 8, 0.5 * (5 + 8) * 5))\n",
    "    x_mul = poly.transform([[5, 8]])\n",
    "    print(x_mul)\n",
    "    print(\"上底为 {}，下底为 {}的梯形预测面积为：{}\".format(5, 8, model.predict(x_mul)))\n",
    "\n",
    "\n",
    "if __name__ == '__main__':\n",
    "    x, y = make_data()\n",
    "    train(x, y)\n"
   ]
  }
 ],
 "metadata": {
  "kernelspec": {
   "display_name": "Python 3 (ipykernel)",
   "language": "python",
   "name": "python3"
  },
  "language_info": {
   "codemirror_mode": {
    "name": "ipython",
    "version": 3
   },
   "file_extension": ".py",
   "mimetype": "text/x-python",
   "name": "python",
   "nbconvert_exporter": "python",
   "pygments_lexer": "ipython3",
   "version": "3.11.8"
  }
 },
 "nbformat": 4,
 "nbformat_minor": 5
}
