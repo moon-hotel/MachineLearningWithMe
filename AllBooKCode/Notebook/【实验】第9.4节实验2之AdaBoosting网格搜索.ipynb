{
 "cells": [
  {
   "cell_type": "markdown",
   "id": "f0cecf59-3f27-489a-8e3f-8eb8f2bc4309",
   "metadata": {},
   "source": [
    "### 1. 载入数据集"
   ]
  },
  {
   "cell_type": "code",
   "execution_count": 1,
   "id": "d1fa7c7a-9bd6-4c12-a0cf-44822b4bf147",
   "metadata": {},
   "outputs": [],
   "source": [
    "from sklearn.datasets import load_iris\n",
    "from sklearn.ensemble import AdaBoostClassifier\n",
    "from sklearn.model_selection import train_test_split\n",
    "from sklearn.tree import DecisionTreeClassifier\n",
    "from sklearn.model_selection import GridSearchCV\n",
    "\n",
    "\n",
    "def load_data():\n",
    "    data = load_iris()\n",
    "    x, y = data.data, data.target\n",
    "    x_train, x_test, y_train, y_test \\\n",
    "        = train_test_split(x, y, test_size=0.3, random_state=10)\n",
    "    return x_train, x_test, y_train, y_test\n"
   ]
  },
  {
   "cell_type": "markdown",
   "id": "23e687e6-c065-4f92-9960-6754d2ae9246",
   "metadata": {},
   "source": [
    "### 2. 运行结果"
   ]
  },
  {
   "cell_type": "code",
   "execution_count": 2,
   "id": "ed020a38-b091-4224-af34-a2ea3931b710",
   "metadata": {},
   "outputs": [
    {
     "name": "stdout",
     "output_type": "stream",
     "text": [
      "Fitting 3 folds for each of 16 candidates, totalling 48 fits\n",
      "[CV] END estimator__criterion=gini, estimator__max_depth=1, n_estimators=20; total time=   0.0s\n",
      "[CV] END estimator__criterion=gini, estimator__max_depth=1, n_estimators=20; total time=   0.0s\n",
      "[CV] END estimator__criterion=gini, estimator__max_depth=1, n_estimators=20; total time=   0.0s\n",
      "[CV] END estimator__criterion=gini, estimator__max_depth=1, n_estimators=30; total time=   0.0s\n",
      "[CV] END estimator__criterion=gini, estimator__max_depth=1, n_estimators=30; total time=   0.0s\n",
      "[CV] END estimator__criterion=gini, estimator__max_depth=1, n_estimators=30; total time=   0.2s\n",
      "[CV] END estimator__criterion=gini, estimator__max_depth=1, n_estimators=50; total time=   0.1s\n",
      "[CV] END estimator__criterion=gini, estimator__max_depth=1, n_estimators=50; total time=   0.1s\n",
      "[CV] END estimator__criterion=gini, estimator__max_depth=1, n_estimators=50; total time=   0.1s\n",
      "[CV] END estimator__criterion=gini, estimator__max_depth=1, n_estimators=100; total time=   0.2s\n",
      "[CV] END estimator__criterion=gini, estimator__max_depth=1, n_estimators=100; total time=   0.2s\n",
      "[CV] END estimator__criterion=gini, estimator__max_depth=1, n_estimators=100; total time=   0.2s\n",
      "[CV] END estimator__criterion=gini, estimator__max_depth=2, n_estimators=20; total time=   0.0s\n",
      "[CV] END estimator__criterion=gini, estimator__max_depth=2, n_estimators=20; total time=   0.0s\n",
      "[CV] END estimator__criterion=gini, estimator__max_depth=2, n_estimators=20; total time=   0.0s\n",
      "[CV] END estimator__criterion=gini, estimator__max_depth=2, n_estimators=30; total time=   0.0s\n",
      "[CV] END estimator__criterion=gini, estimator__max_depth=2, n_estimators=30; total time=   0.0s\n",
      "[CV] END estimator__criterion=gini, estimator__max_depth=2, n_estimators=30; total time=   0.0s\n",
      "[CV] END estimator__criterion=gini, estimator__max_depth=2, n_estimators=50; total time=   0.1s\n",
      "[CV] END estimator__criterion=gini, estimator__max_depth=2, n_estimators=50; total time=   0.1s\n",
      "[CV] END estimator__criterion=gini, estimator__max_depth=2, n_estimators=50; total time=   0.1s\n",
      "[CV] END estimator__criterion=gini, estimator__max_depth=2, n_estimators=100; total time=   0.2s\n",
      "[CV] END estimator__criterion=gini, estimator__max_depth=2, n_estimators=100; total time=   0.2s\n",
      "[CV] END estimator__criterion=gini, estimator__max_depth=2, n_estimators=100; total time=   0.2s\n",
      "[CV] END estimator__criterion=entropy, estimator__max_depth=1, n_estimators=20; total time=   0.0s\n",
      "[CV] END estimator__criterion=entropy, estimator__max_depth=1, n_estimators=20; total time=   0.0s\n",
      "[CV] END estimator__criterion=entropy, estimator__max_depth=1, n_estimators=20; total time=   0.0s\n",
      "[CV] END estimator__criterion=entropy, estimator__max_depth=1, n_estimators=30; total time=   0.0s\n",
      "[CV] END estimator__criterion=entropy, estimator__max_depth=1, n_estimators=30; total time=   0.0s\n",
      "[CV] END estimator__criterion=entropy, estimator__max_depth=1, n_estimators=30; total time=   0.1s\n",
      "[CV] END estimator__criterion=entropy, estimator__max_depth=1, n_estimators=50; total time=   0.1s\n",
      "[CV] END estimator__criterion=entropy, estimator__max_depth=1, n_estimators=50; total time=   0.1s\n",
      "[CV] END estimator__criterion=entropy, estimator__max_depth=1, n_estimators=50; total time=   0.1s\n",
      "[CV] END estimator__criterion=entropy, estimator__max_depth=1, n_estimators=100; total time=   0.2s\n",
      "[CV] END estimator__criterion=entropy, estimator__max_depth=1, n_estimators=100; total time=   0.2s\n",
      "[CV] END estimator__criterion=entropy, estimator__max_depth=1, n_estimators=100; total time=   0.2s\n",
      "[CV] END estimator__criterion=entropy, estimator__max_depth=2, n_estimators=20; total time=   0.0s\n",
      "[CV] END estimator__criterion=entropy, estimator__max_depth=2, n_estimators=20; total time=   0.0s\n",
      "[CV] END estimator__criterion=entropy, estimator__max_depth=2, n_estimators=20; total time=   0.0s\n",
      "[CV] END estimator__criterion=entropy, estimator__max_depth=2, n_estimators=30; total time=   0.0s\n",
      "[CV] END estimator__criterion=entropy, estimator__max_depth=2, n_estimators=30; total time=   0.0s\n",
      "[CV] END estimator__criterion=entropy, estimator__max_depth=2, n_estimators=30; total time=   0.1s\n",
      "[CV] END estimator__criterion=entropy, estimator__max_depth=2, n_estimators=50; total time=   0.1s\n",
      "[CV] END estimator__criterion=entropy, estimator__max_depth=2, n_estimators=50; total time=   0.1s\n",
      "[CV] END estimator__criterion=entropy, estimator__max_depth=2, n_estimators=50; total time=   0.1s\n",
      "[CV] END estimator__criterion=entropy, estimator__max_depth=2, n_estimators=100; total time=   0.2s\n",
      "[CV] END estimator__criterion=entropy, estimator__max_depth=2, n_estimators=100; total time=   0.2s\n",
      "[CV] END estimator__criterion=entropy, estimator__max_depth=2, n_estimators=100; total time=   0.3s\n",
      "最佳模型: {'estimator__criterion': 'entropy', 'estimator__max_depth': 1, 'n_estimators': 20} 准确率： 0.942857142857143\n",
      "模型在测试集上的准确率为： 0.9555555555555556\n"
     ]
    }
   ],
   "source": [
    "\n",
    "\n",
    "if __name__ == '__main__':\n",
    "    x_train, x_test, y_train, y_test = load_data()\n",
    "    dt = DecisionTreeClassifier()\n",
    "    paras = {\"estimator__criterion\": ['gini', 'entropy'],\n",
    "             \"estimator__max_depth\": [1, 2],  # estimator__ 来索引基模型中的各个参数\n",
    "             \"n_estimators\": [20, 30, 50, 100]}\n",
    "\n",
    "    ada = AdaBoostClassifier(estimator=dt,algorithm='SAMME')\n",
    "    gs = GridSearchCV(ada, paras, verbose=2, cv=3)\n",
    "    gs.fit(x_train, y_train)\n",
    "    print('最佳模型:', gs.best_params_, '准确率：', gs.best_score_)\n",
    "    print(\"模型在测试集上的准确率为：\", gs.score(x_test, y_test))\n"
   ]
  }
 ],
 "metadata": {
  "kernelspec": {
   "display_name": "Python 3 (ipykernel)",
   "language": "python",
   "name": "python3"
  },
  "language_info": {
   "codemirror_mode": {
    "name": "ipython",
    "version": 3
   },
   "file_extension": ".py",
   "mimetype": "text/x-python",
   "name": "python",
   "nbconvert_exporter": "python",
   "pygments_lexer": "ipython3",
   "version": "3.11.8"
  }
 },
 "nbformat": 4,
 "nbformat_minor": 5
}
