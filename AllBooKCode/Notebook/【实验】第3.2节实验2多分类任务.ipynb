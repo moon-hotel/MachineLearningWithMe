{
 "cells": [
  {
   "cell_type": "markdown",
   "id": "eb74d1c2-4d2d-4b51-9e07-cd0e50a8e4a2",
   "metadata": {},
   "source": [
    "## 1.载入数据"
   ]
  },
  {
   "cell_type": "code",
   "execution_count": 1,
   "id": "f04b5bde-d524-4aa8-9d32-79403f852a8d",
   "metadata": {},
   "outputs": [],
   "source": [
    "from sklearn.linear_model import LogisticRegression\n",
    "from sklearn.datasets import load_iris\n",
    "\n",
    "\n",
    "def load_data():\n",
    "    data = load_iris()\n",
    "    x, y = data.data, data.target\n",
    "    return x, y\n"
   ]
  },
  {
   "cell_type": "markdown",
   "id": "2c067dfa-5b92-4766-80ed-66de13e1cd80",
   "metadata": {},
   "source": [
    "## 2.训练模型"
   ]
  },
  {
   "cell_type": "code",
   "execution_count": 2,
   "id": "6ca2afaf-8433-4029-a23d-6e900ca7d149",
   "metadata": {},
   "outputs": [
    {
     "name": "stdout",
     "output_type": "stream",
     "text": [
      "得分:  0.9533333333333334\n"
     ]
    }
   ],
   "source": [
    "def train(x, y):\n",
    "    model = LogisticRegression(multi_class='ovr')\n",
    "    model.fit(x,y)\n",
    "    print(\"得分: \", model.score(x, y))\n",
    "\n",
    "\n",
    "if __name__ == '__main__':\n",
    "    x, y = load_data()\n",
    "    train(x, y)\n"
   ]
  }
 ],
 "metadata": {
  "kernelspec": {
   "display_name": "Python 3 (ipykernel)",
   "language": "python",
   "name": "python3"
  },
  "language_info": {
   "codemirror_mode": {
    "name": "ipython",
    "version": 3
   },
   "file_extension": ".py",
   "mimetype": "text/x-python",
   "name": "python",
   "nbconvert_exporter": "python",
   "pygments_lexer": "ipython3",
   "version": "3.11.8"
  }
 },
 "nbformat": 4,
 "nbformat_minor": 5
}
