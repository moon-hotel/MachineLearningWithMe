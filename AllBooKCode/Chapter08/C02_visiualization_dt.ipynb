{
 "cells": [
  {
   "cell_type": "markdown",
   "id": "9cb4886d-b250-4fca-a513-f0443f54aaf8",
   "metadata": {},
   "source": [
    "## 1.载入数据集"
   ]
  },
  {
   "cell_type": "code",
   "execution_count": 1,
   "id": "aca225b3-88c5-4b57-b02e-5bdaaa9ba1f6",
   "metadata": {},
   "outputs": [],
   "source": [
    "from sklearn.datasets import load_iris\n",
    "from sklearn.model_selection import train_test_split\n",
    "from sklearn import tree\n",
    "import graphviz\n",
    "\n",
    "\n",
    "def load_data():\n",
    "    data = load_iris()\n",
    "    X, y = data.data, data.target\n",
    "    feature_names = data.feature_names\n",
    "    X_train, X_test, y_train, y_test = \\\n",
    "        train_test_split(X, y, test_size=0.3, random_state=42)\n",
    "    return X_train, X_test, y_train, y_test, feature_names\n",
    "\n"
   ]
  },
  {
   "cell_type": "markdown",
   "id": "2de815d7-8776-49be-9071-c39d48867fa8",
   "metadata": {},
   "source": [
    "## 2.模型训练"
   ]
  },
  {
   "cell_type": "code",
   "execution_count": 5,
   "id": "2e90ffbd-ccbe-4cef-9db2-8924ff748c58",
   "metadata": {},
   "outputs": [],
   "source": [
    "def train(X_train, X_test, y_train, y_test, feature_names):\n",
    "    model = tree.DecisionTreeClassifier(criterion='entropy')\n",
    "    model.fit(X_train, y_train)\n",
    "    print(\"在测试集上的准确率为：\", model.score(X_test, y_test))\n",
    "    dot_data = tree.export_graphviz(model, out_file=None,\n",
    "                                    feature_names=feature_names,\n",
    "                                    filled=True, rounded=True,\n",
    "                                    special_characters=True)\n",
    "    graph = graphviz.Source(dot_data)\n",
    "    graph.render('iris2')\n",
    "\n",
    "    # 如果是Mac OS\n",
    "    # Step 1. 则需要先下载brew工具\n",
    "    # 地址：https://www.macports.org/install.php\n",
    "    # 选择对应版本的pkg文件，然后双击安装\n",
    "    # Step 2. 安装graphviz\n",
    "    # sudo port install graphviz\n",
    "\n",
    "    # 如果上面安装不成功，则可以以源码的方式进行安装，一下方式可以参考\n",
    "    # 下载：https://github.com/macports/macports-base/releases/download/v2.7.1/MacPorts-2.7.1.tar.gz\n",
    "    # 解压：tar zxvf MacPorts-2.7.1.tar.gz\n",
    "    # cd MacPorts-2.7.1\n",
    "    # ./configure && make && sudo make install\n",
    "    # 然后再安装graphviz\n",
    "    # sudo port install graphviz\n"
   ]
  },
  {
   "cell_type": "markdown",
   "id": "fb00372c-d551-4e1c-b7d5-770804e31c61",
   "metadata": {},
   "source": [
    "## 3.可视化结果"
   ]
  },
  {
   "cell_type": "code",
   "execution_count": 8,
   "id": "9d3f88c4-690a-4de9-a486-715035a09a1d",
   "metadata": {},
   "outputs": [
    {
     "name": "stdout",
     "output_type": "stream",
     "text": [
      "在测试集上的准确率为： 1.0\n"
     ]
    }
   ],
   "source": [
    "if __name__ == '__main__':\n",
    "    X_train, X_test, y_train, y_test, feature_names = load_data()\n",
    "    train(X_train, X_test, y_train, y_test, feature_names)"
   ]
  }
 ],
 "metadata": {
  "kernelspec": {
   "display_name": "Python 3 (ipykernel)",
   "language": "python",
   "name": "python3"
  },
  "language_info": {
   "codemirror_mode": {
    "name": "ipython",
    "version": 3
   },
   "file_extension": ".py",
   "mimetype": "text/x-python",
   "name": "python",
   "nbconvert_exporter": "python",
   "pygments_lexer": "ipython3",
   "version": "3.11.8"
  }
 },
 "nbformat": 4,
 "nbformat_minor": 5
}
