{
 "cells": [
  {
   "cell_type": "markdown",
   "id": "a47a1f4b-726d-4f3f-bb3d-11b0c742ed7b",
   "metadata": {},
   "source": [
    "## TFIDF计算示例"
   ]
  },
  {
   "cell_type": "code",
   "execution_count": 4,
   "id": "2f29ea2a-1cf8-43ca-9ab6-e95cbea03f92",
   "metadata": {},
   "outputs": [
    {
     "name": "stdout",
     "output_type": "stream",
     "text": [
      "[[1.         1.22314355 1.51082562 1.         0.         1.\n",
      "  0.         0.        ]\n",
      " [1.         2.4462871  0.         1.         1.91629073 1.\n",
      "  0.         0.        ]\n",
      " [1.         0.         0.         1.         0.         1.\n",
      "  1.91629073 1.91629073]\n",
      " [1.         1.22314355 1.51082562 1.         0.         1.\n",
      "  0.         0.        ]]\n",
      "\n",
      "\n",
      "TfidfVectorizer转换结果：\n",
      "[[1.         1.22314355 1.51082562 1.         0.         1.\n",
      "  0.         0.        ]\n",
      " [1.         2.4462871  0.         1.         1.91629073 1.\n",
      "  0.         0.        ]\n",
      " [1.         0.         0.         1.         0.         1.\n",
      "  1.91629073 1.91629073]\n",
      " [1.         1.22314355 1.51082562 1.         0.         1.\n",
      "  0.         0.        ]]\n"
     ]
    }
   ],
   "source": [
    "corpus = ['this is the first document',\n",
    "          'this document is the second document',\n",
    "          'and this is the third one',\n",
    "          'is this the first document']\n",
    "vocabulary = ['this', 'document', 'first', 'is', 'second', 'the',\n",
    "              'and', 'one']\n",
    "\n",
    "from sklearn.feature_extraction.text import TfidfTransformer\n",
    "from sklearn.feature_extraction.text import CountVectorizer\n",
    "from sklearn.feature_extraction.text import TfidfVectorizer\n",
    "\n",
    "if __name__ == '__main__':\n",
    "    count = CountVectorizer(vocabulary=vocabulary)\n",
    "    count_matrix = count.fit_transform(corpus).toarray()\n",
    "    tfidf_trans = TfidfTransformer(norm=None)\n",
    "    tfidf_matrix = tfidf_trans.fit_transform(count_matrix)\n",
    "    idf_vec = tfidf_trans.idf_\n",
    "    print(tfidf_matrix.toarray())\n",
    "\n",
    "    print(\"\\n\\nTfidfVectorizer转换结果：\")\n",
    "    tfidf = TfidfVectorizer(norm=None, vocabulary=vocabulary)\n",
    "    print(tfidf.fit_transform(corpus).toarray())\n"
   ]
  }
 ],
 "metadata": {
  "kernelspec": {
   "display_name": "Python 3 (ipykernel)",
   "language": "python",
   "name": "python3"
  },
  "language_info": {
   "codemirror_mode": {
    "name": "ipython",
    "version": 3
   },
   "file_extension": ".py",
   "mimetype": "text/x-python",
   "name": "python",
   "nbconvert_exporter": "python",
   "pygments_lexer": "ipython3",
   "version": "3.11.8"
  }
 },
 "nbformat": 4,
 "nbformat_minor": 5
}
