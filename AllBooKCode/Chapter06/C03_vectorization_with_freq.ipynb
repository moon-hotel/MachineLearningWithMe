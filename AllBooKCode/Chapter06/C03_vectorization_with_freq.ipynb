{
 "cells": [
  {
   "cell_type": "markdown",
   "id": "8bdedcde-725e-40ad-b7c1-8ea3f7bf0571",
   "metadata": {},
   "source": [
    "## 文本向量化（考虑词频）"
   ]
  },
  {
   "cell_type": "code",
   "execution_count": 3,
   "id": "6e2818c0-d890-4016-92d9-9fa1a50a1d71",
   "metadata": {},
   "outputs": [
    {
     "name": "stdout",
     "output_type": "stream",
     "text": [
      "词表： ['文本', '分词', '处理', '工具', '用于', '进行', '常见', '很多']\n",
      "文本： [['文本', '分词', '工具', '可', '用于', '对', '文本', '进行', '分词', '处理'], ['常见', '的', '用于', '处理', '文本', '的', '分词', '处理', '工具', '有', '很多']]\n",
      "[[2, 2, 1, 1, 1, 1, 0, 0], [1, 1, 2, 1, 1, 0, 1, 1]]\n"
     ]
    }
   ],
   "source": [
    "import jieba\n",
    "from collections import Counter\n",
    "\n",
    "\n",
    "def vectorization_with_freq(s):\n",
    "    cut_words = \"\"\n",
    "    x_text = []\n",
    "    # ---------分词处理------------------\n",
    "    for item in s:\n",
    "        seg_list = jieba.cut(item, cut_all=False)\n",
    "        tmp = \" \".join(seg_list)\n",
    "        cut_words += (tmp + \" \")\n",
    "        x_text.append(tmp.split())\n",
    "    all_words = cut_words.split()\n",
    "    c = Counter()\n",
    "    for x in all_words:\n",
    "        if len(x) > 1 and x != '\\r\\n':\n",
    "            c[x] += 1\n",
    "    # ---------词频统计构造词表------------------\n",
    "    vocab = []\n",
    "    for (k, v) in c.most_common(8):  # 输出词频最高的前8个词\n",
    "        vocab.append(k)\n",
    "    # ---------向量化------------------\n",
    "    x_vec = []\n",
    "    for item in x_text:\n",
    "        tmp = dict(zip(vocab, [0] * len(vocab)))\n",
    "        for w in item:\n",
    "            if w in vocab:\n",
    "                tmp[w] += 1\n",
    "        x_vec.append(list(tmp.values()))\n",
    "    print(\"词表：\", vocab)\n",
    "    print(\"文本：\", x_text)\n",
    "    print(x_vec)\n",
    "\n",
    "\n",
    "if __name__ == '__main__':\n",
    "    s = ['文本分词工具可用于对文本进行分词处理', '常见的用于处理文本的分词处理工具有很多']\n",
    "    vectorization_with_freq(s)\n"
   ]
  }
 ],
 "metadata": {
  "kernelspec": {
   "display_name": "Python 3 (ipykernel)",
   "language": "python",
   "name": "python3"
  },
  "language_info": {
   "codemirror_mode": {
    "name": "ipython",
    "version": 3
   },
   "file_extension": ".py",
   "mimetype": "text/x-python",
   "name": "python",
   "nbconvert_exporter": "python",
   "pygments_lexer": "ipython3",
   "version": "3.11.8"
  }
 },
 "nbformat": 4,
 "nbformat_minor": 5
}
