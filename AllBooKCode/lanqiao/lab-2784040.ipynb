{
 "cells": [
  {
   "cell_type": "markdown",
   "id": "ec27cffb-4291-4e4b-a09a-e6cb68288b44",
   "metadata": {},
   "source": [
    "# 【实验】第11.5节从零实现kmeans++算法"
   ]
  },
  {
   "cell_type": "markdown",
   "id": "4e7a4a0a-4da7-49f5-aaee-42cd7466e892",
   "metadata": {},
   "source": [
    "## 实验介绍"
   ]
  },
  {
   "cell_type": "markdown",
   "id": "8cb0838a-d534-4a05-a180-abf9116767c7",
   "metadata": {},
   "source": [
    "在本节内容中，我们将会详细介绍如何从零实现Kmeans++聚类算法。从整体来看，Kmeans++聚类算法仅仅只是在簇中心初始化部分与Kmeans算法有所差异，其余部分完全一致。同时，我们也将介绍如何对整个聚类过程进行可视化。"
   ]
  },
  {
   "cell_type": "markdown",
   "id": "091d0593-186d-467e-aa37-d484c902af29",
   "metadata": {},
   "source": [
    "### 知识点"
   ]
  },
  {
   "cell_type": "markdown",
   "id": "7b6f8fa8-d7ab-4cf0-84b6-48b6af7b8ee5",
   "metadata": {},
   "source": [
    "- 从零实现Kmeans++\n",
    "- 聚类过程可视化"
   ]
  },
  {
   "cell_type": "markdown",
   "id": "a4502ca2-29f8-44bb-b1e6-b33f83312ee6",
   "metadata": {},
   "source": [
    "## 1.构建数据集"
   ]
  },
  {
   "cell_type": "code",
   "execution_count": 4,
   "id": "6ea0893d-6c63-401e-a4fb-f8156b6a8b37",
   "metadata": {},
   "outputs": [],
   "source": [
    "import numpy as np\n",
    "from sklearn.datasets import make_blobs\n",
    "from sklearn.metrics.cluster import normalized_mutual_info_score\n",
    "import matplotlib.pyplot as plt\n",
    "from sklearn.cluster import KMeans\n",
    "\n",
    "\n",
    "def make_data():\n",
    "    centers = [[2.2, 1], [3.8, 1], [3, 2.8]]  # 指定簇中心\n",
    "    x, y = make_blobs(n_samples=900, centers=centers, cluster_std=0.35, random_state=200)\n",
    "    return x, y"
   ]
  },
  {
   "cell_type": "markdown",
   "id": "b052a068-02d7-4b46-ac2a-ea1800e66bef",
   "metadata": {},
   "source": [
    "## 2.初始化簇中心"
   ]
  },
  {
   "cell_type": "code",
   "execution_count": 5,
   "id": "e75a50eb-408a-4504-ad11-6c5525155858",
   "metadata": {},
   "outputs": [],
   "source": [
    "def InitialCentroid(x, K):\n",
    "    c0_idx = int(np.random.uniform(0, len(x)))\n",
    "    centroid = x[c0_idx].reshape(1, -1)  # 选择第一个簇中心\n",
    "    k, n = 1, x.shape[0]\n",
    "    while k < K:\n",
    "        d2 = []\n",
    "        for i in range(n):\n",
    "            subs = centroid - x[i, :]\n",
    "            dimension2 = np.power(subs, 2)\n",
    "            dimension_s = np.sum(dimension2, axis=1)  # sum of each row\n",
    "            d2.append(np.min(dimension_s))\n",
    "        # ---- 直接选择距离最远（概率值最大）的 ------\n",
    "        # new_c_idx = np.argmax(d2)\n",
    "        # ---- 依照概率分布进行选择，距离越远越有可能被选中 -----\n",
    "        prob = np.array(d2) / np.sum(np.array(d2))\n",
    "        new_c_idx = np.random.choice(n, p=prob)\n",
    "\n",
    "        centroid = np.vstack([centroid, x[new_c_idx]])\n",
    "        k += 1\n",
    "    return centroid"
   ]
  },
  {
   "cell_type": "markdown",
   "id": "a8cdccf9-37cb-4aa2-932d-c9dce9e7ac6e",
   "metadata": {},
   "source": [
    "## 3.寻找最近簇中心"
   ]
  },
  {
   "cell_type": "code",
   "execution_count": 6,
   "id": "7e7ce750-3c76-4b60-84d8-d9562f7a2f21",
   "metadata": {},
   "outputs": [],
   "source": [
    "def findClostestCentroids(X, centroid):\n",
    "    idx = np.zeros((np.size(X, 0)), dtype=int)\n",
    "    n = X.shape[0]  # n 表示样本个数\n",
    "    for i in range(n):\n",
    "        subs = centroid - X[i, :]\n",
    "        dimension2 = np.power(subs, 2)\n",
    "        dimension_s = np.sum(dimension2, axis=1)  # sum of each row\n",
    "        dimension_s = np.nan_to_num(dimension_s)\n",
    "        idx[i] = np.where(dimension_s == dimension_s.min())[0][0]\n",
    "    return idx"
   ]
  },
  {
   "cell_type": "markdown",
   "id": "e7824fc0-093b-4b3d-9412-2f8d64d460bc",
   "metadata": {},
   "source": [
    "## 4.更新簇中心"
   ]
  },
  {
   "cell_type": "code",
   "execution_count": 7,
   "id": "6ded1fc8-c412-487b-871a-072a3e4ff965",
   "metadata": {},
   "outputs": [],
   "source": [
    "def computeCentroids(X, idx, K):\n",
    "    n, m = X.shape\n",
    "    centriod = np.zeros((K, m), dtype=float)\n",
    "    for k in range(K):\n",
    "        index = np.where(idx == k)[0]  # 一个簇一个簇的分开来计算\n",
    "        temp = X[index, :]  # ? by m # 每次先取出一个簇中的所有样本\n",
    "        s = np.sum(temp, axis=0)\n",
    "        centriod[k, :] = s / np.size(index)\n",
    "    return centriod"
   ]
  },
  {
   "cell_type": "markdown",
   "id": "006bd01d-c29a-4cf8-b33d-94b2fea80c59",
   "metadata": {},
   "source": [
    "## 5. kmeans++迭代过程"
   ]
  },
  {
   "cell_type": "code",
   "execution_count": 8,
   "id": "195956a8-6a80-49dc-8fba-f3e6dd5d6989",
   "metadata": {},
   "outputs": [],
   "source": [
    "def kmeanspp(X, K, max_iter=200):\n",
    "    centroids = InitialCentroid(X, K)\n",
    "    idx = None\n",
    "    for i in range(max_iter):\n",
    "        idx = findClostestCentroids(X, centroids)\n",
    "        centroids = computeCentroids(X, idx, K)\n",
    "    return idx, centroids"
   ]
  },
  {
   "cell_type": "markdown",
   "id": "8ba7bff9-6fe5-4af5-830a-62b7dd68b401",
   "metadata": {},
   "source": [
    "## 6.kmeans++聚类过程可视化"
   ]
  },
  {
   "cell_type": "code",
   "execution_count": 9,
   "id": "f4e55c72-a7c2-4b0e-af36-36db2096c77b",
   "metadata": {},
   "outputs": [],
   "source": [
    "def kmeanspp_visual(X, idx, K):\n",
    "    plt.figure(figsize=(12, 4), dpi=80)\n",
    "    centroids = InitialCentroid(X, K)\n",
    "    fig_idx = 1\n",
    "    row, col = 2, 3\n",
    "    step = 1\n",
    "    for i in range(row * col * step):\n",
    "        if i % step == 0:\n",
    "            index_c0, index_c1, index_c2 = (idx == 0), (idx == 1), (idx == 2)\n",
    "            c0, c1, c2 = X[index_c0], X[index_c1], X[index_c2]\n",
    "            plt.subplot(row, col, fig_idx)\n",
    "            plt.scatter(c0[:, 0], c0[:, 1])\n",
    "            plt.scatter(c1[:, 0], c1[:, 1])\n",
    "            plt.scatter(c2[:, 0], c2[:, 1])\n",
    "            plt.scatter(centroids[0, 0], centroids[0, 1], c='black', s=50)\n",
    "            plt.scatter(centroids[1, 0], centroids[1, 1], c='black', s=50)\n",
    "            plt.scatter(centroids[2, 0], centroids[2, 1], c='black', s=50)\n",
    "            plt.xlabel(\"iter = {}\".format(fig_idx - 1), fontsize=15)\n",
    "            fig_idx += 1\n",
    "            plt.xticks([])\n",
    "            plt.yticks([])\n",
    "        idx = findClostestCentroids(X, centroids)\n",
    "        centroids = computeCentroids(X, idx, K)\n",
    "    plt.tight_layout()\n",
    "    plt.show()\n",
    "    return idx\n"
   ]
  },
  {
   "cell_type": "markdown",
   "id": "4398244f-889b-4ac5-b08b-38876d08c3a6",
   "metadata": {},
   "source": [
    "## 7.kmeans++运行结果"
   ]
  },
  {
   "cell_type": "code",
   "execution_count": 10,
   "id": "eb9cfd6c-c951-44c7-8f62-13d58e8ae6b2",
   "metadata": {},
   "outputs": [
    {
     "name": "stdout",
     "output_type": "stream",
     "text": [
      "NMI by ours:  0.9456935014894648\n",
      "centroids:  [[2.20105974 1.00882189]\n",
      " [3.79243249 1.00756396]\n",
      " [2.99200232 2.81003461]]\n",
      "NMI by sklearn:  0.9456935014894648\n",
      "centroids:  [[2.99200232 2.81003461]\n",
      " [2.20105974 1.00882189]\n",
      " [3.79243249 1.00756396]]\n"
     ]
    }
   ],
   "source": [
    "\n",
    "if __name__ == '__main__':\n",
    "    x, y = make_data()\n",
    "    K = len(np.unique(y))\n",
    "    y_pred, centroids = kmeanspp(x, K)\n",
    "    # y_pred = kmeanspp_visual(x, y, K)\n",
    "    nmi = normalized_mutual_info_score(y, y_pred)\n",
    "    print(\"NMI by ours: \", nmi)\n",
    "    print(\"centroids: \", centroids)\n",
    "\n",
    "    model = KMeans(n_clusters=K, init='k-means++')\n",
    "    model.fit(x)\n",
    "    y_pred = model.predict(x)\n",
    "    nmi = normalized_mutual_info_score(y, y_pred)\n",
    "    print(\"NMI by sklearn: \", nmi)\n",
    "    print(\"centroids: \", model.cluster_centers_)"
   ]
  },
  {
   "cell_type": "markdown",
   "id": "48fabd33-78fb-43f5-a309-29baba3e9f12",
   "metadata": {},
   "source": [
    "## 实验总结"
   ]
  },
  {
   "cell_type": "markdown",
   "id": "3d71321f-74fd-414e-8c0b-ea868b231bd8",
   "metadata": {},
   "source": [
    "在本节内容中，我们详细介绍了如何从零实现Kmeans++聚类算法，其与Kmeans聚类算法的唯一区别便是簇中心初始化过程。进一步，我们在人工构建的数据集上对实现后的Kmeans++算法进行了验证，并于sklearn中的Kmeans++算法进行了对比，两者在最后找到的簇中心上没有差异。同时，我们还对整个聚类过程进行了可视化。"
   ]
  }
 ],
 "metadata": {
  "kernelspec": {
   "display_name": "Python 3 (ipykernel)",
   "language": "python",
   "name": "python3"
  },
  "language_info": {
   "codemirror_mode": {
    "name": "ipython",
    "version": 3
   },
   "file_extension": ".py",
   "mimetype": "text/x-python",
   "name": "python",
   "nbconvert_exporter": "python",
   "pygments_lexer": "ipython3",
   "version": "3.11.8"
  }
 },
 "nbformat": 4,
 "nbformat_minor": 5
}
