{
 "cells": [
  {
   "cell_type": "markdown",
   "id": "6aceb271-05a9-4798-b543-a8cb74de7093",
   "metadata": {},
   "source": [
    "# 【实验】第11.4节从零实现kmeans算法"
   ]
  },
  {
   "cell_type": "markdown",
   "id": "a846588b-8500-4694-8948-28dae9503632",
   "metadata": {},
   "source": [
    "## 实验介绍"
   ]
  },
  {
   "cell_type": "markdown",
   "id": "406743ba-fd49-4797-b97e-12bb37e5692c",
   "metadata": {},
   "source": [
    "在本节内容中，我们将会详细介绍如何从零实现Kmeans聚类算法，包括簇中心初始化、簇中心划分、簇中心更新以及完整的聚类迭代过程。"
   ]
  },
  {
   "cell_type": "markdown",
   "id": "a6f7e129-240d-40a7-a2fe-e0ce80e2c918",
   "metadata": {},
   "source": [
    "### 知识点"
   ]
  },
  {
   "cell_type": "markdown",
   "id": "a55c3f5a-e81d-4131-a32d-78c182221d20",
   "metadata": {},
   "source": [
    "- 从零实现Kmeans聚类"
   ]
  },
  {
   "cell_type": "markdown",
   "id": "561333d4-8cea-45aa-a481-d48d17423809",
   "metadata": {},
   "source": [
    "## 1. 载入数据集"
   ]
  },
  {
   "cell_type": "code",
   "execution_count": 2,
   "id": "5822764c-e4e1-4d16-886a-5a2616dd4cdb",
   "metadata": {},
   "outputs": [],
   "source": [
    "import numpy as np\n",
    "import random\n",
    "from sklearn.datasets import load_iris\n",
    "from sklearn.metrics.cluster import adjusted_rand_score\n",
    "from sklearn.cluster import KMeans\n",
    "\n",
    "# random.seed(12)\n",
    "\n",
    "def load_data():\n",
    "    data = load_iris()\n",
    "    x, y = data.data, data.target\n",
    "    return x, y"
   ]
  },
  {
   "cell_type": "markdown",
   "id": "55812c1e-2f7e-4ab9-bf91-1d1300444544",
   "metadata": {},
   "source": [
    "## 2. 初始化簇中心"
   ]
  },
  {
   "cell_type": "code",
   "execution_count": 4,
   "id": "3bd4a2cb-af5f-48d4-8642-461ddd77cef4",
   "metadata": {},
   "outputs": [],
   "source": [
    "def InitCentroids(X, K):\n",
    "    n = X.shape[0]\n",
    "    rands_index = np.array(random.sample(range(0, n), K))\n",
    "    centriod = X[rands_index, :]\n",
    "    return centriod"
   ]
  },
  {
   "cell_type": "markdown",
   "id": "c2b8ec4f-2f9a-41b8-83ad-2ad2fccf6a22",
   "metadata": {},
   "source": [
    "## 3. 寻找最近簇中心"
   ]
  },
  {
   "cell_type": "code",
   "execution_count": 7,
   "id": "9b88ee64-5796-44b3-88a1-938ff334417c",
   "metadata": {},
   "outputs": [],
   "source": [
    "def findClostestCentroids(X, centroid):\n",
    "    n = X.shape[0]  # n 表示样本个数\n",
    "    idx = np.zeros(n, dtype=int)\n",
    "    for i in range(n):\n",
    "        subs = centroid - X[i, :]\n",
    "        dimension2 = np.power(subs, 2)\n",
    "        dimension_s = np.sum(dimension2, axis=1)  # sum of each row\n",
    "        idx[i] = np.where(dimension_s == dimension_s.min())[0][0]\n",
    "    return idx"
   ]
  },
  {
   "cell_type": "markdown",
   "id": "fba80ae9-1667-46ec-bebf-64721041a917",
   "metadata": {},
   "source": [
    "## 4. 更新簇中心"
   ]
  },
  {
   "cell_type": "code",
   "execution_count": 8,
   "id": "da51b209-5fab-4685-b612-fe65bdbdfa77",
   "metadata": {},
   "outputs": [],
   "source": [
    "def computeCentroids(X, idx, K):\n",
    "    n, m = X.shape\n",
    "    centriod = np.zeros((K, m), dtype=float)\n",
    "    for k in range(K):\n",
    "        index = np.where(idx == k)[0]  # 一个簇一个簇的分开来计算\n",
    "        temp = X[index, :]  # ? by m # 每次先取出一个簇中的所有样本\n",
    "        s = np.sum(temp, axis=0)\n",
    "        centriod[k, :] = s / index.shape[0]\n",
    "    return centriod"
   ]
  },
  {
   "cell_type": "markdown",
   "id": "a6b4ff96-dfda-4bf5-a3fc-5c27538288d5",
   "metadata": {},
   "source": [
    "## 5. kmeans迭代过程"
   ]
  },
  {
   "cell_type": "code",
   "execution_count": 9,
   "id": "fa5d9e2f-d518-4ab9-be67-abba8514c900",
   "metadata": {},
   "outputs": [],
   "source": [
    "def kmeans(X, K, max_iter=200):\n",
    "    centroids = InitCentroids(X, K)\n",
    "    idx = None\n",
    "    for i in range(max_iter):\n",
    "        idx = findClostestCentroids(X, centroids)\n",
    "        centroids = computeCentroids(X, idx, K)\n",
    "    return idx"
   ]
  },
  {
   "cell_type": "markdown",
   "id": "3d020466-ebae-4ab2-950b-e8800c9790e0",
   "metadata": {},
   "source": [
    "## 6. 运行结果"
   ]
  },
  {
   "cell_type": "code",
   "execution_count": 11,
   "id": "f7ad144d-85b0-4d3f-b6b2-594a5501d12d",
   "metadata": {},
   "outputs": [
    {
     "name": "stdout",
     "output_type": "stream",
     "text": [
      "ARI by ours:  0.7163421126838476\n",
      "ARI by sklearn:  0.7163421126838476\n"
     ]
    }
   ],
   "source": [
    "if __name__ == '__main__':\n",
    "    x, y = load_data()\n",
    "    K = len(np.unique(y))\n",
    "    y_pred = kmeans(x, K)\n",
    "    ari = adjusted_rand_score(y, y_pred)\n",
    "    print(\"ARI by ours: \", ari)\n",
    "\n",
    "    model = KMeans(n_clusters=K)\n",
    "    model.fit(x)\n",
    "    y_pred = model.predict(x)\n",
    "    ari = adjusted_rand_score(y, y_pred)\n",
    "    print(\"ARI by sklearn: \", ari)\n"
   ]
  },
  {
   "cell_type": "markdown",
   "id": "ac482637-291e-4cbe-9b41-14505939287e",
   "metadata": {},
   "source": [
    "## 实验总结"
   ]
  },
  {
   "cell_type": "markdown",
   "id": "4bccb47b-950d-462c-a4f9-78c6c65eea35",
   "metadata": {},
   "source": [
    "在本节内容中，我们详细介绍了如何从零实现Kmeans聚类算法，包括簇中心初始化、簇中心划分、簇中心更新以及完整的聚类迭代过程；同时还将实现的聚类算法同sklearn中的实现进行了对比。从在鸢尾花上的聚类结果看，两者并没有明显的差别。"
   ]
  }
 ],
 "metadata": {
  "kernelspec": {
   "display_name": "Python 3 (ipykernel)",
   "language": "python",
   "name": "python3"
  },
  "language_info": {
   "codemirror_mode": {
    "name": "ipython",
    "version": 3
   },
   "file_extension": ".py",
   "mimetype": "text/x-python",
   "name": "python",
   "nbconvert_exporter": "python",
   "pygments_lexer": "ipython3",
   "version": "3.11.8"
  }
 },
 "nbformat": 4,
 "nbformat_minor": 5
}
