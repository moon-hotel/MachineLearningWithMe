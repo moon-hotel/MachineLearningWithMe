{
 "cells": [
  {
   "cell_type": "markdown",
   "id": "20247522-ca71-48f5-a0dc-dc59fa474bf9",
   "metadata": {},
   "source": [
    "# 【实验】第3.4节实验1从零实现逻辑回归"
   ]
  },
  {
   "cell_type": "markdown",
   "id": "b339a207-306d-469b-b770-120b27702c2e",
   "metadata": {},
   "source": [
    "## 实验介绍"
   ]
  },
  {
   "cell_type": "markdown",
   "id": "5b038088-d651-48c6-87d0-e7b683c7f8b3",
   "metadata": {},
   "source": [
    "在本节实验中，我们将详细介绍如何从零开始实现逻辑回归这一模型，包括映射函数Sigmoid及其导数的实现、假设函数和预测函数的实现、目标函数及其梯度计算的实现、模型训练和损失函数可视化的实现过程等。"
   ]
  },
  {
   "cell_type": "markdown",
   "id": "0ca60078-7fae-464d-87a9-ba65dd0a84e5",
   "metadata": {},
   "source": [
    "### 知识点"
   ]
  },
  {
   "cell_type": "markdown",
   "id": "d4cbe021-ddbe-487e-aa6e-24f06c07cadd",
   "metadata": {},
   "source": [
    "- 特征标准化\n",
    "- Sigmoid及其导数实现\n",
    "- 假设函数及预测函数实现\n",
    "- 目标函数与梯度下降实现\n",
    "- 模型训练及目标函数可视化"
   ]
  },
  {
   "cell_type": "markdown",
   "id": "73c79c6c-25c2-4429-981c-a335826cb106",
   "metadata": {},
   "source": [
    "## 1. 载入数据集及特征标准化"
   ]
  },
  {
   "cell_type": "code",
   "execution_count": 1,
   "id": "df80681d-0b28-472d-9636-28ea738a8b7b",
   "metadata": {},
   "outputs": [],
   "source": [
    "from sklearn.datasets import load_breast_cancer\n",
    "from sklearn.metrics import classification_report\n",
    "import numpy as np\n",
    "from sklearn.linear_model import LogisticRegression\n",
    "import matplotlib.pyplot as plt\n",
    "\n",
    "\n",
    "def feature_scalling(X):\n",
    "    mean = X.mean(axis=0)\n",
    "    std = X.std(axis=0)\n",
    "    return (X - mean) / std\n",
    "\n",
    "\n",
    "def load_data():\n",
    "    data = load_breast_cancer()\n",
    "    x, y = data.data, data.target.reshape(-1, 1)\n",
    "    x = feature_scalling(x)\n",
    "    return x, y\n"
   ]
  },
  {
   "cell_type": "markdown",
   "id": "23beacf1-c66f-440a-a949-a4a18f62ef5f",
   "metadata": {},
   "source": [
    "## 2. Sigmoid及导数"
   ]
  },
  {
   "cell_type": "code",
   "execution_count": 2,
   "id": "7b69126b-1649-44b9-a34c-b674c598827e",
   "metadata": {},
   "outputs": [],
   "source": [
    "def sigmoid(z):\n",
    "    return 1 / (1 + np.exp(-z))\n",
    "\n",
    "\n",
    "def sigmoid_prime(z):\n",
    "    return sigmoid(z) * (1 - sigmoid(z))"
   ]
  },
  {
   "cell_type": "markdown",
   "id": "8b9d3bd0-a72a-4895-8d82-d6c5e409f351",
   "metadata": {},
   "source": [
    "## 3. 假设函数及预测函数"
   ]
  },
  {
   "cell_type": "code",
   "execution_count": 3,
   "id": "1794fe8d-2057-4548-94c1-7fa67a6f71c7",
   "metadata": {},
   "outputs": [],
   "source": [
    "def hypothesis(X, W, bias):\n",
    "    z = np.matmul(X, W) + bias\n",
    "    h_x = sigmoid(z)\n",
    "    return h_x\n",
    "\n",
    "\n",
    "def prediction(X, W, bias, thre=0.5):\n",
    "    h_x = hypothesis(X, W, bias)\n",
    "    y_pre = (h_x > thre) * 1\n",
    "    return y_pre"
   ]
  },
  {
   "cell_type": "markdown",
   "id": "01c2c8c0-fd29-4cbc-ac70-4cbf05b86a75",
   "metadata": {},
   "source": [
    "## 4. 目标函数与梯度下降"
   ]
  },
  {
   "cell_type": "code",
   "execution_count": 5,
   "id": "a6a0fbfc-7836-4bc1-85c1-899a71831306",
   "metadata": {},
   "outputs": [],
   "source": [
    "def cost_function(X, y, W, bias):\n",
    "    m, n = X.shape\n",
    "    h_x = hypothesis(X, W, bias)\n",
    "    cost = np.sum(y * np.log(h_x) + (1 - y) * np.log(1 - h_x))\n",
    "    return -cost / m\n",
    "\n",
    "\n",
    "def gradient_descent(X, y, W, bias, alpha):\n",
    "    m, n = X.shape\n",
    "    h_x = hypothesis(X, W, bias)\n",
    "    grad_w = (1 / m) * np.matmul(X.T, (h_x - y))  # [n,m] @ [m,1]\n",
    "    grad_b = (1 / m) * np.sum(h_x - y)\n",
    "    W = W - alpha * grad_w  # 梯度下降\n",
    "    bias = bias - alpha * grad_b\n",
    "    return W, bias\n",
    "\n",
    "def accuracy(y, y_pre):\n",
    "    return np.mean((y.flatten() == y_pre.flatten()) * 1)"
   ]
  },
  {
   "cell_type": "markdown",
   "id": "f3ea934f-5159-4630-b1e1-3695ec7d29e7",
   "metadata": {},
   "source": [
    "## 5. 模型训练"
   ]
  },
  {
   "cell_type": "code",
   "execution_count": 6,
   "id": "e6173a2e-6ebd-4e5f-9932-53016d6873d9",
   "metadata": {},
   "outputs": [],
   "source": [
    "def train(X, y, ite=200):\n",
    "    m, n = X.shape  # 506,13\n",
    "    # W = np.random.randn(n, 1)\n",
    "    W = np.random.uniform(-0.1, 0.1, n).reshape(n, 1)\n",
    "    b = 0.1\n",
    "    alpha = 0.08\n",
    "    costs = []\n",
    "    for i in range(ite):\n",
    "        J = cost_function(X, y, W, b)\n",
    "        costs.append(J)\n",
    "        W, b = gradient_descent(X, y, W, b, alpha)\n",
    "    y_pre = prediction(X, W, b)\n",
    "    print(\"Results by implementation:\")\n",
    "    print(classification_report(y, y_pre))\n",
    "    return costs\n",
    "\n",
    "\n",
    "def train_by_sklearn(x, y):\n",
    "    model = LogisticRegression(multi_class='ovr')\n",
    "    model.fit(x, y.ravel())\n",
    "    print(\"Accuracy by sklearn: \", model.score(x, y))"
   ]
  },
  {
   "cell_type": "markdown",
   "id": "5d82d357-b303-40d5-a3cb-d12a68eebc75",
   "metadata": {},
   "source": [
    "## 6. 运行"
   ]
  },
  {
   "cell_type": "code",
   "execution_count": 7,
   "id": "9e47f64c-3406-4140-bec1-61c25c4b4c8a",
   "metadata": {},
   "outputs": [
    {
     "name": "stdout",
     "output_type": "stream",
     "text": [
      "Results by implementation:\n",
      "              precision    recall  f1-score   support\n",
      "\n",
      "           0       0.99      0.96      0.97       212\n",
      "           1       0.98      0.99      0.98       357\n",
      "\n",
      "    accuracy                           0.98       569\n",
      "   macro avg       0.98      0.98      0.98       569\n",
      "weighted avg       0.98      0.98      0.98       569\n",
      "\n",
      "Accuracy by sklearn:  0.9876977152899824\n"
     ]
    },
    {
     "data": {
      "image/png": "[encoded data removed]",
      "text/plain": [
       "<Figure size 640x480 with 1 Axes>"
      ]
     },
     "metadata": {},
     "output_type": "display_data"
    }
   ],
   "source": [
    "\n",
    "if __name__ == '__main__':\n",
    "    x, y = load_data()\n",
    "    costs = train(x, y)\n",
    "    train_by_sklearn(x, y)\n",
    "    plt.rcParams['ytick.direction'] = 'in'  # 刻度向内\n",
    "    plt.rcParams['xtick.direction'] = 'in'  # 刻度向内\n",
    "    plt.rcParams['font.sans-serif'] = ['Arial Unicode MS']\n",
    "    plt.plot(range(len(costs)), costs, label='损失值', c='black')\n",
    "    plt.legend(fontsize=15)\n",
    "    # plt.rcParams['font.sans-serif'] = ['SimHei']  # 指定默认字体\n",
    "    plt.tight_layout()  # 调整子图间距\n",
    "    plt.show()"
   ]
  },
  {
   "cell_type": "markdown",
   "id": "c74e1b6e-ac5a-4d8c-be00-329e45b02ef6",
   "metadata": {},
   "source": [
    "## 实验总结"
   ]
  },
  {
   "cell_type": "markdown",
   "id": "7cbdc9f1-2556-4a72-8b4f-cffed5e2af3d",
   "metadata": {},
   "source": [
    "在本节实验中，我们详细介绍了如何从零开始实现逻辑回归这一模型，包括映射函数Sigmoid及其导数的实现、假设函数和预测函数的实现、目标函数及其梯度计算的实现、模型训练和损失函数可视化的实现过程等。"
   ]
  }
 ],
 "metadata": {
  "kernelspec": {
   "display_name": "Python 3 (ipykernel)",
   "language": "python",
   "name": "python3"
  },
  "language_info": {
   "codemirror_mode": {
    "name": "ipython",
    "version": 3
   },
   "file_extension": ".py",
   "mimetype": "text/x-python",
   "name": "python",
   "nbconvert_exporter": "python",
   "pygments_lexer": "ipython3",
   "version": "3.11.8"
  }
 },
 "nbformat": 4,
 "nbformat_minor": 5
}
