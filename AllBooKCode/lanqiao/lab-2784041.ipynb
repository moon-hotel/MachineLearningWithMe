{
 "cells": [
  {
   "cell_type": "markdown",
   "id": "6cd5fbf6-cf27-4aa7-b600-e34bd2902467",
   "metadata": {},
   "source": [
    "# 【实验】第11.6节聚类外部评估指标使用示例"
   ]
  },
  {
   "cell_type": "markdown",
   "id": "dec2d8a8-ffec-45de-9ca6-9cec795bbf63",
   "metadata": {},
   "source": [
    "## 实验介绍"
   ]
  },
  {
   "cell_type": "markdown",
   "id": "7aed8030-50ff-4f58-90da-e5b084f087ff",
   "metadata": {},
   "source": [
    "在本节实验中，我们将详细介绍聚类算法中常见的4种外部评估指标的实现过程和示例用法，包括聚类纯度、兰德系数、调整兰德系数以及F值。"
   ]
  },
  {
   "cell_type": "markdown",
   "id": "618b8f4a-1e9a-4873-b74f-fc2788e619c7",
   "metadata": {},
   "source": [
    "### 知识点"
   ]
  },
  {
   "cell_type": "markdown",
   "id": "b561cc3a-b840-4992-b69d-e4d632bb2493",
   "metadata": {},
   "source": [
    "- 混淆计算过程\n",
    "- 聚类纯度、兰德系数、调整兰德系数和F值实现"
   ]
  },
  {
   "cell_type": "markdown",
   "id": "1454ce38-b0e2-41cd-b76b-12dee0200a82",
   "metadata": {},
   "source": [
    "## 1. 评估指标使用示例"
   ]
  },
  {
   "cell_type": "code",
   "execution_count": 1,
   "id": "619a3cb2-8669-428c-9822-b65b513de78d",
   "metadata": {},
   "outputs": [
    {
     "name": "stdout",
     "output_type": "stream",
     "text": [
      "purity:0.7058823529411765\n",
      "ri:0.6764705882352942\n",
      "ari:0.242914979757085\n",
      "f_measure:0.47619047619047616\n"
     ]
    }
   ],
   "source": [
    "import numpy as np\n",
    "from sklearn.metrics.cluster import pair_confusion_matrix\n",
    "\n",
    "\n",
    "def accuracy(labels_true, labels_pred):\n",
    "    clusters = np.unique(labels_pred)\n",
    "    labels_true = np.reshape(labels_true, (-1, 1))\n",
    "    labels_pred = np.reshape(labels_pred, (-1, 1))\n",
    "    count = []\n",
    "    for c in clusters:\n",
    "        idx = np.where(labels_pred == c)[0]\n",
    "        labels_tmp = labels_true[idx, :].reshape(-1)\n",
    "        count.append(np.bincount(labels_tmp).max())\n",
    "    return np.sum(count) / labels_true.shape[0]\n",
    "\n",
    "\n",
    "def get_rand_index_and_f_measure(labels_true, labels_pred, beta=1.):\n",
    "    (tn, fp), (fn, tp) = pair_confusion_matrix(labels_true, labels_pred)\n",
    "\n",
    "    ri = (tp + tn) / (tp + tn + fp + fn)\n",
    "    ari = 2. * (tp * tn - fn * fp) / ((tp + fn) * (fn + tn) + (tp + fp) * (fp + tn))\n",
    "    p, r = tp / (tp + fp), tp / (tp + fn)\n",
    "    f_beta = (1 + beta ** 2) * (p * r / ((beta ** 2) * p + r))\n",
    "    return ri, ari, f_beta\n",
    "\n",
    "\n",
    "if __name__ == '__main__':\n",
    "    y_pred = [1, 1, 1, 1, 1, 1, 0, 0, 0, 0, 0, 0, 2, 2, 2, 2, 2]\n",
    "    y_true = [0, 0, 0, 0, 0, 1, 1, 1, 1, 1, 0, 2, 2, 2, 2, 0, 0]\n",
    "    purity = accuracy(y_true, y_pred)\n",
    "    ri, ari, f_beta = get_rand_index_and_f_measure(y_true, y_pred, beta=1.)\n",
    "    print(f\"purity:{purity}\\nri:{ri}\\nari:{ari}\\nf_measure:{f_beta}\")\n"
   ]
  },
  {
   "cell_type": "markdown",
   "id": "6c858475-55c5-4283-b7b0-a9fef5f799fa",
   "metadata": {},
   "source": [
    "## 实验总结"
   ]
  },
  {
   "cell_type": "markdown",
   "id": "cd8e9ea8-94c0-43b5-aa68-22f093ba0404",
   "metadata": {},
   "source": [
    "在本节实验中，我们详细介绍了聚类算法中常见的4种外部评估指标的实现过程和示例用法，包括聚类纯度、兰德系数、调整兰德系数以及F值。同时，我们还对实现后的方法进行了测试。"
   ]
  }
 ],
 "metadata": {
  "kernelspec": {
   "display_name": "Python 3 (ipykernel)",
   "language": "python",
   "name": "python3"
  },
  "language_info": {
   "codemirror_mode": {
    "name": "ipython",
    "version": 3
   },
   "file_extension": ".py",
   "mimetype": "text/x-python",
   "name": "python",
   "nbconvert_exporter": "python",
   "pygments_lexer": "ipython3",
   "version": "3.11.8"
  }
 },
 "nbformat": 4,
 "nbformat_minor": 5
}
