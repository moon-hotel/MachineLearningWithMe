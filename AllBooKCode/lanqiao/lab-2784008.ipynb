{
 "cells": [
  {
   "cell_type": "markdown",
   "id": "79418ec1-cd9c-418b-8a54-56860c3b1640",
   "metadata": {},
   "source": [
    "# 【实验】第3.3节常见的分类评估指标"
   ]
  },
  {
   "cell_type": "markdown",
   "id": "d8a16fde-7a1d-42d1-8d57-e33bf471c47a",
   "metadata": {},
   "source": [
    "## 实验介绍"
   ]
  },
  {
   "cell_type": "markdown",
   "id": "8a643ab9-c06d-4c59-bcdb-2cac0c868c22",
   "metadata": {},
   "source": [
    "在本节实验中，我们将详细介绍分类任务中几种常见分类指标的计算原理和使用示例，并以癌症分类数据为例进行了建模和评估。"
   ]
  },
  {
   "cell_type": "markdown",
   "id": "a7b78de9-bfd0-48b1-a244-a28fae8716f7",
   "metadata": {},
   "source": [
    "### 知识点"
   ]
  },
  {
   "cell_type": "markdown",
   "id": "960e27de-6674-4b52-b1ff-426a8a0ebadf",
   "metadata": {},
   "source": [
    "- 混淆矩阵confusion_matrix的使用方式\n",
    "- 各个评价指标的计算实现"
   ]
  },
  {
   "cell_type": "markdown",
   "id": "ae388cef-ff71-477e-9782-7ab4cfa16512",
   "metadata": {},
   "source": [
    "## 1.载入数据"
   ]
  },
  {
   "cell_type": "code",
   "execution_count": 2,
   "id": "0244df70-ad11-414c-a9fa-b84a1c83cbe2",
   "metadata": {},
   "outputs": [],
   "source": [
    "from sklearn.linear_model import LogisticRegression\n",
    "from sklearn.metrics import confusion_matrix\n",
    "import numpy as np\n",
    "from sklearn.datasets import load_breast_cancer\n",
    "\n",
    "\n",
    "def load_data():\n",
    "    data = load_breast_cancer()\n",
    "    x, y = data.data, data.target\n",
    "    return x, y\n"
   ]
  },
  {
   "cell_type": "markdown",
   "id": "0200267b-a04d-4b8d-bb36-9167dc14adb1",
   "metadata": {},
   "source": [
    "## 2.计算混淆矩阵"
   ]
  },
  {
   "cell_type": "code",
   "execution_count": 3,
   "id": "69ad4746-988b-4085-9b90-dd55180ccbc4",
   "metadata": {},
   "outputs": [],
   "source": [
    "def get_acc_rec_pre_f(y_true, y_pred, beta=1.0):\n",
    "    (tn, fp), (fn, tp) = confusion_matrix(y_true, y_pred)\n",
    "    p1, p2 = tp / (tp + fp), tn / (tn + fn)\n",
    "    r1, r2 = tp / (tp + fn), tn / (tn + fp)\n",
    "    f_beta1 = (1 + beta ** 2) * p1 * r1 / (beta ** 2 * p1 + r1)\n",
    "    f_beta2 = (1 + beta ** 2) * p2 * r2 / (beta ** 2 * p2 + r2)\n",
    "    m_p, m_r, m_f = 0.5 * (p1 + p2), 0.5 * (r1 + r2), 0.5 * (f_beta1 + f_beta2)\n",
    "    class_count = np.bincount(y_true)\n",
    "    w1, w2 = class_count[1] / sum(class_count), class_count[0] / sum(class_count)\n",
    "    w_p, w_r, w_f = w1 * p1 + w2 * p2, w1 * r1 + w2 * r2, w1 * f_beta1 + w2 * f_beta2\n",
    "    print(f\"宏平均： 精确率：{m_p},召回率：{m_r},F值：{m_f}\")\n",
    "    print(f\"加权平均：精确率：{w_p},召回率：{w_r},F值：{w_f}\")"
   ]
  },
  {
   "cell_type": "markdown",
   "id": "e81edb30-0c62-4eb3-b25f-71d94a4b138c",
   "metadata": {},
   "source": [
    "## 3.模型训练"
   ]
  },
  {
   "cell_type": "code",
   "execution_count": 13,
   "id": "f5204115-8d5e-4dc0-b58d-db8e96557602",
   "metadata": {},
   "outputs": [
    {
     "name": "stdout",
     "output_type": "stream",
     "text": [
      "准确率:  0.9578207381370826\n",
      "宏平均： 精确率：0.9574941827810319,召回率：0.9520175994926272,F值：0.9546251993620414\n",
      "加权平均：精确率：0.9577957784920342,召回率：0.9578207381370826,F值：0.9576937630864186\n"
     ]
    }
   ],
   "source": [
    "def train(x, y):\n",
    "    model = LogisticRegression(multi_class='ovr',max_iter=3000)\n",
    "    model.fit(x, y)\n",
    "    y_pred = model.predict(x)\n",
    "    print(\"准确率: \", model.score(x, y))\n",
    "    get_acc_rec_pre_f(y, y_pred)\n",
    "\n",
    "\n",
    "if __name__ == '__main__':\n",
    "    x, y = load_data()\n",
    "    train(x, y)"
   ]
  },
  {
   "cell_type": "markdown",
   "id": "b933c5a2-8215-405f-817d-7fb41ac904c6",
   "metadata": {},
   "source": [
    "## 实验介绍"
   ]
  },
  {
   "cell_type": "markdown",
   "id": "b8dd3ade-a2d6-4f0c-94c2-376650d7b687",
   "metadata": {},
   "source": [
    "在本节实验中，我们介绍了分类任务中几种常见分类指标的计算原理，以及如何通过sklearn中的confusion_matrix函数来完成所有评估指标的计算过程，并以逻辑回归为例进行了建模和评估。"
   ]
  }
 ],
 "metadata": {
  "kernelspec": {
   "display_name": "Python 3 (ipykernel)",
   "language": "python",
   "name": "python3"
  },
  "language_info": {
   "codemirror_mode": {
    "name": "ipython",
    "version": 3
   },
   "file_extension": ".py",
   "mimetype": "text/x-python",
   "name": "python",
   "nbconvert_exporter": "python",
   "pygments_lexer": "ipython3",
   "version": "3.11.8"
  }
 },
 "nbformat": 4,
 "nbformat_minor": 5
}
