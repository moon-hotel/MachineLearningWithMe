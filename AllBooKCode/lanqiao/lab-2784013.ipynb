{
 "cells": [
  {
   "cell_type": "markdown",
   "id": "60bcc29a-3895-41cb-80a2-390f23499396",
   "metadata": {},
   "source": [
    "# 【实验】第4.2节实验3回归模型标准化"
   ]
  },
  {
   "cell_type": "markdown",
   "id": "7d3e19fa-e917-4946-a78d-61da39ce7bb7",
   "metadata": {},
   "source": [
    "## 实验介绍"
   ]
  },
  {
   "cell_type": "markdown",
   "id": "95ae76df-4d5a-4fd6-8c00-3181f1ccaa53",
   "metadata": {},
   "source": [
    "在本节实验中，我们将会介绍如何对房价数据集进行标准，并以线性回归模型为例来完成整个模型的训练和预测，并同时与sklearn中的实现进行对比。"
   ]
  },
  {
   "cell_type": "markdown",
   "id": "729670e2-95a1-43d1-9515-5cb613a23ef3",
   "metadata": {},
   "source": [
    "### 知识点"
   ]
  },
  {
   "cell_type": "markdown",
   "id": "5de5b6cc-338f-4961-a9be-68ac17262aaa",
   "metadata": {},
   "source": [
    "- 特征标准化\n",
    "- 线性回归实现\n",
    "- 模型训练与对比"
   ]
  },
  {
   "cell_type": "markdown",
   "id": "e2a31471-5efd-47b4-9bd1-caa01642ca88",
   "metadata": {},
   "source": [
    "## 1.载入数据集及标准"
   ]
  },
  {
   "cell_type": "code",
   "execution_count": 1,
   "id": "d7c59a27-e3eb-46c2-b5e5-f74c8aa181af",
   "metadata": {},
   "outputs": [],
   "source": [
    "from sklearn.datasets import fetch_california_housing\n",
    "from sklearn.linear_model import LinearRegression\n",
    "import numpy as np\n",
    "import matplotlib.pyplot as plt\n",
    "\n",
    "\n",
    "def standarlization(X):\n",
    "    mean = X.mean(axis=0)\n",
    "    std = X.std(axis=0)\n",
    "    return (X - mean) / std\n",
    "\n",
    "\n",
    "def load_data(standarlized=True):\n",
    "    data = fetch_california_housing()\n",
    "    X = data.data\n",
    "    y = data.target.reshape(-1, 1)\n",
    "    if standarlized:\n",
    "        X = standarlization(X)\n",
    "    return X, y\n"
   ]
  },
  {
   "cell_type": "markdown",
   "id": "7193aac7-6a4e-45b1-a364-0647707a22be",
   "metadata": {},
   "source": [
    "## 2.定义预测函数和评价指标"
   ]
  },
  {
   "cell_type": "code",
   "execution_count": 2,
   "id": "e5aa5c7b-bc92-4e1c-abc7-c12e9463b738",
   "metadata": {},
   "outputs": [],
   "source": [
    "def MSE(y, y_pre):\n",
    "    return np.mean((y - y_pre) ** 2)\n",
    "\n",
    "\n",
    "def prediction(X, W, bias):\n",
    "    return np.matmul(X, W) + bias  # [m,n] @ [n,1] = [m,1]"
   ]
  },
  {
   "cell_type": "markdown",
   "id": "a52d3f37-40aa-4680-ab2f-958f5055d98f",
   "metadata": {},
   "source": [
    "## 3.定义目标函数和梯度下降"
   ]
  },
  {
   "cell_type": "code",
   "execution_count": 3,
   "id": "fe854d06-22e1-46ad-ad3c-67f6ee72bdea",
   "metadata": {},
   "outputs": [],
   "source": [
    "def cost_function(X, y, W, bias):\n",
    "    m, n = X.shape\n",
    "    y_hat = prediction(X, W, bias)\n",
    "    return 0.5 * (1 / m) * np.sum((y - y_hat) ** 2)\n",
    "\n",
    "\n",
    "def gradient_descent(X, y, W, bias, alpha):\n",
    "    m, n = X.shape\n",
    "    y_hat = prediction(X, W, bias)\n",
    "    grad_w = -(1 / m) * np.matmul(X.T, (y - y_hat))  # [n,m] @ [m,1] = [n,1]\n",
    "    grad_b = -(1 / m) * np.sum(y - y_hat)  # 求解梯度\n",
    "    W = W - alpha * grad_w  # 梯度下降\n",
    "    bias = bias - alpha * grad_b\n",
    "    return W, bias"
   ]
  },
  {
   "cell_type": "markdown",
   "id": "48e16612-d84d-4a91-8d4f-7a75f4ee93e4",
   "metadata": {},
   "source": [
    "## 4.模型训练"
   ]
  },
  {
   "cell_type": "code",
   "execution_count": 4,
   "id": "9bfe177c-4d1a-40c4-9240-16b37b3bb2ef",
   "metadata": {},
   "outputs": [],
   "source": [
    "def train(X, y, ite=200):\n",
    "    m, n = X.shape  # 506,13\n",
    "    W = np.random.randn(n, 1)\n",
    "    b = 0.1\n",
    "    alpha = 0.2\n",
    "    costs = []\n",
    "    for i in range(ite):\n",
    "        J = cost_function(X, y, W, b)\n",
    "        costs.append(J)\n",
    "        W, b = gradient_descent(X, y, W, b, alpha)\n",
    "    y_pre = prediction(X, W, b)\n",
    "    print(\"MSE by implementation: \", MSE(y, y_pre))\n",
    "    return costs\n",
    "\n",
    "\n",
    "def train_by_sklearn(x, y):\n",
    "    model = LinearRegression()\n",
    "    model.fit(x, y)\n",
    "    y_pre = model.predict(x)\n",
    "    print(\"MSE by sklearn: \", MSE(y, y_pre))"
   ]
  },
  {
   "cell_type": "markdown",
   "id": "54cf845a-4409-4432-a9bd-f6072687fe4e",
   "metadata": {},
   "source": [
    "## 5.运行"
   ]
  },
  {
   "cell_type": "code",
   "execution_count": 5,
   "id": "4fd8d8c0-cf17-433f-95e1-0cc53bf1e394",
   "metadata": {},
   "outputs": [
    {
     "name": "stdout",
     "output_type": "stream",
     "text": [
      "MSE by sklearn:  0.5243209861846072\n",
      "MSE by implementation:  0.525159754386484\n"
     ]
    },
    {
     "data": {
      "image/png": "[encoded data removed]",
      "text/plain": [
       "<Figure size 640x480 with 1 Axes>"
      ]
     },
     "metadata": {},
     "output_type": "display_data"
    }
   ],
   "source": [
    "if __name__ == '__main__':\n",
    "    x, y = load_data(standarlized=True)\n",
    "    train_by_sklearn(x, y)\n",
    "    costs = train(x, y)\n",
    "    plt.plot(range(len(costs)), costs, label='cost')\n",
    "    plt.legend(fontsize=15)\n",
    "    plt.tight_layout()  # 调整子图间距\n",
    "    plt.show()"
   ]
  },
  {
   "cell_type": "markdown",
   "id": "90c4f689-de6a-422d-942a-4777ff53fdba",
   "metadata": {},
   "source": [
    "## 实验总结"
   ]
  },
  {
   "cell_type": "markdown",
   "id": "32f3ef9c-bb67-49f4-8aea-6ef89fd7722b",
   "metadata": {},
   "source": [
    "在本节实验中，我们介绍了如何对房价数据集进行标准，并以线性回归模型为例完成了整个模型的训练和预测，并同时与sklearn中的实现进行对比，两者在结果上并无显著差异，最后还对损失函数进行了可视化。"
   ]
  }
 ],
 "metadata": {
  "kernelspec": {
   "display_name": "Python 3 (ipykernel)",
   "language": "python",
   "name": "python3"
  },
  "language_info": {
   "codemirror_mode": {
    "name": "ipython",
    "version": 3
   },
   "file_extension": ".py",
   "mimetype": "text/x-python",
   "name": "python",
   "nbconvert_exporter": "python",
   "pygments_lexer": "ipython3",
   "version": "3.11.8"
  }
 },
 "nbformat": 4,
 "nbformat_minor": 5
}
