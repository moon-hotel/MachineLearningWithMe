{
 "cells": [
  {
   "cell_type": "markdown",
   "id": "20247522-ca71-48f5-a0dc-dc59fa474bf9",
   "metadata": {},
   "source": [
    "# 第3.4节实验2从零实现多分类逻辑回归"
   ]
  },
  {
   "cell_type": "markdown",
   "id": "9b131f0d-f5ab-4c15-a6e1-ff50ee5303bc",
   "metadata": {},
   "source": [
    "## 实验介绍"
   ]
  },
  {
   "cell_type": "markdown",
   "id": "112b1a39-4d0d-42ee-ae1d-5696bc79ee98",
   "metadata": {},
   "source": [
    "在本节实验中，我们将详细介绍如何在二分类逻辑回归基础上实现多分类的逻辑回归模型。"
   ]
  },
  {
   "cell_type": "markdown",
   "id": "5e4df37b-c5d3-4826-885f-bcd701a4cd8e",
   "metadata": {},
   "source": [
    "### 知识点"
   ]
  },
  {
   "cell_type": "markdown",
   "id": "9d4117fd-06bf-4079-ac49-ae1f2ec54a80",
   "metadata": {},
   "source": [
    "- 多分类逻辑回归实现"
   ]
  },
  {
   "cell_type": "markdown",
   "id": "4c9e7d3a-77bd-4480-94eb-ae31a3b1dd7b",
   "metadata": {},
   "source": [
    "## 1. 载入数据集及特征标准化"
   ]
  },
  {
   "cell_type": "code",
   "execution_count": 2,
   "id": "df80681d-0b28-472d-9636-28ea738a8b7b",
   "metadata": {},
   "outputs": [],
   "source": [
    "from sklearn.datasets import load_iris\n",
    "from sklearn.metrics import classification_report\n",
    "from sklearn.linear_model import LogisticRegression\n",
    "import numpy as np\n",
    "import matplotlib.pyplot as plt\n",
    "\n",
    "\n",
    "def feature_scalling(X):\n",
    "    mean = X.mean(axis=0)\n",
    "    std = X.std(axis=0)\n",
    "    return (X - mean) / std\n",
    "\n",
    "def load_data():\n",
    "    data = load_iris()\n",
    "    x, y = data.data, data.target.reshape(-1, 1)\n",
    "    x = feature_scalling(x)\n",
    "    return x, y"
   ]
  },
  {
   "cell_type": "markdown",
   "id": "23beacf1-c66f-440a-a949-a4a18f62ef5f",
   "metadata": {},
   "source": [
    "## 2. Sigmoid及导数"
   ]
  },
  {
   "cell_type": "code",
   "execution_count": 3,
   "id": "7b69126b-1649-44b9-a34c-b674c598827e",
   "metadata": {},
   "outputs": [],
   "source": [
    "def sigmoid(z):\n",
    "    return 1 / (1 + np.exp(-z))\n",
    "\n",
    "def sigmoid_prime(z):\n",
    "    return sigmoid(z) * (1 - sigmoid(z))"
   ]
  },
  {
   "cell_type": "markdown",
   "id": "8b9d3bd0-a72a-4895-8d82-d6c5e409f351",
   "metadata": {},
   "source": [
    "## 3. 假设函数及预测函数"
   ]
  },
  {
   "cell_type": "code",
   "execution_count": 37,
   "id": "1794fe8d-2057-4548-94c1-7fa67a6f71c7",
   "metadata": {},
   "outputs": [],
   "source": [
    "def hypothesis(X, W, bias):\n",
    "    z = np.matmul(X, W) + bias\n",
    "    h_x = sigmoid(z)\n",
    "    return h_x\n",
    "\n",
    "\n",
    "def prediction(X, W, bias):\n",
    "    class_type = len(W)\n",
    "    prob = []\n",
    "    for c in range(class_type):\n",
    "        w, b = W[c], bias[c]\n",
    "        h_x = hypothesis(X, w, b)\n",
    "        prob.append(h_x)\n",
    "    prob = np.hstack(prob)\n",
    "    y_pre = np.argmax(prob, axis=1)\n",
    "    return y_pre\n"
   ]
  },
  {
   "cell_type": "markdown",
   "id": "01c2c8c0-fd29-4cbc-ac70-4cbf05b86a75",
   "metadata": {},
   "source": [
    "## 4. 目标函数与梯度下降"
   ]
  },
  {
   "cell_type": "code",
   "execution_count": 30,
   "id": "a6a0fbfc-7836-4bc1-85c1-899a71831306",
   "metadata": {},
   "outputs": [],
   "source": [
    "def cost_function(X, y, W, bias):\n",
    "    m, n = X.shape\n",
    "    h_x = hypothesis(X, W, bias)\n",
    "    cost = np.sum(y * np.log(h_x) + (1 - y) * np.log(1 - h_x))\n",
    "    return -cost / m\n",
    "\n",
    "\n",
    "def gradient_descent(X, y, W, bias, alpha):\n",
    "    m, n = X.shape\n",
    "    h_x = hypothesis(X, W, bias)\n",
    "    grad_w = (1 / m) * np.matmul(X.T, (h_x - y))  # [n,m] @ [m,1]\n",
    "    grad_b = (1 / m) * np.sum(h_x - y)\n",
    "    W = W - alpha * grad_w  # 梯度下降\n",
    "    bias = bias - alpha * grad_b\n",
    "    return W, bias\n",
    "\n",
    "def accuracy(y, y_pre):\n",
    "    return np.mean((y.flatten() == y_pre.flatten()) * 1)"
   ]
  },
  {
   "cell_type": "markdown",
   "id": "f3ea934f-5159-4630-b1e1-3695ec7d29e7",
   "metadata": {},
   "source": [
    "## 5. 模型训练"
   ]
  },
  {
   "cell_type": "code",
   "execution_count": 31,
   "id": "e6173a2e-6ebd-4e5f-9932-53016d6873d9",
   "metadata": {},
   "outputs": [],
   "source": [
    "def train_binary(X, y, iter=200):\n",
    "    m, n = X.shape  # 506,13\n",
    "    W = np.random.randn(n, 1)  # 0.953\n",
    "    b, alpha, costs = 0.3, 0.5, []\n",
    "    for i in range(iter):\n",
    "        costs.append(cost_function(X, y, W, b))\n",
    "        W, b = gradient_descent(X, y, W, b, alpha)\n",
    "    return costs, W, b\n",
    "\n",
    "def train(x, y, iter=1000):\n",
    "    class_type = np.unique(y)\n",
    "    costs, W, b = [], [], []\n",
    "    for c in class_type:\n",
    "        label = (y == c) * 1\n",
    "        tmp = train_binary(x, label, iter=iter)\n",
    "        costs.append(tmp[0])\n",
    "        W.append(tmp[1])\n",
    "        b.append(tmp[2])\n",
    "    costs = np.vstack(costs)\n",
    "    costs = np.sum(costs, axis=0)\n",
    "    y_pre = prediction(x, W, b)\n",
    "    print(classification_report(y, y_pre))\n",
    "    print('Accuracy by impleme: ', accuracy(y, y_pre))\n",
    "    return costs\n",
    "\n",
    "def train_by_sklearn(x, y):\n",
    "    model = LogisticRegression(multi_class='ovr')\n",
    "    model.fit(x, y.ravel())\n",
    "    print(\"Accuracy by sklearn: \", model.score(x, y))"
   ]
  },
  {
   "cell_type": "markdown",
   "id": "5d82d357-b303-40d5-a3cb-d12a68eebc75",
   "metadata": {},
   "source": [
    "## 6. 运行"
   ]
  },
  {
   "cell_type": "code",
   "execution_count": 40,
   "id": "9e47f64c-3406-4140-bec1-61c25c4b4c8a",
   "metadata": {},
   "outputs": [
    {
     "name": "stdout",
     "output_type": "stream",
     "text": [
      "              precision    recall  f1-score   support\n",
      "\n",
      "           0       1.00      1.00      1.00        50\n",
      "           1       0.94      0.94      0.94        50\n",
      "           2       0.94      0.94      0.94        50\n",
      "\n",
      "    accuracy                           0.96       150\n",
      "   macro avg       0.96      0.96      0.96       150\n",
      "weighted avg       0.96      0.96      0.96       150\n",
      "\n",
      "Accuracy by impleme:  0.96\n",
      "Accuracy by sklearn:  0.9466666666666667\n"
     ]
    },
    {
     "data": {
      "image/png": "[encoded data removed]",
      "text/plain": [
       "<Figure size 640x480 with 1 Axes>"
      ]
     },
     "metadata": {},
     "output_type": "display_data"
    }
   ],
   "source": [
    "\n",
    "if __name__ == '__main__':\n",
    "    x, y = load_data()\n",
    "    costs = train(x, y)\n",
    "    train_by_sklearn(x, y)\n",
    "    plt.rcParams['ytick.direction'] = 'in'  # 刻度向内\n",
    "    plt.rcParams['xtick.direction'] = 'in'  # 刻度向内\n",
    "    plt.rcParams['font.sans-serif'] = ['Arial Unicode MS']\n",
    "    plt.plot(range(len(costs)), costs, label='损失值', c='black')\n",
    "    plt.legend(fontsize=15)\n",
    "    # plt.rcParams['font.sans-serif'] = ['SimHei']  # 指定默认字体\n",
    "    plt.tight_layout()  # 调整子图间距\n",
    "    plt.show()"
   ]
  },
  {
   "cell_type": "markdown",
   "id": "deb1ed61-f119-40fb-9d69-bb5cbfd5b7c1",
   "metadata": {},
   "source": [
    "## 实验总结"
   ]
  },
  {
   "cell_type": "markdown",
   "id": "b90b2e5b-9175-4698-97b8-dda7bf26afb0",
   "metadata": {},
   "source": [
    "在本节实验中，我们详细介绍了如何从零实现多分类场景下的逻辑回归模型，即以OVR的策略来对每个分类类别建立一个逻辑回归模型。"
   ]
  }
 ],
 "metadata": {
  "kernelspec": {
   "display_name": "Python 3 (ipykernel)",
   "language": "python",
   "name": "python3"
  },
  "language_info": {
   "codemirror_mode": {
    "name": "ipython",
    "version": 3
   },
   "file_extension": ".py",
   "mimetype": "text/x-python",
   "name": "python",
   "nbconvert_exporter": "python",
   "pygments_lexer": "ipython3",
   "version": "3.11.8"
  }
 },
 "nbformat": 4,
 "nbformat_minor": 5
}
