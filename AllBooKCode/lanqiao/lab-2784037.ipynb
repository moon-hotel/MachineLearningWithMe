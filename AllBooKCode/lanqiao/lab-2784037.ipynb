{
 "cells": [
  {
   "cell_type": "markdown",
   "id": "f869e37b-4c66-4c2a-958e-b847ac4e31ed",
   "metadata": {},
   "source": [
    "# 【实验】第10.4节SVM软间隔示例代码"
   ]
  },
  {
   "cell_type": "markdown",
   "id": "d2a034f1-c2c0-400d-84dd-63a29915195d",
   "metadata": {},
   "source": [
    "## 实验介绍"
   ]
  },
  {
   "cell_type": "markdown",
   "id": "a64f0fd0-2d35-40e9-ba1d-3655d7c82ea8",
   "metadata": {},
   "source": [
    "在本节实验中，我们将会详细介绍SVM中如何使用sklearn来完成软间隔的建模过程。"
   ]
  },
  {
   "cell_type": "markdown",
   "id": "68ed42b3-c4ee-4620-9e41-0c5a11aa4b79",
   "metadata": {},
   "source": [
    "### 知识点"
   ]
  },
  {
   "cell_type": "markdown",
   "id": "a9191efd-7054-4eb2-af17-4cad2ff90bac",
   "metadata": {},
   "source": [
    "- SVC软间隔使用示例\n",
    "- 软间隔超参数网格搜索"
   ]
  },
  {
   "cell_type": "markdown",
   "id": "203ddcff-d46a-4fbb-885c-4534e18d00f2",
   "metadata": {},
   "source": [
    "## 1.载入数据集"
   ]
  },
  {
   "cell_type": "code",
   "execution_count": 1,
   "id": "a2f603c3-0967-4522-8866-d1104a15fa94",
   "metadata": {},
   "outputs": [],
   "source": [
    "from sklearn.svm import SVC\n",
    "from sklearn.datasets import load_digits\n",
    "from sklearn.model_selection import train_test_split\n",
    "from sklearn.model_selection import GridSearchCV\n",
    "import numpy as np\n",
    "\n",
    "def load_data():\n",
    "    data = load_digits()\n",
    "    x, y = data.data, data.target\n",
    "    x_train, x_test, y_train, y_test = \\\n",
    "        train_test_split(x, y, test_size=0.3,\n",
    "                         shuffle=True, random_state=20)\n",
    "    return x_train, x_test, y_train, y_test\n"
   ]
  },
  {
   "cell_type": "markdown",
   "id": "4df7f715-ad34-4612-9c1e-50e47a4f5895",
   "metadata": {},
   "source": [
    "## 2.模型选择"
   ]
  },
  {
   "cell_type": "code",
   "execution_count": 4,
   "id": "d86c0bd7-d98f-455f-adc6-3aff00547530",
   "metadata": {},
   "outputs": [],
   "source": [
    "def model_selection(x_train, y_train):\n",
    "    model = SVC()\n",
    "    paras = {'C': np.arange(1, 10, 5),\n",
    "             'kernel': ['rbf', 'linear', 'poly'],\n",
    "             'degree': np.arange(1, 10, 2),\n",
    "             'gamma': ['scale', 'auto'],\n",
    "             'coef0': np.arange(-10, 10, 5)}\n",
    "    gs = GridSearchCV(model, paras, cv=3, verbose=2, n_jobs=3)\n",
    "    gs.fit(x_train, y_train)\n",
    "    print('best score:', gs.best_score_)\n",
    "    print('best parameters:', gs.best_params_)"
   ]
  },
  {
   "cell_type": "markdown",
   "id": "ce1c52cb-7ff1-428f-8d21-217b3fd12fd2",
   "metadata": {},
   "source": [
    "## 3.模型训练"
   ]
  },
  {
   "cell_type": "code",
   "execution_count": 5,
   "id": "4a03ccaa-8667-4160-9aa0-35b79f3e46c0",
   "metadata": {},
   "outputs": [
    {
     "name": "stdout",
     "output_type": "stream",
     "text": [
      "测试集上的准确率:  0.9851851851851852\n"
     ]
    }
   ],
   "source": [
    "def train(x_train, x_test, y_train, y_test):\n",
    "    model = SVC(C=6, kernel='rbf',gamma='scale')\n",
    "    model.fit(x_train, y_train)\n",
    "    score = model.score(x_test, y_test)\n",
    "    y_pred = model.predict(x_test)\n",
    "    print(\"测试集上的准确率: \", score)\n",
    "\n",
    "\n",
    "if __name__ == '__main__':\n",
    "    x_train, x_test, y_train, y_test = load_data()\n",
    "    # model_selection(x_train, y_train)\n",
    "    train(x_train, x_test, y_train, y_test)"
   ]
  },
  {
   "cell_type": "markdown",
   "id": "8e9307fd-b7fc-4020-9ab8-77c3b3d3bb6b",
   "metadata": {},
   "source": [
    "## 实验总结"
   ]
  },
  {
   "cell_type": "markdown",
   "id": "2f2ded82-33e7-4e5e-acb9-b1b1e10cc4cd",
   "metadata": {},
   "source": [
    "在本节实验中，我们详细介绍了SVM中如何使用sklearn来完成软间隔的建模过程，并同时使用GridSearchCV对相关超参数进行了网格搜索。"
   ]
  }
 ],
 "metadata": {
  "kernelspec": {
   "display_name": "Python 3 (ipykernel)",
   "language": "python",
   "name": "python3"
  },
  "language_info": {
   "codemirror_mode": {
    "name": "ipython",
    "version": 3
   },
   "file_extension": ".py",
   "mimetype": "text/x-python",
   "name": "python",
   "nbconvert_exporter": "python",
   "pygments_lexer": "ipython3",
   "version": "3.11.8"
  }
 },
 "nbformat": 4,
 "nbformat_minor": 5
}
