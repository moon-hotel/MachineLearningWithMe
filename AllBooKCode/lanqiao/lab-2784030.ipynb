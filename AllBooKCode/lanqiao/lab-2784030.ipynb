{
 "cells": [
  {
   "cell_type": "markdown",
   "id": "15905613-9968-4f70-b60c-86e6a9973d83",
   "metadata": {},
   "source": [
    "# 【实验】第9.2节实验1随机森林使用"
   ]
  },
  {
   "cell_type": "markdown",
   "id": "475064da-69b1-4f3f-86a3-07a87b74b1fb",
   "metadata": {},
   "source": [
    "## 实验介绍"
   ]
  },
  {
   "cell_type": "markdown",
   "id": "311d5571-8da9-4448-8fa2-47da4f881979",
   "metadata": {},
   "source": [
    "在本节实验中，我们将详细介绍sklearn中随机森林RandomForestClassifier的使用方法。"
   ]
  },
  {
   "cell_type": "markdown",
   "id": "0df3bf46-9ece-4751-8e1c-5a2288b214e9",
   "metadata": {},
   "source": [
    "### 知识点"
   ]
  },
  {
   "cell_type": "markdown",
   "id": "4bf18967-9050-42bf-af28-3742f09b5f1a",
   "metadata": {},
   "source": [
    "- RandomForestClassifier的使用方法"
   ]
  },
  {
   "cell_type": "markdown",
   "id": "d575c11f-cc7a-408e-8992-3376d946407d",
   "metadata": {},
   "source": [
    "## 1. 载入数据集"
   ]
  },
  {
   "cell_type": "code",
   "execution_count": 8,
   "id": "3a7af296-7fd6-45c6-8e8a-9e5f3dc1c149",
   "metadata": {},
   "outputs": [],
   "source": [
    "from sklearn.ensemble import RandomForestClassifier\n",
    "from sklearn.datasets import load_iris\n",
    "from sklearn.preprocessing import StandardScaler\n",
    "from sklearn.model_selection import train_test_split\n",
    "\n",
    "\n",
    "def load_data():\n",
    "    data = load_iris()\n",
    "    x, y = data.data, data.target\n",
    "    x_train, x_test, y_train, y_test \\\n",
    "        = train_test_split(x, y, test_size=0.3,random_state=1)\n",
    "    ss = StandardScaler()\n",
    "    x_train = ss.fit_transform(x_train)\n",
    "    x_test = ss.transform(x_test)\n",
    "    return x_train, x_test, y_train, y_test\n",
    "\n"
   ]
  },
  {
   "cell_type": "markdown",
   "id": "ebbe27e6-e7d6-4e86-ad72-a2d158cd08e8",
   "metadata": {},
   "source": [
    "## 2. 运行结果"
   ]
  },
  {
   "cell_type": "code",
   "execution_count": 7,
   "id": "3806c12c-8508-448f-8c85-e4adc75fd215",
   "metadata": {},
   "outputs": [
    {
     "name": "stdout",
     "output_type": "stream",
     "text": [
      "0.9555555555555556\n"
     ]
    }
   ],
   "source": [
    "\n",
    "if __name__ == '__main__':\n",
    "    x_train, x_test, y_train, y_test = load_data()\n",
    "    model = RandomForestClassifier(n_estimators=2, max_features=3,\n",
    "                                   random_state=2)\n",
    "    model.fit(x_train, y_train)\n",
    "    print(model.score(x_test, y_test))"
   ]
  },
  {
   "cell_type": "markdown",
   "id": "70012be7-1c38-41a9-b516-0daa366bf2b5",
   "metadata": {},
   "source": [
    "## 实验总结"
   ]
  },
  {
   "cell_type": "markdown",
   "id": "44f812dc-6707-4d1f-98ac-d96f3eb7e00b",
   "metadata": {},
   "source": [
    "在本节实验中，我们以鸢尾花分类任务为例，详细介绍了sklearn中随机森林RandomForestClassifier的使用方法。"
   ]
  }
 ],
 "metadata": {
  "kernelspec": {
   "display_name": "Python 3 (ipykernel)",
   "language": "python",
   "name": "python3"
  },
  "language_info": {
   "codemirror_mode": {
    "name": "ipython",
    "version": 3
   },
   "file_extension": ".py",
   "mimetype": "text/x-python",
   "name": "python",
   "nbconvert_exporter": "python",
   "pygments_lexer": "ipython3",
   "version": "3.11.8"
  }
 },
 "nbformat": 4,
 "nbformat_minor": 5
}
