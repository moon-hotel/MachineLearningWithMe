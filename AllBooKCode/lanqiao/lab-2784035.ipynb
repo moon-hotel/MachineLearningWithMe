{
 "cells": [
  {
   "cell_type": "markdown",
   "id": "f0cecf59-3f27-489a-8e3f-8eb8f2bc4309",
   "metadata": {},
   "source": [
    "# 【实验】第9.4节实验2之AdaBoosting网格搜索"
   ]
  },
  {
   "cell_type": "markdown",
   "id": "98d84048-84a2-4304-a947-c456f8c26204",
   "metadata": {},
   "source": [
    "## 实验介绍"
   ]
  },
  {
   "cell_type": "markdown",
   "id": "9ecd2177-757d-40a8-8bab-e4dd1b5731f1",
   "metadata": {},
   "source": [
    "在本节实验中，我们将详细介绍sklearn中AdaBoosting集成学习算法在网格搜索中的使用示例。"
   ]
  },
  {
   "cell_type": "markdown",
   "id": "73f1ab32-407e-4a0b-b4b5-09118c8c6cad",
   "metadata": {},
   "source": [
    "### 知识点"
   ]
  },
  {
   "cell_type": "markdown",
   "id": "e226e2c5-f4a2-46b8-9434-5c18a73a4a32",
   "metadata": {},
   "source": [
    "- AdaBoostClassifier中GridSearchCV使用方法\n",
    "- 基于AdaBoosting集成学习的鸢尾花分类"
   ]
  },
  {
   "cell_type": "markdown",
   "id": "ec8571e8-aec1-43d7-87f3-ec5f43b11d40",
   "metadata": {},
   "source": [
    "## 1. 载入数据集"
   ]
  },
  {
   "cell_type": "code",
   "execution_count": 1,
   "id": "d1fa7c7a-9bd6-4c12-a0cf-44822b4bf147",
   "metadata": {},
   "outputs": [],
   "source": [
    "from sklearn.datasets import load_iris\n",
    "from sklearn.ensemble import AdaBoostClassifier\n",
    "from sklearn.model_selection import train_test_split\n",
    "from sklearn.tree import DecisionTreeClassifier\n",
    "from sklearn.model_selection import GridSearchCV\n",
    "\n",
    "\n",
    "def load_data():\n",
    "    data = load_iris()\n",
    "    x, y = data.data, data.target\n",
    "    x_train, x_test, y_train, y_test \\\n",
    "        = train_test_split(x, y, test_size=0.3, random_state=10)\n",
    "    return x_train, x_test, y_train, y_test\n"
   ]
  },
  {
   "cell_type": "markdown",
   "id": "23e687e6-c065-4f92-9960-6754d2ae9246",
   "metadata": {},
   "source": [
    "## 2. 运行结果"
   ]
  },
  {
   "cell_type": "code",
   "execution_count": 2,
   "id": "ed020a38-b091-4224-af34-a2ea3931b710",
   "metadata": {},
   "outputs": [
    {
     "name": "stdout",
     "output_type": "stream",
     "text": [
      "Fitting 3 folds for each of 16 candidates, totalling 48 fits\n",
      "[CV] END estimator__criterion=gini, estimator__max_depth=1, n_estimators=20; total time=   0.0s\n",
      "[CV] END estimator__criterion=gini, estimator__max_depth=1, n_estimators=20; total time=   0.0s\n",
      "[CV] END estimator__criterion=gini, estimator__max_depth=1, n_estimators=20; total time=   0.0s\n",
      "[CV] END estimator__criterion=gini, estimator__max_depth=1, n_estimators=30; total time=   0.0s\n",
      "[CV] END estimator__criterion=gini, estimator__max_depth=1, n_estimators=30; total time=   0.0s\n",
      "[CV] END estimator__criterion=gini, estimator__max_depth=1, n_estimators=30; total time=   0.2s\n",
      "[CV] END estimator__criterion=gini, estimator__max_depth=1, n_estimators=50; total time=   0.1s\n",
      "[CV] END estimator__criterion=gini, estimator__max_depth=1, n_estimators=50; total time=   0.1s\n",
      "[CV] END estimator__criterion=gini, estimator__max_depth=1, n_estimators=50; total time=   0.1s\n",
      "[CV] END estimator__criterion=gini, estimator__max_depth=1, n_estimators=100; total time=   0.2s\n",
      "[CV] END estimator__criterion=gini, estimator__max_depth=1, n_estimators=100; total time=   0.2s\n",
      "[CV] END estimator__criterion=gini, estimator__max_depth=1, n_estimators=100; total time=   0.2s\n",
      "[CV] END estimator__criterion=gini, estimator__max_depth=2, n_estimators=20; total time=   0.0s\n",
      "[CV] END estimator__criterion=gini, estimator__max_depth=2, n_estimators=20; total time=   0.0s\n",
      "[CV] END estimator__criterion=gini, estimator__max_depth=2, n_estimators=20; total time=   0.0s\n",
      "[CV] END estimator__criterion=gini, estimator__max_depth=2, n_estimators=30; total time=   0.0s\n",
      "[CV] END estimator__criterion=gini, estimator__max_depth=2, n_estimators=30; total time=   0.0s\n",
      "[CV] END estimator__criterion=gini, estimator__max_depth=2, n_estimators=30; total time=   0.0s\n",
      "[CV] END estimator__criterion=gini, estimator__max_depth=2, n_estimators=50; total time=   0.1s\n",
      "[CV] END estimator__criterion=gini, estimator__max_depth=2, n_estimators=50; total time=   0.1s\n",
      "[CV] END estimator__criterion=gini, estimator__max_depth=2, n_estimators=50; total time=   0.1s\n",
      "[CV] END estimator__criterion=gini, estimator__max_depth=2, n_estimators=100; total time=   0.2s\n",
      "[CV] END estimator__criterion=gini, estimator__max_depth=2, n_estimators=100; total time=   0.2s\n",
      "[CV] END estimator__criterion=gini, estimator__max_depth=2, n_estimators=100; total time=   0.2s\n",
      "[CV] END estimator__criterion=entropy, estimator__max_depth=1, n_estimators=20; total time=   0.0s\n",
      "[CV] END estimator__criterion=entropy, estimator__max_depth=1, n_estimators=20; total time=   0.0s\n",
      "[CV] END estimator__criterion=entropy, estimator__max_depth=1, n_estimators=20; total time=   0.0s\n",
      "[CV] END estimator__criterion=entropy, estimator__max_depth=1, n_estimators=30; total time=   0.0s\n",
      "[CV] END estimator__criterion=entropy, estimator__max_depth=1, n_estimators=30; total time=   0.0s\n",
      "[CV] END estimator__criterion=entropy, estimator__max_depth=1, n_estimators=30; total time=   0.1s\n",
      "[CV] END estimator__criterion=entropy, estimator__max_depth=1, n_estimators=50; total time=   0.1s\n",
      "[CV] END estimator__criterion=entropy, estimator__max_depth=1, n_estimators=50; total time=   0.1s\n",
      "[CV] END estimator__criterion=entropy, estimator__max_depth=1, n_estimators=50; total time=   0.1s\n",
      "[CV] END estimator__criterion=entropy, estimator__max_depth=1, n_estimators=100; total time=   0.2s\n",
      "[CV] END estimator__criterion=entropy, estimator__max_depth=1, n_estimators=100; total time=   0.2s\n",
      "[CV] END estimator__criterion=entropy, estimator__max_depth=1, n_estimators=100; total time=   0.2s\n",
      "[CV] END estimator__criterion=entropy, estimator__max_depth=2, n_estimators=20; total time=   0.0s\n",
      "[CV] END estimator__criterion=entropy, estimator__max_depth=2, n_estimators=20; total time=   0.0s\n",
      "[CV] END estimator__criterion=entropy, estimator__max_depth=2, n_estimators=20; total time=   0.0s\n",
      "[CV] END estimator__criterion=entropy, estimator__max_depth=2, n_estimators=30; total time=   0.0s\n",
      "[CV] END estimator__criterion=entropy, estimator__max_depth=2, n_estimators=30; total time=   0.0s\n",
      "[CV] END estimator__criterion=entropy, estimator__max_depth=2, n_estimators=30; total time=   0.1s\n",
      "[CV] END estimator__criterion=entropy, estimator__max_depth=2, n_estimators=50; total time=   0.1s\n",
      "[CV] END estimator__criterion=entropy, estimator__max_depth=2, n_estimators=50; total time=   0.1s\n",
      "[CV] END estimator__criterion=entropy, estimator__max_depth=2, n_estimators=50; total time=   0.1s\n",
      "[CV] END estimator__criterion=entropy, estimator__max_depth=2, n_estimators=100; total time=   0.2s\n",
      "[CV] END estimator__criterion=entropy, estimator__max_depth=2, n_estimators=100; total time=   0.2s\n",
      "[CV] END estimator__criterion=entropy, estimator__max_depth=2, n_estimators=100; total time=   0.3s\n",
      "最佳模型: {'estimator__criterion': 'entropy', 'estimator__max_depth': 1, 'n_estimators': 20} 准确率： 0.942857142857143\n",
      "模型在测试集上的准确率为： 0.9555555555555556\n"
     ]
    }
   ],
   "source": [
    "\n",
    "\n",
    "if __name__ == '__main__':\n",
    "    x_train, x_test, y_train, y_test = load_data()\n",
    "    dt = DecisionTreeClassifier()\n",
    "    paras = {\"estimator__criterion\": ['gini', 'entropy'],\n",
    "             \"estimator__max_depth\": [1, 2],  # estimator__ 来索引基模型中的各个参数\n",
    "             \"n_estimators\": [20, 30, 50, 100]}\n",
    "\n",
    "    ada = AdaBoostClassifier(estimator=dt,algorithm='SAMME')\n",
    "    gs = GridSearchCV(ada, paras, verbose=2, cv=3)\n",
    "    gs.fit(x_train, y_train)\n",
    "    print('最佳模型:', gs.best_params_, '准确率：', gs.best_score_)\n",
    "    print(\"模型在测试集上的准确率为：\", gs.score(x_test, y_test))\n"
   ]
  },
  {
   "cell_type": "markdown",
   "id": "a4d348ee-36dc-4706-90e4-50eed2ef0ea2",
   "metadata": {},
   "source": [
    "## 实验总结"
   ]
  },
  {
   "cell_type": "markdown",
   "id": "53785b32-d226-4662-9adc-3d62ea5829c7",
   "metadata": {},
   "source": [
    "在本节实验中，我们详细介绍了sklearn中基于网格搜索的AdaBoosting集成学习算法的使用示例，并以鸢尾花分类为了进行了介绍。"
   ]
  }
 ],
 "metadata": {
  "kernelspec": {
   "display_name": "Python 3 (ipykernel)",
   "language": "python",
   "name": "python3"
  },
  "language_info": {
   "codemirror_mode": {
    "name": "ipython",
    "version": 3
   },
   "file_extension": ".py",
   "mimetype": "text/x-python",
   "name": "python",
   "nbconvert_exporter": "python",
   "pygments_lexer": "ipython3",
   "version": "3.11.8"
  }
 },
 "nbformat": 4,
 "nbformat_minor": 5
}
