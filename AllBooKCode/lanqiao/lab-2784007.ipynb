{
 "cells": [
  {
   "cell_type": "markdown",
   "id": "eb74d1c2-4d2d-4b51-9e07-cd0e50a8e4a2",
   "metadata": {},
   "source": [
    "# 【实验】第3.2节多分类任务"
   ]
  },
  {
   "cell_type": "markdown",
   "id": "03103780-3ddd-4978-904d-9844feaea33d",
   "metadata": {},
   "source": [
    "## 实验介绍"
   ]
  },
  {
   "cell_type": "markdown",
   "id": "90ab6835-843c-4c2d-87e0-f4fe1fe63129",
   "metadata": {},
   "source": [
    "在本节实验中，我们将详细介绍如何使用LogisticRegression模块来完成load_iris数据集多分类任务。"
   ]
  },
  {
   "cell_type": "markdown",
   "id": "64a97bbe-f116-49ee-ba30-06826b77ffe8",
   "metadata": {},
   "source": [
    "### 知识点"
   ]
  },
  {
   "cell_type": "markdown",
   "id": "a9b3c9a5-db27-4a28-8a06-a42d9ed6774e",
   "metadata": {},
   "source": [
    "- LogisticRegression多分类使用方法\n",
    "- load_iris数据集使用方法"
   ]
  },
  {
   "cell_type": "markdown",
   "id": "14caabeb-11ff-4530-aef4-ec74fdb0890e",
   "metadata": {},
   "source": [
    "## 1.载入数据"
   ]
  },
  {
   "cell_type": "code",
   "execution_count": 1,
   "id": "f04b5bde-d524-4aa8-9d32-79403f852a8d",
   "metadata": {},
   "outputs": [],
   "source": [
    "from sklearn.linear_model import LogisticRegression\n",
    "from sklearn.datasets import load_iris\n",
    "\n",
    "def load_data():\n",
    "    data = load_iris()\n",
    "    x, y = data.data, data.target\n",
    "    return x, y\n"
   ]
  },
  {
   "cell_type": "markdown",
   "id": "2c067dfa-5b92-4766-80ed-66de13e1cd80",
   "metadata": {},
   "source": [
    "## 2.训练模型"
   ]
  },
  {
   "cell_type": "code",
   "execution_count": 2,
   "id": "6ca2afaf-8433-4029-a23d-6e900ca7d149",
   "metadata": {},
   "outputs": [
    {
     "name": "stdout",
     "output_type": "stream",
     "text": [
      "得分:  0.9533333333333334\n"
     ]
    }
   ],
   "source": [
    "def train(x, y):\n",
    "    model = LogisticRegression(multi_class='ovr')\n",
    "    model.fit(x,y)\n",
    "    print(\"得分: \", model.score(x, y))\n",
    "\n",
    "\n",
    "if __name__ == '__main__':\n",
    "    x, y = load_data()\n",
    "    train(x, y)\n"
   ]
  },
  {
   "cell_type": "markdown",
   "id": "889618ed-1b92-4207-ae44-9a1fbef5b495",
   "metadata": {},
   "source": [
    "## 实验总结"
   ]
  },
  {
   "cell_type": "markdown",
   "id": "e5017b51-1251-4795-b8a4-79918688e066",
   "metadata": {},
   "source": [
    "在本节实验中，我们详细介绍了如何使用LogisticRegression模块中的'ovr'策略来完成load_iris数据集多分类任务。"
   ]
  }
 ],
 "metadata": {
  "kernelspec": {
   "display_name": "Python 3 (ipykernel)",
   "language": "python",
   "name": "python3"
  },
  "language_info": {
   "codemirror_mode": {
    "name": "ipython",
    "version": 3
   },
   "file_extension": ".py",
   "mimetype": "text/x-python",
   "name": "python",
   "nbconvert_exporter": "python",
   "pygments_lexer": "ipython3",
   "version": "3.11.8"
  }
 },
 "nbformat": 4,
 "nbformat_minor": 5
}
