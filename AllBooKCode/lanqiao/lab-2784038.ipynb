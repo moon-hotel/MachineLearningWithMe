{
 "cells": [
  {
   "cell_type": "markdown",
   "id": "58d5d336-82da-4d21-9a28-9a1f68da7540",
   "metadata": {},
   "source": [
    "# 【实验】第11.2节kmeans聚类使用示例"
   ]
  },
  {
   "cell_type": "markdown",
   "id": "975d8ebc-fe5c-432a-b52f-17307ff2cf24",
   "metadata": {},
   "source": [
    "## 实验介绍"
   ]
  },
  {
   "cell_type": "markdown",
   "id": "885e5a38-c62c-45fd-85e5-6d42ccdb4798",
   "metadata": {},
   "source": [
    "在本节实验中，我们将会详细介绍sklearn中kmeans聚类的使用示例。"
   ]
  },
  {
   "cell_type": "markdown",
   "id": "f882036d-f274-4ff0-97f3-df061b14ffef",
   "metadata": {},
   "source": [
    "### 知识点"
   ]
  },
  {
   "cell_type": "markdown",
   "id": "616c8ba7-7c71-4fae-99bb-1cbe9ae2673a",
   "metadata": {},
   "source": [
    "- KMeans使用方法\n",
    "- 聚类结果评估"
   ]
  },
  {
   "cell_type": "code",
   "execution_count": 1,
   "id": "8ed66d5d-61f9-4a8a-8dda-453bac311aa0",
   "metadata": {},
   "outputs": [
    {
     "name": "stdout",
     "output_type": "stream",
     "text": [
      "ARI:  0.7163421126838476\n"
     ]
    }
   ],
   "source": [
    "from sklearn.datasets import load_iris\n",
    "from sklearn.cluster import KMeans\n",
    "from sklearn.metrics.cluster import adjusted_rand_score\n",
    "\n",
    "\n",
    "def load_data():\n",
    "    data = load_iris()\n",
    "    x, y = data.data, data.target\n",
    "    return x, y\n",
    "\n",
    "\n",
    "def train(x, y, K):\n",
    "    model = KMeans(n_clusters=K)\n",
    "    model.fit(x)\n",
    "    y_pred = model.predict(x)\n",
    "    ari = adjusted_rand_score(y, y_pred)\n",
    "    print(\"ARI: \", ari)\n",
    "\n",
    "\n",
    "if __name__ == '__main__':\n",
    "    x, y = load_data()\n",
    "    train(x, y, K=3)\n"
   ]
  },
  {
   "cell_type": "markdown",
   "id": "db2a3f1e-60c7-4a44-aa00-f2ca9d60881b",
   "metadata": {},
   "source": [
    "## 实验总结"
   ]
  },
  {
   "cell_type": "markdown",
   "id": "e54a1b15-8b98-466a-a472-05158561c9ae",
   "metadata": {},
   "source": [
    "在本节实验中，我们详细介绍了sklearn中kmeans聚类的使用方法对鸢尾花数据集进行了聚类处理，同时还使用调整兰德系数对聚类结果进行了评估。"
   ]
  }
 ],
 "metadata": {
  "kernelspec": {
   "display_name": "Python 3 (ipykernel)",
   "language": "python",
   "name": "python3"
  },
  "language_info": {
   "codemirror_mode": {
    "name": "ipython",
    "version": 3
   },
   "file_extension": ".py",
   "mimetype": "text/x-python",
   "name": "python",
   "nbconvert_exporter": "python",
   "pygments_lexer": "ipython3",
   "version": "3.11.8"
  }
 },
 "nbformat": 4,
 "nbformat_minor": 5
}
