{
 "cells": [
  {
   "cell_type": "markdown",
   "id": "91101ee8-c42c-4209-8602-4990d0a37d42",
   "metadata": {},
   "source": [
    "# 【实验】第5.3节KNN使用示例"
   ]
  },
  {
   "cell_type": "markdown",
   "id": "728b83ad-8e44-4186-9b0a-ea3007a21bbe",
   "metadata": {},
   "source": [
    "## 实验介绍"
   ]
  },
  {
   "cell_type": "markdown",
   "id": "d0eb0e57-71de-485a-b958-b39de96cf6e1",
   "metadata": {},
   "source": [
    "在本节实验中，我们将详细介绍sklearn中KNN的使用方法，并通过KNN来完成写手体分类任务。同时，也将介绍网格搜索和交叉验证GridSearchCV的使用过程。"
   ]
  },
  {
   "cell_type": "markdown",
   "id": "8e51812f-ad72-44ea-be54-983dddcb3812",
   "metadata": {},
   "source": [
    "### 知识点"
   ]
  },
  {
   "cell_type": "markdown",
   "id": "37817aaf-b91e-4105-96c1-bae29dfefe75",
   "metadata": {},
   "source": [
    "- KNeighborsClassifier使用示例\n",
    "- GridSearchCV网格搜索和交叉验证使用"
   ]
  },
  {
   "cell_type": "markdown",
   "id": "50ea477b-e62f-407c-97a3-7197d305b9c7",
   "metadata": {},
   "source": [
    "## 1.载入数据"
   ]
  },
  {
   "cell_type": "code",
   "execution_count": 3,
   "id": "36f48988-499e-4565-9405-7973e0d4f9a9",
   "metadata": {},
   "outputs": [],
   "source": [
    "from sklearn.neighbors import KNeighborsClassifier\n",
    "from sklearn.datasets import load_digits\n",
    "from sklearn.preprocessing import StandardScaler\n",
    "from sklearn.model_selection import GridSearchCV, train_test_split\n",
    "from sklearn.metrics import classification_report\n",
    "\n",
    "\n",
    "def load_data():\n",
    "    data = load_digits()\n",
    "    x, y = data.data, data.target\n",
    "    x_train, x_test, y_train, y_test = \\\n",
    "        train_test_split(x, y, test_size=0.3, random_state=10)\n",
    "    ss = StandardScaler()\n",
    "    x_train = ss.fit_transform(x_train)\n",
    "    x_test = ss.transform(x_test)\n",
    "    return x_train, x_test, y_train, y_test"
   ]
  },
  {
   "cell_type": "markdown",
   "id": "4d7c8185-0c85-478e-abe1-1f28fa17a02e",
   "metadata": {},
   "source": [
    "## 2.模型选择"
   ]
  },
  {
   "cell_type": "code",
   "execution_count": 8,
   "id": "b6a6c19f-bfe6-4a91-a7f3-ce30fa40e8d2",
   "metadata": {},
   "outputs": [
    {
     "name": "stdout",
     "output_type": "stream",
     "text": [
      "Fitting 5 folds for each of 12 candidates, totalling 60 fits\n",
      "[CV] END .................................n_neighbors=5, p=1; total time=   0.1s\n",
      "[CV] END .................................n_neighbors=5, p=1; total time=   0.0s\n",
      "[CV] END .................................n_neighbors=5, p=1; total time=   0.0s\n",
      "[CV] END .................................n_neighbors=5, p=1; total time=   0.0s\n",
      "[CV] END .................................n_neighbors=5, p=1; total time=   0.1s\n",
      "[CV] END .................................n_neighbors=5, p=2; total time=   0.0s\n",
      "[CV] END .................................n_neighbors=5, p=2; total time=   0.0s\n",
      "[CV] END .................................n_neighbors=5, p=2; total time=   0.0s\n",
      "[CV] END .................................n_neighbors=5, p=2; total time=   0.0s\n",
      "[CV] END .................................n_neighbors=5, p=2; total time=   0.0s\n",
      "[CV] END .................................n_neighbors=6, p=1; total time=   0.0s\n",
      "[CV] END .................................n_neighbors=6, p=1; total time=   0.1s\n",
      "[CV] END .................................n_neighbors=6, p=1; total time=   0.0s\n",
      "[CV] END .................................n_neighbors=6, p=1; total time=   0.0s\n",
      "[CV] END .................................n_neighbors=6, p=1; total time=   0.0s\n",
      "[CV] END .................................n_neighbors=6, p=2; total time=   0.0s\n",
      "[CV] END .................................n_neighbors=6, p=2; total time=   0.0s\n",
      "[CV] END .................................n_neighbors=6, p=2; total time=   0.0s\n",
      "[CV] END .................................n_neighbors=6, p=2; total time=   0.0s\n",
      "[CV] END .................................n_neighbors=6, p=2; total time=   0.0s\n",
      "[CV] END .................................n_neighbors=7, p=1; total time=   0.0s\n",
      "[CV] END .................................n_neighbors=7, p=1; total time=   0.0s\n",
      "[CV] END .................................n_neighbors=7, p=1; total time=   0.0s\n",
      "[CV] END .................................n_neighbors=7, p=1; total time=   0.0s\n",
      "[CV] END .................................n_neighbors=7, p=1; total time=   0.0s\n",
      "[CV] END .................................n_neighbors=7, p=2; total time=   0.0s\n",
      "[CV] END .................................n_neighbors=7, p=2; total time=   0.0s\n",
      "[CV] END .................................n_neighbors=7, p=2; total time=   0.0s\n",
      "[CV] END .................................n_neighbors=7, p=2; total time=   0.0s\n",
      "[CV] END .................................n_neighbors=7, p=2; total time=   0.0s\n",
      "[CV] END .................................n_neighbors=8, p=1; total time=   0.0s\n",
      "[CV] END .................................n_neighbors=8, p=1; total time=   0.0s\n",
      "[CV] END .................................n_neighbors=8, p=1; total time=   0.2s\n",
      "[CV] END .................................n_neighbors=8, p=1; total time=   0.0s\n",
      "[CV] END .................................n_neighbors=8, p=1; total time=   0.0s\n",
      "[CV] END .................................n_neighbors=8, p=2; total time=   0.0s\n",
      "[CV] END .................................n_neighbors=8, p=2; total time=   0.0s\n",
      "[CV] END .................................n_neighbors=8, p=2; total time=   0.0s\n",
      "[CV] END .................................n_neighbors=8, p=2; total time=   0.0s\n",
      "[CV] END .................................n_neighbors=8, p=2; total time=   0.0s\n",
      "[CV] END .................................n_neighbors=9, p=1; total time=   0.0s\n",
      "[CV] END .................................n_neighbors=9, p=1; total time=   0.0s\n",
      "[CV] END .................................n_neighbors=9, p=1; total time=   0.0s\n",
      "[CV] END .................................n_neighbors=9, p=1; total time=   0.0s\n",
      "[CV] END .................................n_neighbors=9, p=1; total time=   0.0s\n",
      "[CV] END .................................n_neighbors=9, p=2; total time=   0.0s\n",
      "[CV] END .................................n_neighbors=9, p=2; total time=   0.0s\n",
      "[CV] END .................................n_neighbors=9, p=2; total time=   0.0s\n",
      "[CV] END .................................n_neighbors=9, p=2; total time=   0.0s\n",
      "[CV] END .................................n_neighbors=9, p=2; total time=   0.0s\n",
      "[CV] END ................................n_neighbors=10, p=1; total time=   0.0s\n",
      "[CV] END ................................n_neighbors=10, p=1; total time=   0.0s\n",
      "[CV] END ................................n_neighbors=10, p=1; total time=   0.0s\n",
      "[CV] END ................................n_neighbors=10, p=1; total time=   0.0s\n",
      "[CV] END ................................n_neighbors=10, p=1; total time=   0.1s\n",
      "[CV] END ................................n_neighbors=10, p=2; total time=   0.0s\n",
      "[CV] END ................................n_neighbors=10, p=2; total time=   0.0s\n",
      "[CV] END ................................n_neighbors=10, p=2; total time=   0.0s\n",
      "[CV] END ................................n_neighbors=10, p=2; total time=   0.0s\n",
      "[CV] END ................................n_neighbors=10, p=2; total time=   0.0s\n",
      "最佳模型: {'n_neighbors': 5, 'p': 1} 准确率: 0.9713653323215077\n"
     ]
    }
   ],
   "source": [
    "def model_selection(x_train, y_train):\n",
    "    model = KNeighborsClassifier()\n",
    "    paras = {'n_neighbors': [5, 6, 7, 8, 9, 10], 'p': [1, 2]}\n",
    "    gs = GridSearchCV(model, paras, verbose=2, cv=5)\n",
    "    gs.fit(x_train, y_train)\n",
    "    print('最佳模型:', gs.best_params_, '准确率:', gs.best_score_)\n",
    "    \n",
    "if __name__ == '__main__':\n",
    "    x_train, x_test, y_train, y_test = load_data()\n",
    "    model_selection(x_train, y_train)"
   ]
  },
  {
   "cell_type": "markdown",
   "id": "71b282ef-7b15-4947-959b-95eb452fec40",
   "metadata": {},
   "source": [
    "## 3.模型训练"
   ]
  },
  {
   "cell_type": "code",
   "execution_count": 5,
   "id": "0e4b5e90-6d63-462b-b104-8e36b49080fd",
   "metadata": {},
   "outputs": [],
   "source": [
    "def train(x_train, x_test, y_train, y_test):\n",
    "    model = KNeighborsClassifier(5, p=1)\n",
    "    model.fit(x_train, y_train)\n",
    "    y_pred = model.predict(x_test)\n",
    "    print(classification_report(y_test, y_pred))\n",
    "    print(\"Accuracy: \", model.score(x_test, y_test))"
   ]
  },
  {
   "cell_type": "markdown",
   "id": "04566024-2936-4c50-a1e9-0ae9ce506b22",
   "metadata": {},
   "source": [
    "## 4.运行结果"
   ]
  },
  {
   "cell_type": "code",
   "execution_count": 9,
   "id": "ef8f188c-8012-48f9-91b0-6115902187b9",
   "metadata": {},
   "outputs": [
    {
     "name": "stdout",
     "output_type": "stream",
     "text": [
      "              precision    recall  f1-score   support\n",
      "\n",
      "           0       1.00      1.00      1.00        51\n",
      "           1       0.92      1.00      0.96        57\n",
      "           2       0.96      0.96      0.96        55\n",
      "           3       0.93      0.98      0.96        56\n",
      "           4       1.00      0.94      0.97        51\n",
      "           5       0.96      0.96      0.96        51\n",
      "           6       1.00      1.00      1.00        55\n",
      "           7       0.97      1.00      0.98        60\n",
      "           8       0.91      0.86      0.89        50\n",
      "           9       0.98      0.91      0.94        54\n",
      "\n",
      "    accuracy                           0.96       540\n",
      "   macro avg       0.96      0.96      0.96       540\n",
      "weighted avg       0.96      0.96      0.96       540\n",
      "\n",
      "Accuracy:  0.9629629629629629\n"
     ]
    }
   ],
   "source": [
    "if __name__ == '__main__':\n",
    "    x_train, x_test, y_train, y_test = load_data()\n",
    "    train(x_train, x_test, y_train, y_test)"
   ]
  },
  {
   "cell_type": "markdown",
   "id": "5f081b57-0264-4d65-8443-4d25668a3271",
   "metadata": {},
   "source": [
    "## 实验总结"
   ]
  },
  {
   "cell_type": "markdown",
   "id": "fceb9a86-5e43-4faa-b8b0-16552bed7d13",
   "metadata": {},
   "source": [
    "在本节实验中，我们详细介绍了sklearn中KNN的使用方法，并通过KNN来完成了写手体分类任务。同时，也介绍网格搜索和交叉验证GridSearchCV在建模过程的使用示例。"
   ]
  }
 ],
 "metadata": {
  "kernelspec": {
   "display_name": "Python 3 (ipykernel)",
   "language": "python",
   "name": "python3"
  },
  "language_info": {
   "codemirror_mode": {
    "name": "ipython",
    "version": 3
   },
   "file_extension": ".py",
   "mimetype": "text/x-python",
   "name": "python",
   "nbconvert_exporter": "python",
   "pygments_lexer": "ipython3",
   "version": "3.11.8"
  }
 },
 "nbformat": 4,
 "nbformat_minor": 5
}
