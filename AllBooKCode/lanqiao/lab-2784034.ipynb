{
 "cells": [
  {
   "cell_type": "markdown",
   "id": "75390e21-7774-46e8-8bb4-ffe9314e4e6c",
   "metadata": {},
   "source": [
    "# 【实验】第9.4节实验1之AdaBoosting使用"
   ]
  },
  {
   "cell_type": "markdown",
   "id": "3e82689a-44ed-40b0-8aba-8d93cb2443e5",
   "metadata": {},
   "source": [
    "## 实验介绍"
   ]
  },
  {
   "cell_type": "markdown",
   "id": "43f67674-a961-4f3d-8d81-0fafdb5c198c",
   "metadata": {},
   "source": [
    "在本节实验中，我们将详细介绍sklearn中AdaBoosting集成学习算法的使用示例。"
   ]
  },
  {
   "cell_type": "markdown",
   "id": "05f1a838-05d8-45fb-9cbe-db2d4272c217",
   "metadata": {},
   "source": [
    "### 知识点"
   ]
  },
  {
   "cell_type": "markdown",
   "id": "bc368ee7-c263-40e6-8de2-f9fbbab4cd4a",
   "metadata": {},
   "source": [
    "- AdaBoostClassifier使用方法\n",
    "- 基于AdaBoosting集成学习的鸢尾花分类"
   ]
  },
  {
   "cell_type": "markdown",
   "id": "a60ea455-a479-43f5-9aac-1c0342dfafba",
   "metadata": {},
   "source": [
    "## 1.载入数据集"
   ]
  },
  {
   "cell_type": "code",
   "execution_count": 2,
   "id": "8a80adfa-e98f-4f71-95eb-9fbea31568b0",
   "metadata": {},
   "outputs": [],
   "source": [
    "from sklearn.datasets import load_iris\n",
    "from sklearn.ensemble import AdaBoostClassifier\n",
    "from sklearn.model_selection import train_test_split\n",
    "from sklearn.tree import DecisionTreeClassifier\n",
    "\n",
    "\n",
    "def load_data():\n",
    "    data = load_iris()\n",
    "    x, y = data.data, data.target\n",
    "    x_train, x_test, y_train, y_test \\\n",
    "        = train_test_split(x, y, test_size=0.3, random_state=10)\n",
    "    return x_train, x_test, y_train, y_test\n"
   ]
  },
  {
   "cell_type": "markdown",
   "id": "014ee76d-7d3b-414d-bcbb-12a05a7a3261",
   "metadata": {},
   "source": [
    "## 2.运行结果"
   ]
  },
  {
   "cell_type": "code",
   "execution_count": 6,
   "id": "599a5505-6a64-4dd5-8be3-2a0d5263c9f2",
   "metadata": {},
   "outputs": [
    {
     "name": "stdout",
     "output_type": "stream",
     "text": [
      "模型在测试集上的准确率为： 0.9555555555555556\n"
     ]
    }
   ],
   "source": [
    "if __name__ == '__main__':\n",
    "    x_train, x_test, y_train, y_test = load_data()\n",
    "    dt = DecisionTreeClassifier(criterion='gini', max_features=4, max_depth=1)\n",
    "    model = AdaBoostClassifier(estimator=dt, n_estimators=100,algorithm='SAMME')\n",
    "    model.fit(x_train, y_train)\n",
    "    print(\"模型在测试集上的准确率为：\", model.score(x_test, y_test))\n"
   ]
  },
  {
   "cell_type": "markdown",
   "id": "54735211-30d5-4312-a9c1-8f9775bef60e",
   "metadata": {},
   "source": [
    "## 实验总结"
   ]
  },
  {
   "cell_type": "markdown",
   "id": "cc591dd1-6a9b-4d7e-9d98-9e6deef76365",
   "metadata": {},
   "source": [
    "在本节实验中，我们详细介绍了sklearn中AdaBoosting集成学习算法的使用示例，并以鸢尾花分类为了进行了介绍。"
   ]
  }
 ],
 "metadata": {
  "kernelspec": {
   "display_name": "Python 3 (ipykernel)",
   "language": "python",
   "name": "python3"
  },
  "language_info": {
   "codemirror_mode": {
    "name": "ipython",
    "version": 3
   },
   "file_extension": ".py",
   "mimetype": "text/x-python",
   "name": "python",
   "nbconvert_exporter": "python",
   "pygments_lexer": "ipython3",
   "version": "3.11.8"
  }
 },
 "nbformat": 4,
 "nbformat_minor": 5
}
