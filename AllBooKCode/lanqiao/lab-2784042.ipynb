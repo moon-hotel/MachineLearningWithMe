{
 "cells": [
  {
   "cell_type": "markdown",
   "id": "3e304331-25cc-4ca5-945e-1108f0412ec3",
   "metadata": {},
   "source": [
    "# 【实验】第11.7节从零实现加权kmean聚类"
   ]
  },
  {
   "cell_type": "markdown",
   "id": "13f6a828-4a7b-4a6a-accf-2ff71cd78212",
   "metadata": {},
   "source": [
    "## 实验介绍"
   ]
  },
  {
   "cell_type": "markdown",
   "id": "8fadceab-5cab-4f76-9020-706a17a968e7",
   "metadata": {},
   "source": [
    "在本节内容中，我们将会详细介绍如何从零实现加权Kmeans聚类算法。从整体来看，加权Kmeans聚类算法在整体框架流程上同Kmeans聚类算法一致，仅仅只是多了一步计算维度权重的过程。下面逐一开始进行实现。"
   ]
  },
  {
   "cell_type": "markdown",
   "id": "bc00ee20-1d7a-4482-8d53-6924405fa02a",
   "metadata": {},
   "source": [
    "### 知识点"
   ]
  },
  {
   "cell_type": "markdown",
   "id": "24d87015-3abd-4eee-a63d-ddd872a9f97f",
   "metadata": {},
   "source": [
    "- 从零实现加权Kmeans聚类\n",
    "- 权重公式计算"
   ]
  },
  {
   "cell_type": "markdown",
   "id": "ff1cd1b2-b72b-44ef-99af-e614227eb5cc",
   "metadata": {},
   "source": [
    "## 1.初始化簇中心"
   ]
  },
  {
   "cell_type": "code",
   "execution_count": 1,
   "id": "b2061671-88f2-4758-9c0d-a406de5f73c0",
   "metadata": {},
   "outputs": [],
   "source": [
    "import numpy as np\n",
    "import random\n",
    "import math\n",
    "from sklearn.datasets import make_blobs\n",
    "from sklearn.metrics.cluster import adjusted_rand_score\n",
    "\n",
    "\n",
    "random.seed(10)\n",
    "\n",
    "\n",
    "def InitCentroids(X, K):\n",
    "    n = X.shape[0]\n",
    "    rands_index = np.array(random.sample(range(1, n), K))\n",
    "    centriod = X[rands_index, :]\n",
    "    return centriod"
   ]
  },
  {
   "cell_type": "markdown",
   "id": "054b8dcf-e8f6-40c7-a25f-727f5ecc5c91",
   "metadata": {},
   "source": [
    "## 2.寻找最近簇中心"
   ]
  },
  {
   "cell_type": "code",
   "execution_count": 2,
   "id": "a3194800-7304-45ba-b14f-2cb36810f31c",
   "metadata": {},
   "outputs": [],
   "source": [
    "def findClosestCentroids(X, w, centroids):\n",
    "    n = X.shape[0]\n",
    "    K = centroids.shape[0]\n",
    "    idx = np.zeros(n, dtype=int)\n",
    "    for i in range(n):\n",
    "        subs = centroids - X[i, :]\n",
    "        dimension2 = np.power(subs, 2)\n",
    "        w_dimension2 = w * dimension2\n",
    "        w_distance2 = np.sum(w_dimension2, axis=1)\n",
    "        if math.isnan(w_distance2.sum()) or math.isinf(w_distance2.sum()):\n",
    "            w_distance2 = np.zeros(K)\n",
    "        idx[i] = np.where(w_distance2 == w_distance2.min())[0][0]\n",
    "    return idx"
   ]
  },
  {
   "cell_type": "markdown",
   "id": "3fd6fa7a-20a5-43ad-be5a-1c84db1ca8df",
   "metadata": {},
   "source": [
    "## 3.更新簇中心"
   ]
  },
  {
   "cell_type": "code",
   "execution_count": 3,
   "id": "70c31d64-ed5c-4511-9f80-80c2ec0fc564",
   "metadata": {},
   "outputs": [],
   "source": [
    "def computeCentroids(X, idx, K):\n",
    "    n, m = X.shape\n",
    "    centriod = np.zeros((K, m), dtype=float)\n",
    "    for k in range(K):\n",
    "        index = np.where(idx == k)[0]  # 一个簇一个簇的分开来计算\n",
    "        temp = X[index, :]  # ? by m # 每次先取出一个簇中的所有样本\n",
    "        s = np.sum(temp, axis=0)\n",
    "        centriod[k, :] = s / np.size(index)\n",
    "    return centriod\n"
   ]
  },
  {
   "cell_type": "markdown",
   "id": "d667c561-e59f-4c93-8359-58a943a902aa",
   "metadata": {},
   "source": [
    "## 4.更新权重"
   ]
  },
  {
   "cell_type": "code",
   "execution_count": 4,
   "id": "5fd79521-752a-4f69-bbbd-76a98d261906",
   "metadata": {},
   "outputs": [],
   "source": [
    "def computeWeight(X, centroid, idx, K, belta):\n",
    "    n, m = X.shape\n",
    "    weight = np.zeros(m, dtype=float)\n",
    "    D = np.zeros(m, dtype=float)\n",
    "    for k in range(K):\n",
    "        index = np.where(idx == k)[0]\n",
    "        temp = X[index, :]  # 取第k个簇的所有样本\n",
    "        distance2 = np.power((temp - centroid[k, :]), 2)  # ? by m\n",
    "        D = D + np.sum(distance2, axis=0)  # 所有样本同一维度的距离和\n",
    "    e = 1 / float(belta - 1)\n",
    "    for j in range(m):\n",
    "        temp = D[j] / D\n",
    "        weight[j] = 1 / np.sum((np.power(temp, e)))\n",
    "    return weight"
   ]
  },
  {
   "cell_type": "markdown",
   "id": "9da1fdc5-2d8b-49bc-b759-fa0f0c48c01d",
   "metadata": {},
   "source": [
    "## 5.wkmeans迭代过程"
   ]
  },
  {
   "cell_type": "code",
   "execution_count": 7,
   "id": "b9c92479-ee90-4b99-8501-9e4b801fb239",
   "metadata": {},
   "outputs": [],
   "source": [
    "def wkmeans(X, K, belta=7, max_iter=50):\n",
    "    n, m = X.shape\n",
    "    r = np.random.rand(1, m)\n",
    "    w = np.divide(r, r.sum())\n",
    "    centroids = InitCentroids(X, K)\n",
    "    idx = None\n",
    "    for i in range(max_iter):\n",
    "        idx = findClosestCentroids(X, w, centroids)\n",
    "        centroids = computeCentroids(X, idx, K)\n",
    "        w = computeWeight(X, centroids, idx, K, belta)\n",
    "    return idx\n"
   ]
  },
  {
   "cell_type": "markdown",
   "id": "ca0aedd5-da9e-4c12-84f0-7d8ba1105443",
   "metadata": {},
   "source": [
    "## 6.构建数据集"
   ]
  },
  {
   "cell_type": "code",
   "execution_count": 6,
   "id": "f43ba206-51cf-4c60-8034-a476f4ad1328",
   "metadata": {},
   "outputs": [],
   "source": [
    "def make_data():\n",
    "    from sklearn.preprocessing import StandardScaler\n",
    "    np.random.seed(100)\n",
    "    centers = [[2.5, 1], [3.8, 1], [3, 2.5]]  # 指定簇中心\n",
    "    x, y = make_blobs(n_samples=900, centers=centers, cluster_std=0.35, random_state=200)\n",
    "    noise = np.reshape(np.sin(2 * x[:, 0] * x[:, 1]), [-1, 1])\n",
    "    x_noise = np.hstack([x, noise])\n",
    "    ss = StandardScaler()\n",
    "    x_noise = ss.fit_transform(x_noise)\n",
    "    return x, y, x_noise"
   ]
  },
  {
   "cell_type": "markdown",
   "id": "382f3140-3e1f-48a3-b57b-0fd06a1e3646",
   "metadata": {},
   "source": [
    "## 7.运行结果"
   ]
  },
  {
   "cell_type": "code",
   "execution_count": 8,
   "id": "86360c13-2375-4660-9f1a-ff65d3defdfd",
   "metadata": {},
   "outputs": [
    {
     "name": "stdout",
     "output_type": "stream",
     "text": [
      "ARI without noise:  0.9123928340359085\n",
      "ARI with noise :  0.9024712598542746\n"
     ]
    }
   ],
   "source": [
    "if __name__ == '__main__':\n",
    "    x, y, x_noise = make_data()\n",
    "    y_pred = wkmeans(x, 3, belta=3)\n",
    "    ARI = adjusted_rand_score(y, y_pred)\n",
    "    print(\"ARI without noise: \", ARI)\n",
    "\n",
    "    y_pred = wkmeans(x_noise, 3, belta=3)\n",
    "    ARI = adjusted_rand_score(y, y_pred)\n",
    "    print(\"ARI with noise : \", ARI)\n",
    "\n",
    "    # ARI without noise:  0.9123928340359085\n",
    "    # ARI with noise :  0.9024712598542746"
   ]
  },
  {
   "cell_type": "markdown",
   "id": "c085c381-3351-4b19-bf39-07d15af95a0c",
   "metadata": {},
   "source": [
    "## 实验总结"
   ]
  },
  {
   "cell_type": "markdown",
   "id": "eb34a443-f779-4061-973d-bc25e07bc5c3",
   "metadata": {},
   "source": [
    "在本节内容中，我们详细介绍了如何从零实现加权Kmeans聚类算法。从整体来看，加权Kmeans多了一步计算维度权重的过程，其余部分同之前的实现过程类似。"
   ]
  }
 ],
 "metadata": {
  "kernelspec": {
   "display_name": "Python 3 (ipykernel)",
   "language": "python",
   "name": "python3"
  },
  "language_info": {
   "codemirror_mode": {
    "name": "ipython",
    "version": 3
   },
   "file_extension": ".py",
   "mimetype": "text/x-python",
   "name": "python",
   "nbconvert_exporter": "python",
   "pygments_lexer": "ipython3",
   "version": "3.11.8"
  }
 },
 "nbformat": 4,
 "nbformat_minor": 5
}
