{
 "cells": [
  {
   "cell_type": "markdown",
   "id": "db8dc4e2-4fab-4499-96a8-d7794a2dc759",
   "metadata": {},
   "source": [
    "# 【实验】第9.2节实验2随机森林特征重要性评估"
   ]
  },
  {
   "cell_type": "markdown",
   "id": "63dd0ba2-ca53-49bc-a69f-6e8f53377612",
   "metadata": {},
   "source": [
    "## 实验介绍"
   ]
  },
  {
   "cell_type": "markdown",
   "id": "f59c17ff-2c51-4a2c-8011-c940cd6e147e",
   "metadata": {},
   "source": [
    "在本节内容中，我们将详细介绍如何利用RandomForestClassifier随机森林来获得数据样本中各个特征维度的重要性。"
   ]
  },
  {
   "cell_type": "markdown",
   "id": "88eac0f0-3ca5-4ecc-9a45-28b9c26f12d3",
   "metadata": {},
   "source": [
    "### 知识点"
   ]
  },
  {
   "cell_type": "markdown",
   "id": "3e8db086-f531-47be-a6f0-80ac4d768e20",
   "metadata": {},
   "source": [
    "- RandomForestClassifier中的特征重要性评估"
   ]
  },
  {
   "cell_type": "markdown",
   "id": "b8b91e39-c548-4637-9aa5-8787ee8feef3",
   "metadata": {},
   "source": [
    "## 1. 载入数据集"
   ]
  },
  {
   "cell_type": "code",
   "execution_count": 2,
   "id": "d3bb5d11-c6f9-4334-b8b1-5c068a88d8ec",
   "metadata": {},
   "outputs": [],
   "source": [
    "from sklearn.ensemble import RandomForestClassifier\n",
    "from sklearn import tree\n",
    "import graphviz\n",
    "from sklearn.datasets import load_iris\n",
    "from sklearn.model_selection import train_test_split\n",
    "\n",
    "\n",
    "def load_data():\n",
    "    data = load_iris()\n",
    "    x, y = data.data, data.target\n",
    "    feature_names = data.feature_names\n",
    "    x_train, x_test, y_train, y_test \\\n",
    "        = train_test_split(x, y, test_size=0.3, random_state=1)\n",
    "    return x_train, x_test, y_train, y_test, feature_names"
   ]
  },
  {
   "cell_type": "markdown",
   "id": "62044da4-c8f8-4120-bd73-f90b0d11a6cd",
   "metadata": {},
   "source": [
    "## 2. 运行结果"
   ]
  },
  {
   "cell_type": "code",
   "execution_count": 3,
   "id": "8e12a12d-92ae-4c22-86c4-a43cb10722a8",
   "metadata": {},
   "outputs": [
    {
     "name": "stdout",
     "output_type": "stream",
     "text": [
      "(105, 4)\n",
      "所有的决策树模型： [DecisionTreeClassifier(max_features=3, random_state=1872583848), DecisionTreeClassifier(max_features=3, random_state=794921487)]\n",
      "1\n",
      "特征名称： ['sepal length (cm)', 'sepal width (cm)', 'petal length (cm)', 'petal width (cm)']\n",
      "feature_importances_： [0.         0.         0.72939266 0.27060734]\n",
      "每个决策树各自的特征重要性(未标准化)：\n",
      " [[0.         0.         0.33823129 0.31900227]\n",
      " [0.         0.         0.6189899  0.03661101]]\n",
      "每个决策树各自的特征重要性(标准化后)：\n",
      " [[0.         0.         0.51462876 0.48537124]\n",
      " [0.         0.         0.94415656 0.05584344]]\n",
      "随机森林计算得到的特征重要性：\n",
      "[0.         0.         0.72939266 0.27060734]\n"
     ]
    }
   ],
   "source": [
    "\n",
    "if __name__ == '__main__':\n",
    "    x_train, x_test, y_train, y_test, feature_names = load_data()\n",
    "    print(x_train.shape)\n",
    "    model = RandomForestClassifier(n_estimators=2,\n",
    "                                   random_state=2,\n",
    "                                   max_features=3,\n",
    "                                   )\n",
    "    model.fit(x_train, y_train)\n",
    "\n",
    "    print(\"所有的决策树模型：\", model.estimators_)  # 输出所有的决策树\n",
    "    imps = []\n",
    "    print(model.n_outputs_)\n",
    "    for i in range(2):\n",
    "        dot_data = tree.export_graphviz(model.estimators_[i], out_file=None,\n",
    "                                        feature_names=feature_names,\n",
    "                                        # filled=True, rounded=True,\n",
    "                                        special_characters=True)\n",
    "        imp = model.estimators_[i].tree_.compute_feature_importances(normalize=False)\n",
    "\n",
    "        # print(model.estimators_[i].tree_.value)\n",
    "        # print(model.estimators_[i].tree_.impurity)\n",
    "        imps.append(imp)\n",
    "        graph = graphviz.Source(dot_data)\n",
    "        graph.render(f\"iris{i}\")\n",
    "    # print(model.score(x_test, y_test))\n",
    "    import numpy as np\n",
    "\n",
    "    print(\"特征名称：\", feature_names)\n",
    "    print(\"feature_importances_：\", model.feature_importances_)\n",
    "    a = np.vstack(imps)\n",
    "    print(\"每个决策树各自的特征重要性(未标准化)：\\n\", a)\n",
    "    print(\"每个决策树各自的特征重要性(标准化后)：\\n\", a / a.sum(axis=1, keepdims=True))\n",
    "    print(\"随机森林计算得到的特征重要性：\")\n",
    "    imp_s = a / a.sum(axis=1, keepdims=True)\n",
    "    print(imp_s.mean(axis=0))\n"
   ]
  },
  {
   "cell_type": "markdown",
   "id": "709b1554-27ba-4414-895a-0e7d3c199493",
   "metadata": {},
   "source": [
    "## 实验总结"
   ]
  },
  {
   "cell_type": "markdown",
   "id": "b7b95395-7312-4ea5-8832-6b8fd7f9ea86",
   "metadata": {},
   "source": [
    "在本节内容中，我们将详细介绍如何利用RandomForestClassifier随机森林来获得数据样本中各个特征维度的重要性。"
   ]
  }
 ],
 "metadata": {
  "kernelspec": {
   "display_name": "Python 3 (ipykernel)",
   "language": "python",
   "name": "python3"
  },
  "language_info": {
   "codemirror_mode": {
    "name": "ipython",
    "version": 3
   },
   "file_extension": ".py",
   "mimetype": "text/x-python",
   "name": "python",
   "nbconvert_exporter": "python",
   "pygments_lexer": "ipython3",
   "version": "3.11.8"
  }
 },
 "nbformat": 4,
 "nbformat_minor": 5
}
