{
 "cells": [
  {
   "cell_type": "markdown",
   "id": "524a3748-e930-4d56-8f27-bc3d7ceddbaf",
   "metadata": {},
   "source": [
    "## SMO算法实现"
   ]
  },
  {
   "cell_type": "markdown",
   "id": "523e90b6-63a1-4ff5-9b52-cf8f5962e5e5",
   "metadata": {},
   "source": [
    "### 1.计算$w$及核函数实现"
   ]
  },
  {
   "cell_type": "code",
   "execution_count": 4,
   "id": "4ec7f722-f221-4c33-8d28-62053af52571",
   "metadata": {},
   "outputs": [],
   "source": [
    "import numpy as np\n",
    "\n",
    "\n",
    "def compute_w(data_x, data_y, alphas):\n",
    "    p1 = data_y.reshape(-1, 1) * data_x\n",
    "    p2 = alphas.reshape(-1, 1) * p1\n",
    "    return np.sum(p2, axis=0)\n",
    "\n",
    "def kernel(x1, x2):\n",
    "    return np.dot(x1, x2)"
   ]
  },
  {
   "cell_type": "markdown",
   "id": "26a56c1d-ac57-44ce-86fe-72156504db8c",
   "metadata": {},
   "source": [
    "### 2.辅助变量计算实现"
   ]
  },
  {
   "cell_type": "code",
   "execution_count": 7,
   "id": "60d1328d-d478-486c-99ba-7079aa5b53a4",
   "metadata": {},
   "outputs": [],
   "source": [
    "def f_x(data_x, data_y, alphas, x, b):\n",
    "    \"\"\"\n",
    "\n",
    "    :param data_x:  shape (m,n)\n",
    "    :param data_y:  shape (m,)\n",
    "    :param alphas:  shape (m,)\n",
    "    :param x:       shape (n,)\n",
    "    :param b:       shape (1,)\n",
    "    :return:\n",
    "    \"\"\"\n",
    "    k = kernel(data_x, x)\n",
    "    r = alphas * data_y * k\n",
    "    return np.sum(r) + b\n",
    "\n",
    "\n",
    "def compute_eta(x_1, x_2):\n",
    "    return kernel(x_1, x_1) - 2 * kernel(x_1, x_2) + kernel(x_2, x_2)\n",
    "\n",
    "def compute_E_i(f_x_i, y_i):\n",
    "    return f_x_i - y_i\n",
    "\n",
    "\n",
    "def compute_alpha_2(alpha_2, E_1, E_2, y_2, eta):\n",
    "    return alpha_2 + (y_2 * (E_1 - E_2) / eta)\n",
    "\n",
    "\n",
    "def compute_L_H(C, alpha_1, alpha_2, y_1, y_2):\n",
    "    L = np.max((0., alpha_2 - alpha_1))\n",
    "    H = np.min((C, C + alpha_2 - alpha_1))\n",
    "    if y_1 == y_2:\n",
    "        L = np.max((0., alpha_1 + alpha_2 - C))\n",
    "        H = np.min((C, alpha_1 + alpha_2))\n",
    "    return L, H\n",
    "\n",
    "\n",
    "def clip_alpha_2(alpha_2, H, L):\n",
    "    if alpha_2 > H:\n",
    "        return H\n",
    "    if alpha_2 < L:\n",
    "        return L\n",
    "    return alpha_2\n",
    "\n",
    "\n",
    "def compute_alpha_1(alpha_1, y_1, y_2, alpha_2, alpha_old_2):\n",
    "    return alpha_1 + y_1 * y_2 * (alpha_old_2 - alpha_2)\n",
    "\n",
    "\n",
    "def compute_b1(b, E_1, y_1, alpha_1, alpha_old_1,\n",
    "               x_1, y_2, alpha_2, alpha_2_old, x_2):\n",
    "    p1 = b - E_1 - y_1 * (alpha_1 - alpha_old_1) * kernel(x_1, x_1)\n",
    "    p2 = y_2 * (alpha_2 - alpha_2_old) * kernel(x_1, x_2)\n",
    "    return p1 - p2\n",
    "\n",
    "\n",
    "def compute_b2(b, E_2, y_1, alpha_1, alpha_old_1,\n",
    "               x_1, x_2, y_2, alpha_2, alpha_2_old):\n",
    "    p1 = b - E_2 - y_1 * (alpha_1 - alpha_old_1) * kernel(x_1, x_2)\n",
    "    p2 = y_2 * (alpha_2 - alpha_2_old) * kernel(x_2, x_2)\n",
    "    return p1 - p2\n",
    "\n",
    "\n",
    "def clip_b(alpha_1, alpha_2, b1, b2, C):\n",
    "    if alpha_1 > 0 and alpha_1 < C:\n",
    "        return b1\n",
    "    if alpha_2 > 0 and alpha_2 < C:\n",
    "        return b2\n",
    "    return (b1 + b2) / 2\n",
    "\n",
    "\n",
    "def select_j(i, m):\n",
    "    j = np.random.randint(m)\n",
    "    while i == j:\n",
    "        j = np.random.randint(m)\n",
    "    return j"
   ]
  },
  {
   "cell_type": "markdown",
   "id": "370d3819-db6b-439b-97bf-407c447a5ca3",
   "metadata": {},
   "source": [
    "### 3.smo算法计算实现"
   ]
  },
  {
   "cell_type": "code",
   "execution_count": 8,
   "id": "1b473379-8c89-4d21-868c-9972449cc468",
   "metadata": {},
   "outputs": [],
   "source": [
    "def smo(C, tol, max_passes, data_x, data_y):\n",
    "    \"\"\"\n",
    "    SMO求解步骤实现\n",
    "    :param C:惩罚系数\n",
    "    :param tol: 误差容忍度\n",
    "    :param max_passes:当alpha_i不再发生变化时继续迭代更新的最大次数;\n",
    "    :param data_x: 训练集特征\n",
    "    :param data_y: 训练集标签\n",
    "    :return:\n",
    "    \"\"\"\n",
    "    m, n = data_x.shape\n",
    "    b, passes = 0., 0\n",
    "    alphas = np.zeros(shape=(m))\n",
    "    alphas_old = np.zeros(shape=(m))\n",
    "    while passes < max_passes:\n",
    "        num_changed_alphas = 0\n",
    "        for i in range(m):\n",
    "            x_i, y_i, alpha_i = data_x[i], data_y[i], alphas[i]\n",
    "            f_x_i = f_x(data_x, data_y, alphas, x_i, b)\n",
    "            E_i = compute_E_i(f_x_i, y_i)\n",
    "            if ((y_i * E_i < -tol and alpha_i < C) or (y_i * E_i > tol and alpha_i > 0.)):\n",
    "                j = select_j(i, m)\n",
    "                x_j, y_j, alpha_j = data_x[j], data_y[j], alphas[j]\n",
    "                f_x_j = f_x(data_x, data_y, alphas, x_j, b)\n",
    "                E_j = compute_E_i(f_x_j, y_j)\n",
    "                alphas_old[i], alphas_old[j] = alpha_i, alpha_j\n",
    "                L, H = compute_L_H(C, alpha_i, alpha_j, y_i, y_j)\n",
    "                if L == H:\n",
    "                    continue\n",
    "                eta = compute_eta(x_i, x_j)\n",
    "                if eta <= 0:\n",
    "                    continue\n",
    "                alpha_j = compute_alpha_2(alpha_j, E_i, E_j, y_j, eta)\n",
    "                alpha_j = clip_alpha_2(alpha_j, H, L)\n",
    "                alphas[j] = alpha_j\n",
    "                if np.abs(alpha_j - alphas_old[j]) < 10e-5:\n",
    "                    continue\n",
    "                alpha_i = compute_alpha_1(alpha_i, y_i, y_j, alpha_j, alphas_old[j])\n",
    "                b1 = compute_b1(b, E_i, y_i, alpha_i, alphas_old[i], x_i, y_i, alpha_j, alphas_old[j], x_j)\n",
    "                b2 = compute_b2(b, E_j, y_i, alpha_i, alphas_old[i], x_i, x_j, y_j, alpha_j, alphas_old[j])\n",
    "                b = clip_b(alpha_i, alpha_j, b1, b2, C)\n",
    "                num_changed_alphas += 1\n",
    "                alphas[i] = alpha_i\n",
    "\n",
    "        if num_changed_alphas == 0:\n",
    "            passes += 1\n",
    "        else:\n",
    "            passes = 0\n",
    "    return alphas, b"
   ]
  },
  {
   "cell_type": "markdown",
   "id": "e75d5b33-742a-42e1-ac73-b1abffd36efd",
   "metadata": {},
   "source": [
    "### 4.结果运行"
   ]
  },
  {
   "cell_type": "code",
   "execution_count": 9,
   "id": "27db9b70-e987-4013-9484-e1b490ad0849",
   "metadata": {},
   "outputs": [
    {
     "name": "stdout",
     "output_type": "stream",
     "text": [
      "[0.         0.         0.2        0.14246575 0.         0.2\n",
      " 0.14246575 0.         0.        ]\n",
      "2.6337129147835707\n",
      "[-0.18630137 -0.56986301]\n"
     ]
    }
   ],
   "source": [
    "if __name__ == '__main__':\n",
    "    data_x = np.array([[5, 1], [0, 2], [1, 5], [3., 2], [1, 2], [3, 5], [1.5, 6], [4.5, 6], [0, 7]])\n",
    "    data_y = np.array([1, 1, 1, 1, 1, -1, -1, -1, -1])\n",
    "    alphas, b = smo(C=.2, tol=0.001, max_passes=200, data_x=data_x, data_y=data_y)\n",
    "    print(alphas)  # [0.   0.   0.2   0.142   0.   0.2   0.142   0.   0.]\n",
    "    print(b)  # 2.66\n",
    "    w = compute_w(data_x, data_y, alphas)\n",
    "    print(w)  # [-0.186,  -0.569]\n"
   ]
  }
 ],
 "metadata": {
  "kernelspec": {
   "display_name": "Python 3 (ipykernel)",
   "language": "python",
   "name": "python3"
  },
  "language_info": {
   "codemirror_mode": {
    "name": "ipython",
    "version": 3
   },
   "file_extension": ".py",
   "mimetype": "text/x-python",
   "name": "python",
   "nbconvert_exporter": "python",
   "pygments_lexer": "ipython3",
   "version": "3.11.8"
  }
 },
 "nbformat": 4,
 "nbformat_minor": 5
}
