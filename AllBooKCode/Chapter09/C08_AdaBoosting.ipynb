{
 "cells": [
  {
   "cell_type": "markdown",
   "id": "75390e21-7774-46e8-8bb4-ffe9314e4e6c",
   "metadata": {},
   "source": [
    "### 1.载入数据集"
   ]
  },
  {
   "cell_type": "code",
   "execution_count": 2,
   "id": "8a80adfa-e98f-4f71-95eb-9fbea31568b0",
   "metadata": {},
   "outputs": [],
   "source": [
    "from sklearn.datasets import load_iris\n",
    "from sklearn.ensemble import AdaBoostClassifier\n",
    "from sklearn.model_selection import train_test_split\n",
    "from sklearn.tree import DecisionTreeClassifier\n",
    "\n",
    "\n",
    "def load_data():\n",
    "    data = load_iris()\n",
    "    x, y = data.data, data.target\n",
    "    x_train, x_test, y_train, y_test \\\n",
    "        = train_test_split(x, y, test_size=0.3, random_state=10)\n",
    "    return x_train, x_test, y_train, y_test\n"
   ]
  },
  {
   "cell_type": "markdown",
   "id": "014ee76d-7d3b-414d-bcbb-12a05a7a3261",
   "metadata": {},
   "source": [
    "### 2.运行结果"
   ]
  },
  {
   "cell_type": "code",
   "execution_count": 6,
   "id": "599a5505-6a64-4dd5-8be3-2a0d5263c9f2",
   "metadata": {},
   "outputs": [
    {
     "name": "stdout",
     "output_type": "stream",
     "text": [
      "模型在测试集上的准确率为： 0.9555555555555556\n"
     ]
    }
   ],
   "source": [
    "if __name__ == '__main__':\n",
    "    x_train, x_test, y_train, y_test = load_data()\n",
    "    dt = DecisionTreeClassifier(criterion='gini', max_features=4, max_depth=1)\n",
    "    model = AdaBoostClassifier(estimator=dt, n_estimators=100,algorithm='SAMME')\n",
    "    model.fit(x_train, y_train)\n",
    "    print(\"模型在测试集上的准确率为：\", model.score(x_test, y_test))\n"
   ]
  }
 ],
 "metadata": {
  "kernelspec": {
   "display_name": "Python 3 (ipykernel)",
   "language": "python",
   "name": "python3"
  },
  "language_info": {
   "codemirror_mode": {
    "name": "ipython",
    "version": 3
   },
   "file_extension": ".py",
   "mimetype": "text/x-python",
   "name": "python",
   "nbconvert_exporter": "python",
   "pygments_lexer": "ipython3",
   "version": "3.11.8"
  }
 },
 "nbformat": 4,
 "nbformat_minor": 5
}
