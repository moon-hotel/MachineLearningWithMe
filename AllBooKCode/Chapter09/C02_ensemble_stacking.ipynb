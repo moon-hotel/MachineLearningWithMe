{
 "cells": [
  {
   "cell_type": "markdown",
   "id": "7aac8658-3882-4c82-864c-d2570cd34ada",
   "metadata": {},
   "source": [
    "### 1. 导入数据集"
   ]
  },
  {
   "cell_type": "code",
   "execution_count": 2,
   "id": "85cb17bf-4afb-4205-b012-cbf8919e6b6e",
   "metadata": {},
   "outputs": [],
   "source": [
    "from sklearn.ensemble import StackingClassifier\n",
    "from sklearn.linear_model import LogisticRegression\n",
    "from sklearn.naive_bayes import MultinomialNB\n",
    "from sklearn.neighbors import KNeighborsClassifier\n",
    "from sklearn.tree import DecisionTreeClassifier\n",
    "from sklearn.model_selection import train_test_split\n",
    "from sklearn.datasets import load_iris\n",
    "\n",
    "\n",
    "def load_data():\n",
    "    data = load_iris()\n",
    "    x, y = data.data, data.target\n",
    "    x_train, x_test, y_train, y_test \\\n",
    "        = train_test_split(x, y, test_size=0.3)\n",
    "    return x_train, x_test, y_train, y_test\n"
   ]
  },
  {
   "cell_type": "markdown",
   "id": "9057d221-d165-4af1-a982-274f8d7c44ae",
   "metadata": {},
   "source": [
    "### 2. 运行结果"
   ]
  },
  {
   "cell_type": "code",
   "execution_count": 3,
   "id": "4a4e4b18-6044-4f33-a601-60a297e2f516",
   "metadata": {},
   "outputs": [
    {
     "name": "stdout",
     "output_type": "stream",
     "text": [
      "模型在测试集上的准确率为： 0.8666666666666667\n"
     ]
    }
   ],
   "source": [
    "\n",
    "if __name__ == '__main__':\n",
    "    x_train, x_test, y_train, y_test = load_data()\n",
    "    estimators = [('logist', LogisticRegression(max_iter=500)),\n",
    "                  ('knn', KNeighborsClassifier(n_neighbors=3))]\n",
    "    stacking = StackingClassifier(estimators=estimators,\n",
    "                                  final_estimator=DecisionTreeClassifier())\n",
    "    stacking.fit(x_train, y_train)\n",
    "    acc = stacking.score(x_test, y_test)\n",
    "    print(\"模型在测试集上的准确率为：\", acc)\n"
   ]
  }
 ],
 "metadata": {
  "kernelspec": {
   "display_name": "Python 3 (ipykernel)",
   "language": "python",
   "name": "python3"
  },
  "language_info": {
   "codemirror_mode": {
    "name": "ipython",
    "version": 3
   },
   "file_extension": ".py",
   "mimetype": "text/x-python",
   "name": "python",
   "nbconvert_exporter": "python",
   "pygments_lexer": "ipython3",
   "version": "3.11.8"
  }
 },
 "nbformat": 4,
 "nbformat_minor": 5
}
