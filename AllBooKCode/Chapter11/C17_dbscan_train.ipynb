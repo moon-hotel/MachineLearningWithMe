{
 "cells": [
  {
   "cell_type": "markdown",
   "id": "39c2005e-847b-48a7-aae9-989cd9242188",
   "metadata": {},
   "source": [
    "### 基于密度的聚类算法使用示例"
   ]
  },
  {
   "cell_type": "code",
   "execution_count": 1,
   "id": "db5ff3da-2661-4f7d-8c66-7323464235cf",
   "metadata": {},
   "outputs": [
    {
     "name": "stdout",
     "output_type": "stream",
     "text": [
      "DBSCAN 聚类结果兰德系数为: 1.0\n"
     ]
    }
   ],
   "source": [
    "from sklearn.cluster import DBSCAN\n",
    "from sklearn.datasets import make_moons\n",
    "from sklearn.preprocessing import StandardScaler\n",
    "from sklearn.metrics import adjusted_rand_score\n",
    "\n",
    "if __name__ == '__main__':\n",
    "    X, y = make_moons(n_samples=700, noise=0.05, random_state=2020)\n",
    "    X = StandardScaler().fit_transform(X)\n",
    "    db = DBSCAN(eps=0.3, min_samples=10)\n",
    "    db.fit(X)\n",
    "    print(f\"DBSCAN 聚类结果兰德系数为: {adjusted_rand_score(y, db.labels_)}\")\n"
   ]
  }
 ],
 "metadata": {
  "kernelspec": {
   "display_name": "Python 3 (ipykernel)",
   "language": "python",
   "name": "python3"
  },
  "language_info": {
   "codemirror_mode": {
    "name": "ipython",
    "version": 3
   },
   "file_extension": ".py",
   "mimetype": "text/x-python",
   "name": "python",
   "nbconvert_exporter": "python",
   "pygments_lexer": "ipython3",
   "version": "3.11.8"
  }
 },
 "nbformat": 4,
 "nbformat_minor": 5
}
