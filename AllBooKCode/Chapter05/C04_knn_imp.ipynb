{
 "cells": [
  {
   "cell_type": "markdown",
   "id": "a0ce4360-3a51-4406-aa1a-dba5f26f3655",
   "metadata": {},
   "source": [
    "## 1.载入数据"
   ]
  },
  {
   "cell_type": "code",
   "execution_count": 2,
   "id": "a5db7af0-bd10-429a-b17b-bdc4f3a8568f",
   "metadata": {},
   "outputs": [],
   "source": [
    "from sklearn.neighbors import KNeighborsClassifier\n",
    "from sklearn.model_selection import train_test_split\n",
    "from sklearn.neighbors import KDTree\n",
    "from sklearn.datasets import load_iris\n",
    "from sklearn.metrics import accuracy_score\n",
    "import numpy as np\n",
    "\n",
    "\n",
    "def load_data():\n",
    "    x, y = load_iris(return_X_y=True)\n",
    "    x_train, x_test, y_train, y_test = train_test_split(x, y,\n",
    "                                                        test_size=0.3, random_state=20)\n",
    "    return x_train, x_test, y_train, y_test"
   ]
  },
  {
   "cell_type": "markdown",
   "id": "be72066f-3b87-4025-b27f-8a92ec97bd69",
   "metadata": {},
   "source": [
    "## 2.模型实现"
   ]
  },
  {
   "cell_type": "code",
   "execution_count": 3,
   "id": "76403fde-59ad-44f0-9731-822950e5287f",
   "metadata": {},
   "outputs": [],
   "source": [
    "def impl_by_sklearn(x_train, x_test, y_train, y_test, k=5):\n",
    "    model = KNeighborsClassifier(n_neighbors=k, leaf_size=30)\n",
    "    model.fit(x_train, y_train)\n",
    "    y_pred = model.predict(x_test)\n",
    "    print(\"impl_by_sklearn 准确率：\", accuracy_score(y_test, y_pred))\n",
    "\n",
    "\n",
    "def impl_by_ours(x_train, x_test, y_train, y_test, k):\n",
    "    kd_tree = KDTree(x_train, leaf_size=30)  # 构建一颗KD树\n",
    "    dist, ind = kd_tree.query(x_test, k=k)  # 寻找离x_test最近的k个点，返回距离和索引\n",
    "    # dist: shape (n,k) dist[i] 表示离第i个样本点最近的k个样本点的距离，dist[i][0] = 0\n",
    "    # ind: shape (n,k) ind[i] 表示离第i个样本点最近的k个样本点的索引，ind[i][0]是第i个样本点自己本身\n",
    "    query_label = y_train[ind][:, 1:]\n",
    "    y_pred = get_pred_labels(query_label)\n",
    "    print(\"impl_by_ours 准确率：\", accuracy_score(y_test, y_pred))"
   ]
  },
  {
   "cell_type": "markdown",
   "id": "6772b7e8-c9b8-4f80-a5ac-9d99e9d2ffe0",
   "metadata": {},
   "source": [
    "## 3.预测类标"
   ]
  },
  {
   "cell_type": "code",
   "execution_count": 4,
   "id": "730124f6-038a-43fe-8f9f-e122c9cf2da6",
   "metadata": {},
   "outputs": [],
   "source": [
    "def get_pred_labels(query_label):\n",
    "    \"\"\"\n",
    "    根据query_label返回每个样本对应的标签\n",
    "    :param query_label: 二维数组， query_label[i] 表示离第i个样本最近的k-1个样本点对应的正确标签\n",
    "    :return:\n",
    "    \"\"\"\n",
    "    y_pred = [0] * len(query_label)\n",
    "    for i, label in enumerate(query_label):\n",
    "        max_freq = 0\n",
    "        count_dict = {}\n",
    "        for l in label:\n",
    "            count_dict[l] = count_dict.setdefault(l, 0) + 1\n",
    "            if count_dict[l] > max_freq:\n",
    "                max_freq = count_dict[l]\n",
    "                y_pred[i] = l\n",
    "    return np.array(y_pred)"
   ]
  },
  {
   "cell_type": "markdown",
   "id": "f802db1b-43d3-4747-aafd-ce1660c0da8c",
   "metadata": {},
   "source": [
    "## 4.运行结果"
   ]
  },
  {
   "cell_type": "code",
   "execution_count": 5,
   "id": "97b853b8-271a-403a-b88d-9d7a702b6cf3",
   "metadata": {},
   "outputs": [
    {
     "name": "stdout",
     "output_type": "stream",
     "text": [
      "impl_by_sklearn 准确率： 0.9555555555555556\n",
      "impl_by_ours 准确率： 0.9555555555555556\n"
     ]
    }
   ],
   "source": [
    "if __name__ == '__main__':\n",
    "    x_train, x_test, y_train, y_test = load_data()\n",
    "    k = 5\n",
    "    impl_by_sklearn(x_train, x_test, y_train, y_test, k)\n",
    "    impl_by_ours(x_train, x_test, y_train, y_test, k)"
   ]
  }
 ],
 "metadata": {
  "kernelspec": {
   "display_name": "Python 3 (ipykernel)",
   "language": "python",
   "name": "python3"
  },
  "language_info": {
   "codemirror_mode": {
    "name": "ipython",
    "version": 3
   },
   "file_extension": ".py",
   "mimetype": "text/x-python",
   "name": "python",
   "nbconvert_exporter": "python",
   "pygments_lexer": "ipython3",
   "version": "3.11.8"
  }
 },
 "nbformat": 4,
 "nbformat_minor": 5
}
